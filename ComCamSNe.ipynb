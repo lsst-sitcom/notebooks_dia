{
 "cells": [
  {
   "cell_type": "code",
   "execution_count": null,
   "id": "c0bac524",
   "metadata": {},
   "outputs": [],
   "source": [
    "import numpy as np\n",
    "import matplotlib.pyplot as plt\n",
    "import matplotlib\n",
    "import pandas as pd\n",
    "from tqdm import tqdm\n",
    "\n",
    "from scipy.spatial import ConvexHull\n",
    "\n",
    "import lsst.daf.butler as dafButler\n",
    "\n",
    "\n",
    "from mpl_toolkits.axes_grid1 import make_axes_locatable\n",
    "from astropy.visualization import ZScaleInterval, SqrtStretch, ImageNormalize, ManualInterval, AsinhStretch, MinMaxInterval, LogStretch\n",
    "\n",
    "\n",
    "import warnings\n",
    "warnings.filterwarnings('ignore')\n",
    "warnings.simplefilter('ignore')\n",
    "\n",
    "from typing import TYPE_CHECKING, cast\n",
    "\n",
    "import astropy.units as u\n",
    "from astropy.coordinates import SkyCoord\n",
    "\n",
    "plt.set_loglevel('WARNING')\n",
    "\n",
    "from tqdm import tqdm\n",
    "import pandas as pd"
   ]
  },
  {
   "cell_type": "code",
   "execution_count": null,
   "id": "53340c3d",
   "metadata": {},
   "outputs": [],
   "source": [
    "# Load collection\n",
    "repo = '/repo/main'\n",
    "instrument = \"LSSTComCam\"\n",
    "\n",
    "butler_11= dafButler.Butler(repo, collections='LSSTComCam/runs/DRP/DP1/w_2025_11/DM-49472', instrument=instrument)\n",
    "butler_12= dafButler.Butler(repo, collections='LSSTComCam/runs/DRP/DP1/d_2025_03_25/DM-49693', instrument=instrument)\n",
    "butler_13= dafButler.Butler(repo, collections='LSSTComCam/runs/DRP/DP1/w_2025_13/DM-49751', instrument=instrument)\n",
    "butler_14= dafButler.Butler(repo, collections='LSSTComCam/runs/DRP/DP1/w_2025_14/DM-49864', instrument=instrument)\n",
    "butler = dafButler.Butler(repo, collections='LSSTComCam/runs/DRP/DP1/v29_0_0_rc6/DM-50098', instrument=instrument)"
   ]
  },
  {
   "cell_type": "code",
   "execution_count": null,
   "id": "cad4b4e5",
   "metadata": {},
   "outputs": [],
   "source": [
    "obj_refs = butler.query_datasets(\"object\")\n",
    "\n",
    "print(len(obj_refs))"
   ]
  },
  {
   "cell_type": "code",
   "execution_count": null,
   "id": "c9573596",
   "metadata": {},
   "outputs": [],
   "source": [
    "# List of tract indices to process\n",
    "tract_indices = np.arange(0, len(obj_refs))\n",
    "\n",
    "# Initialize lists to hold diaObj and diaSource DataFrames\n",
    "Obj_list = []\n",
    "\n",
    "\n",
    "# Loop through the specified tracts and fetch the data\n",
    "for idx in tqdm(tract_indices):\n",
    "    obj_ref = obj_refs[idx]  # Select the corresponding obj_ref\n",
    "    Object_tract = butler.get(obj_ref)  # Fetch diaObj for this tract \n",
    "    Object_tract = Object_tract.to_pandas()  # Convert to DataFrame   \n",
    "    # Append the results to the lists\n",
    "    Obj_list.append(Object_tract)\n",
    "\n",
    "# Concatenate all diaObj and diaSource DataFrames\n",
    "combined_Obj = pd.concat(Obj_list, ignore_index=False)\n",
    "\n"
   ]
  },
  {
   "cell_type": "code",
   "execution_count": null,
   "id": "dfc51283",
   "metadata": {},
   "outputs": [],
   "source": [
    "combined_Obj = combined_Obj[(combined_Obj['g_ra']>50) & (combined_Obj['g_ra']<63)]"
   ]
  },
  {
   "cell_type": "code",
   "execution_count": null,
   "id": "2e606ec6",
   "metadata": {},
   "outputs": [],
   "source": [
    "comcam_sne = pd.read_csv('comcam_sne.csv',names=['name', 'ra', 'dec'], header=None)"
   ]
  },
  {
   "cell_type": "code",
   "execution_count": null,
   "id": "711a5742",
   "metadata": {},
   "outputs": [],
   "source": [
    "plt.scatter(combined_Obj['g_ra'], combined_Obj['g_dec'])\n",
    "plt.scatter(comcam_sne['ra'], comcam_sne['dec'], color='red', marker='x')\n",
    "plt.xlabel('RA')\n",
    "plt.ylabel('Dec')\n",
    "plt.title('Combined Object Data with SNe, field 1')\n",
    "plt.xlim(51.5, 54)\n",
    "plt.ylim(-29.1, -27)\n",
    "plt.grid()\n",
    "plt.show()"
   ]
  },
  {
   "cell_type": "code",
   "execution_count": null,
   "id": "0ff61eec",
   "metadata": {},
   "outputs": [],
   "source": [
    "plt.scatter(combined_Obj['g_ra'], combined_Obj['g_dec'])\n",
    "plt.scatter(comcam_sne['ra'], comcam_sne['dec'], color='red', marker='x')\n",
    "plt.xlabel('RA')\n",
    "plt.ylabel('Dec')\n",
    "plt.title('Combined Object Data with SNe, field 2')\n",
    "plt.xlim(57.5, 61)\n",
    "plt.ylim(-50.1, -47)\n",
    "plt.grid()\n",
    "plt.show()"
   ]
  },
  {
   "cell_type": "code",
   "execution_count": null,
   "id": "d427af0c",
   "metadata": {},
   "outputs": [],
   "source": [
    "import lsdb"
   ]
  },
  {
   "cell_type": "code",
   "execution_count": null,
   "id": "15d300b7",
   "metadata": {},
   "outputs": [],
   "source": [
    "sne_lsdb = lsdb.from_dataframe(comcam_sne, ra_col='ra', dec_col='dec')"
   ]
  },
  {
   "cell_type": "code",
   "execution_count": null,
   "id": "f5745e08",
   "metadata": {},
   "outputs": [],
   "source": [
    "sne_lsdb"
   ]
  },
  {
   "cell_type": "code",
   "execution_count": null,
   "id": "8ddcfd61",
   "metadata": {},
   "outputs": [],
   "source": [
    "combined_Obj.columns"
   ]
  },
  {
   "cell_type": "code",
   "execution_count": null,
   "id": "bfa7ac5e",
   "metadata": {},
   "outputs": [],
   "source": [
    "combined_Obj_thin = combined_Obj[['objectId','coord_ra', 'coord_dec']]\n",
    "combined_Obj_thin = combined_Obj_thin.rename(columns={'coord_ra': 'ra', 'coord_dec': 'dec'})\n",
    "combined_Obj_thin"
   ]
  },
  {
   "cell_type": "code",
   "execution_count": null,
   "id": "8b2529c4",
   "metadata": {},
   "outputs": [],
   "source": [
    "obj_lsdb = lsdb.from_dataframe(combined_Obj_thin)"
   ]
  },
  {
   "cell_type": "code",
   "execution_count": null,
   "id": "7b06d95e",
   "metadata": {},
   "outputs": [],
   "source": [
    "obj_lsdb"
   ]
  },
  {
   "cell_type": "code",
   "execution_count": null,
   "id": "638277a6",
   "metadata": {},
   "outputs": [],
   "source": [
    "sne_obj_xmatch = sne_lsdb.crossmatch(obj_lsdb, radius_arcsec=0.1, left)"
   ]
  },
  {
   "cell_type": "code",
   "execution_count": null,
   "id": "7058adb6",
   "metadata": {},
   "outputs": [],
   "source": [
    "sne_lsdb."
   ]
  },
  {
   "cell_type": "code",
   "execution_count": null,
   "id": "da3efe43",
   "metadata": {},
   "outputs": [],
   "source": [
    "lsdb_obj = lsdb.crossmatch(comcam_sne, combined_Obj_thin, radius_arcsec=0.5)"
   ]
  },
  {
   "cell_type": "code",
   "execution_count": null,
   "id": "0e90b72c",
   "metadata": {},
   "outputs": [],
   "source": []
  },
  {
   "cell_type": "code",
   "execution_count": null,
   "id": "3764eebf",
   "metadata": {},
   "outputs": [],
   "source": [
    "lsdb_obj_computed = lsdb_obj.compute()"
   ]
  },
  {
   "cell_type": "code",
   "execution_count": null,
   "id": "67b44622",
   "metadata": {},
   "outputs": [],
   "source": [
    "lsdb_obj_computed"
   ]
  },
  {
   "cell_type": "code",
   "execution_count": null,
   "id": "f0f86e4c",
   "metadata": {},
   "outputs": [],
   "source": [
    "object_dp1_full = lsdb.read_hats('/sdf/data/rubin/shared/lsdb_commissioning/hats/v29_0_0/object_collection', search_filter=cone_search)"
   ]
  },
  {
   "cell_type": "code",
   "execution_count": null,
   "id": "7bb6436e",
   "metadata": {},
   "outputs": [],
   "source": [
    "object_dp1_full.columns"
   ]
  },
  {
   "cell_type": "code",
   "execution_count": null,
   "id": "5ff33d8c",
   "metadata": {},
   "outputs": [],
   "source": [
    "from lsdb.core.search import ConeSearch\n",
    "import nested_pandas as npd\n",
    "cone_search_f1 = ConeSearch(ra=58.5, dec=-48, radius_arcsec=5 * 3600)\n",
    "cone_search_f2 = ConeSearch(ra=52.5, dec=-27.5, radius_arcsec=5 * 3600)\n",
    "\n",
    "\n",
    "object_dp1_f1 = lsdb.read_hats('/sdf/data/rubin/shared/lsdb_commissioning/hats/v29_0_0/object_collection', columns=['objectId', \"coord_ra\", \"coord_dec\", 'objectForcedSource'], search_filter=cone_search_f1)\n",
    "object_dp1_f2 = lsdb.read_hats('/sdf/data/rubin/shared/lsdb_commissioning/hats/v29_0_0/object_collection', columns=['objectId', \"coord_ra\", \"coord_dec\", 'objectForcedSource'], search_filter=cone_search_f2)"
   ]
  },
  {
   "cell_type": "code",
   "execution_count": null,
   "id": "105b15c8",
   "metadata": {},
   "outputs": [],
   "source": [
    "object_dp1_computed = object_dp1_f1.compute()\n",
    "object_dp2_computed = object_dp1_f2.compute()"
   ]
  },
  {
   "cell_type": "code",
   "execution_count": null,
   "id": "99c042e2",
   "metadata": {},
   "outputs": [],
   "source": [
    "object_combined = pd.concat([object_dp1_computed, object_dp2_computed], axis=0)"
   ]
  },
  {
   "cell_type": "code",
   "execution_count": null,
   "id": "7b47833a",
   "metadata": {},
   "outputs": [],
   "source": [
    "plt.scatter(object_combined['coord_ra'], object_combined['coord_dec'])\n",
    "plt.scatter(comcam_sne['ra'], comcam_sne['dec'], color='red', marker='x')\n",
    "plt.scatter(lsdb_obj_computed['ra_left'], lsdb_obj_computed['dec_left'], color='orange', marker='x')\n",
    "\n",
    "plt.xlabel('RA')\n",
    "plt.ylabel('Dec')"
   ]
  },
  {
   "cell_type": "code",
   "execution_count": null,
   "id": "268e669d",
   "metadata": {},
   "outputs": [],
   "source": [
    "# Define band → color mapping\n",
    "band_colors = {\n",
    "    'u': 'blue',\n",
    "    'g': 'green',\n",
    "    'r': 'red',\n",
    "    'i': 'orange',\n",
    "    'z': 'purple',\n",
    "    'y': 'brown'\n",
    "}\n",
    "\n",
    "from matplotlib.patches import Patch\n",
    "\n",
    "first_lc = object_dp1_computed[object_dp1_computed['objectId']==591818593281249758].objectForcedSource.iloc[0]\n",
    "\n",
    "# Map colors to each row based on band\n",
    "colors = first_lc['band'].map(band_colors)\n",
    "\n",
    "# Create the plot\n",
    "plt.figure(figsize=(10, 5))\n",
    "plt.scatter(first_lc['midpointMjdTai'], first_lc['psfDiffFlux'],\n",
    "            c=colors, alpha=0.7, edgecolor='k')\n",
    "\n",
    "plt.gca().invert_yaxis()  # Magnitudes: brighter = lower value\n",
    "plt.xlabel('MJD (midpointMjdTai)')\n",
    "plt.ylabel('psfDiffFlux')\n",
    "plt.title('Light Curve Colored by Band')\n",
    "plt.ylim(-2000, 2000)\n",
    "plt.grid(True)\n",
    "\n",
    "# Create manual legend\n",
    "legend_handles = [Patch(color=color, label=band) for band, color in band_colors.items() if band in first_lc['band'].unique()]\n",
    "plt.legend(handles=legend_handles, title='Band', loc='best')\n",
    "\n",
    "plt.show()"
   ]
  },
  {
   "cell_type": "code",
   "execution_count": null,
   "id": "66317e61",
   "metadata": {},
   "outputs": [],
   "source": [
    "object_ids"
   ]
  },
  {
   "cell_type": "code",
   "execution_count": null,
   "id": "20edd243",
   "metadata": {},
   "outputs": [],
   "source": [
    "from matplotlib.patches import Patch\n",
    "import matplotlib.pyplot as plt\n",
    "import numpy as np\n",
    "\n",
    "object_ids = lsdb_obj_computed['objectId_right'].unique()\n",
    "\n",
    "for object_id in object_ids:\n",
    "    matching_rows = object_combined[object_combined['objectId'] == object_id]\n",
    "    if matching_rows.empty:\n",
    "        continue\n",
    "\n",
    "    first_lc = matching_rows.objectForcedSource.iloc[0]\n",
    "    if first_lc is None or first_lc.empty:\n",
    "        continue\n",
    "\n",
    "    combined_row = lsdb_obj_computed[lsdb_obj_computed['objectId_right'] == object_id]\n",
    "    if combined_row.empty:\n",
    "        continue\n",
    "\n",
    "    name = combined_row['name_left'].values[0]\n",
    "    ra = combined_row['ra_right'].values[0]\n",
    "    dec = combined_row['dec_right'].values[0]\n",
    "\n",
    "    # Compute symmetric y-limits around 0 using 95% range\n",
    "    flux = first_lc['psfDiffFlux'].dropna()\n",
    "    if flux.empty:\n",
    "        continue\n",
    "    limit = np.percentile(np.abs(flux), 97.5) + 100\n",
    "    y_min, y_max = -limit, limit\n",
    "\n",
    "    # Start plot\n",
    "    plt.figure(figsize=(10, 5))\n",
    "\n",
    "    # Plot each band with its color\n",
    "    for band, color in band_colors.items():\n",
    "        band_data = first_lc[first_lc['band'] == band]\n",
    "        if band_data.empty:\n",
    "            continue\n",
    "        plt.errorbar(\n",
    "            band_data['midpointMjdTai'],\n",
    "            band_data['psfDiffFlux'],\n",
    "            yerr=band_data['psfDiffFluxErr'],\n",
    "            fmt='o',\n",
    "            color=color,\n",
    "            ecolor=color,\n",
    "            elinewidth=2,\n",
    "            capsize=2,\n",
    "            alpha=0.8,\n",
    "            markeredgecolor='k',\n",
    "            label=band\n",
    "        )\n",
    "\n",
    "    plt.gca().invert_yaxis()\n",
    "    plt.xlabel('MJD (midpointMjdTai)')\n",
    "    plt.ylabel('psfDiffFlux')\n",
    "    plt.title(f'Object: {name} | RA: {ra:.5f}, Dec: {dec:.5f}', fontsize=12)\n",
    "    plt.ylim(y_min, y_max)\n",
    "    plt.xlim(60622, 60658)\n",
    "    plt.grid(True)\n",
    "    plt.legend(title='Band', loc='best')\n",
    "    plt.show()"
   ]
  },
  {
   "cell_type": "code",
   "execution_count": null,
   "id": "175dc7ac",
   "metadata": {},
   "outputs": [],
   "source": [
    "first_lc['psfDiffFluxErr']"
   ]
  },
  {
   "cell_type": "code",
   "execution_count": null,
   "id": "2333cf32",
   "metadata": {},
   "outputs": [],
   "source": [
    "lsdb_obj_computed"
   ]
  },
  {
   "cell_type": "code",
   "execution_count": null,
   "id": "8b02a7e1",
   "metadata": {},
   "outputs": [],
   "source": [
    "2024ahzn,60.36688333333333,-48.51589166666667\n",
    "2024ahxh,58.45505416666666,-48.65107777777778\n",
    "2025efr,60.21437083333333,-48.260730555555554\n",
    "2024ahwc,53.85345833333333,-27.98288333333333\n",
    "2024aeyj,59.5316,-47.92468888888889\n",
    "2024ahzm,58.18194583333333,-48.630272222222224\n",
    "2024ahtp,58.119229166666656,-48.79749722222222\n",
    "2025efu,60.594891666666655,-48.792991666666666\n",
    "2025egc,59.263574999999996,-48.349672222222225\n",
    "2024ahxm,51.91752083333333,-27.946872222222222\n",
    "2024adon,53.45996249999999,-28.82738611111111\n",
    "2024ahxv,59.54062083333333,-49.43626666666666\n",
    "2025egz,59.84871666666666,-48.44846666666666\n",
    "2022vtm,53.383062499999994,-27.154602777777775\n",
    "2024ahwn,52.685316666666665,-27.807183333333334\n",
    "2025ego,57.94811666666666,-49.09705833333334\n",
    "2024ahyq,52.90686249999999,-28.33369722222222\n",
    "2024ahyn,53.646245833333325,-28.655113888888888\n",
    "2025egk,58.870787499999985,-48.92298888888889\n",
    "2024ahuu,53.15265833333332,-28.298616666666668\n",
    "2024ahzc,52.83825416666666,-28.279899999999998\n",
    "2024ahst,58.52061666666666,-49.24156111111111\n",
    "2024ahul,53.80612083333333,-27.7927\n",
    "2024ahza,53.29867083333332,-28.87943611111111\n",
    "2025egw,53.041675,-27.14548333333333\n",
    "2025egl,59.85536249999999,-49.43301111111111\n",
    "2025egs,53.548691666666656,-27.206097222222223\n",
    "2024ahum,58.47711666666666,-49.577444444444446\n",
    "2024ahuo,52.71615416666666,-28.990466666666666\n",
    "2025egj,57.913404166666666,-48.445097222222216\n",
    "2025ehg,52.58514583333333,-28.519927777777777\n",
    "2025egq,53.95270416666666,-28.614255555555555\n"
   ]
  },
  {
   "cell_type": "code",
   "execution_count": null,
   "id": "c233d41b",
   "metadata": {},
   "outputs": [],
   "source": []
  },
  {
   "cell_type": "code",
   "execution_count": null,
   "id": "a93b7da9",
   "metadata": {},
   "outputs": [],
   "source": [
    "2024ahul,53.80612083333333,-27.7927"
   ]
  }
 ],
 "metadata": {
  "kernelspec": {
   "display_name": "Python 3 (ipykernel)",
   "language": "python",
   "name": "python3"
  },
  "language_info": {
   "codemirror_mode": {
    "name": "ipython",
    "version": 3
   },
   "file_extension": ".py",
   "mimetype": "text/x-python",
   "name": "python",
   "nbconvert_exporter": "python",
   "pygments_lexer": "ipython3",
   "version": "3.12.9"
  }
 },
 "nbformat": 4,
 "nbformat_minor": 5
}
