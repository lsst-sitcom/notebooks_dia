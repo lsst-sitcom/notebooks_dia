{
 "cells": [
  {
   "cell_type": "code",
   "execution_count": 17,
   "metadata": {},
   "outputs": [],
   "source": [
    "import numpy as np\n",
    "import matplotlib.pyplot as plt\n",
    "import pandas as pd\n",
    "from tqdm import tqdm\n",
    "\n",
    "import healpy as hp\n",
    "from scipy.spatial import ConvexHull\n",
    "\n",
    "import lsst.daf.butler as dafButler\n",
    "from lsst.analysis.ap import apdb\n",
    "from lsst.ap.association import AssociationTask, AssociationConfig\n",
    "from lsst.dax.apdb import Apdb, ApdbCassandra, ApdbTables\n",
    "import lsst.geom\n",
    "from lsst.afw import image as afwImage\n",
    "\n",
    "from mpl_toolkits.axes_grid1 import make_axes_locatable\n",
    "from astropy.visualization import ZScaleInterval, SqrtStretch, ImageNormalize, ManualInterval, AsinhStretch, MinMaxInterval, LogStretch\n",
    "\n",
    "\n",
    "import warnings\n",
    "warnings.filterwarnings('ignore')\n",
    "warnings.simplefilter('ignore')\n",
    "\n",
    "from typing import TYPE_CHECKING, cast\n",
    "\n",
    "import astropy.units as u\n",
    "from astropy.coordinates import SkyCoord\n",
    "\n",
    "plt.set_loglevel('WARNING')"
   ]
  },
  {
   "cell_type": "markdown",
   "metadata": {},
   "source": [
    "# Custom functions"
   ]
  },
  {
   "cell_type": "code",
   "execution_count": 18,
   "metadata": {},
   "outputs": [],
   "source": [
    "def create_mag_errors(sciFlux, sciFluxErr):\n",
    "    \"\"\"Move flux into magnitudes and calculate the error on the magnitude\n",
    "    \n",
    "    Parameters\n",
    "    ----------\n",
    "    sciFlux : `float`\n",
    "        Science flux\n",
    "    sciFluxErr : `float`\n",
    "        Science flux error\n",
    "\n",
    "    Returns\n",
    "    -------\n",
    "    mag, magerr  : `float`, `float`\n",
    "        Magnitude and magnitude error\n",
    "    \"\"\"\n",
    "    \n",
    "    mag = u.nJy.to(u.ABmag, sciFlux)\n",
    "    upper_mag = u.nJy.to(u.ABmag, sciFlux+sciFluxErr)\n",
    "    lower_mag = u.nJy.to(u.ABmag, sciFlux-sciFluxErr)\n",
    "    magErr = -(upper_mag-lower_mag)/2\n",
    "    \n",
    "    return mag, magErr\n",
    "\n",
    "def create_mag(sciFlux):\n",
    "    \"\"\"Move flux into magnitudes\n",
    "    \n",
    "    Parameters\n",
    "    ----------\n",
    "    sciFlux : `float`\n",
    "        Science flux\n",
    "\n",
    "    Returns\n",
    "    -------\n",
    "    mag  : `float`\n",
    "        Magnitude\n",
    "    \"\"\"\n",
    "    \n",
    "    mag = u.nJy.to(u.ABmag, sciFlux)\n",
    "    \n",
    "    return mag\n",
    "\n",
    "def degrees_to_radians(degrees):\n",
    "    \"\"\"\n",
    "    Convert an angle from degrees to radians.\n",
    "\n",
    "    Parameters:\n",
    "    degrees (float): Angle in degrees.\n",
    "\n",
    "    Returns:\n",
    "    float: Angle in radians (unitless).\n",
    "    \"\"\"\n",
    "    # Convert the input degrees to radians\n",
    "    radians = (degrees * u.deg).to(u.rad)\n",
    "    \n",
    "    # Return the numerical value (without the unit)\n",
    "    return radians.value\n",
    "\n",
    "def radians_to_degrees(radians):\n",
    "    \"\"\"\n",
    "    Convert an angle from radians to degrees.\n",
    "\n",
    "    Parameters:\n",
    "    radians (float): Angle in radians.\n",
    "\n",
    "    Returns:\n",
    "    float: Angle in degrees (unitless).\n",
    "    \"\"\"\n",
    "    # Convert the input radians to degrees\n",
    "    degrees = (radians * u.rad).to(u.deg)\n",
    "    \n",
    "    # Return the numerical value (without the unit)\n",
    "    return degrees.value\n",
    "\n",
    "def flux_to_magnitude(df_single_flux_src):\n",
    "    \"\"\"Magic function that converts flux to magnitude\n",
    "\n",
    "    Args:\n",
    "        df_single_flux_src (_type_): _description_\n",
    "\n",
    "    Returns:\n",
    "        _type_: _description_\n",
    "    \"\"\"\n",
    "    \n",
    "    # Define the zeropoints for each band\n",
    "    zeropoints = {\n",
    "        'u': 12.652350670009373,\n",
    "        'g': 14.689449213373276,\n",
    "        'r': 14.559501946792281,\n",
    "        'i': 14.378976834902065,\n",
    "        'z': 13.993052964496345,\n",
    "        'y': 13.017367314857484\n",
    "    }\n",
    "    \n",
    "    # Create an empty dictionary to hold magnitudes\n",
    "    mag_dict = {}\n",
    "    \n",
    "    # Apply the transformation for each band\n",
    "    for band in zeropoints.keys():\n",
    "        # Make sure the flux column for the band exists in the dataframe\n",
    "        if f'lsst_flux_{band}' in df_single_flux_src.columns:\n",
    "            flux_col = f'lsst_flux_{band}'\n",
    "            mag_col = f'mag_{band}'\n",
    "            \n",
    "            # Calculate magnitudes from flux: mag = zp - 2.5 * log10(flux)\n",
    "            # Handling zero or negative flux values to avoid invalid log10 operations\n",
    "            mag_dict[mag_col] = zeropoints[band] - 2.5 * np.log10(df_single_flux_src[flux_col].replace(0, np.nan))\n",
    "    \n",
    "    # Convert the dictionary to a DataFrame and concatenate with the original dataframe\n",
    "    mag_df = pd.DataFrame(mag_dict)\n",
    "    \n",
    "    # Return the original dataframe with new magnitude columns\n",
    "    return pd.concat([df_single_flux_src, mag_df], axis=1)\n"
   ]
  },
  {
   "cell_type": "code",
   "execution_count": 19,
   "metadata": {},
   "outputs": [],
   "source": [
    "# at the moment comcam only in Cassandra\n",
    "# from lsst.analysis.ap import apdbCassandra\n",
    "# or4_apdb_Cassandra = apdbCassandra.DbCassandraQuery(config_uri='s3://embargo@rubin-summit-users/apdb_config/cassandra/pp_apdb_lsstcomcamsim_or4.py')\n",
    "# comcam_apdb_Cassandra = apdbCassandra.DbCassandraQuery(config_uri='s3://embargo@rubin-summit-users/apdb_config/cassandra/pp_apdb_lsstcomcam.py')"
   ]
  },
  {
   "cell_type": "code",
   "execution_count": null,
   "metadata": {},
   "outputs": [],
   "source": []
  },
  {
   "cell_type": "markdown",
   "metadata": {},
   "source": [
    "# Import data"
   ]
  },
  {
   "cell_type": "code",
   "execution_count": 20,
   "metadata": {},
   "outputs": [],
   "source": [
    "# Load collection\n",
    "repo = \"embargo_new\"\n",
    "collection = \"LSSTComCam/runs/DRP/20241101_20241127/w_2024_48/DM-47841\"\n",
    "instrument = \"LSSTComCam\"\n",
    "\n",
    "butler = dafButler.Butler(repo, collections=collection, instrument=instrument)"
   ]
  },
  {
   "cell_type": "code",
   "execution_count": 21,
   "metadata": {},
   "outputs": [],
   "source": [
    "bands = [\"u\", \"g\", \"r\", \"i\", \"z\", \"y\"]\n",
    "\n",
    "verbose = False\n",
    "\n",
    "for band in bands:\n",
    "    datasetRefs_dia = butler.query_datasets(\"goodSeeingDiff_differenceExp\", where=f\"band='{band}'\")\n",
    "\n",
    "    if verbose:\n",
    "        print(f\"\\nDataset references for band '{band}':\")\n",
    "        for dr in datasetRefs_dia:\n",
    "            print(dr)\n",
    "\n",
    "    print(f\"Found {len(datasetRefs_dia)} differenceExps for band '{band}'\")"
   ]
  },
  {
   "cell_type": "code",
   "execution_count": 22,
   "metadata": {},
   "outputs": [],
   "source": [
    "i = 50\n",
    "data_id = datasetRefs_dia[i].dataId\n",
    "print(data_id)"
   ]
  },
  {
   "cell_type": "code",
   "execution_count": 62,
   "metadata": {},
   "outputs": [],
   "source": [
    "lc_refs = butler.query_datasets(\"diaSourceTable_tract\")\n",
    "obj_refs = butler.query_datasets(\"diaObjectTable_tract\")\n",
    "print(len(lc_refs))\n",
    "print(len(obj_refs))"
   ]
  },
  {
   "cell_type": "code",
   "execution_count": 67,
   "metadata": {},
   "outputs": [],
   "source": [
    "# List of tract indices to process\n",
    "tract_indices = np.arange(0, 43)\n",
    "\n",
    "# Initialize lists to hold diaObj and diaSource DataFrames\n",
    "dia_Obj_list = []\n",
    "diaSource_list = []\n",
    "\n",
    "# Loop through the specified tracts and fetch the data\n",
    "for idx in tract_indices:\n",
    "    obj_ref = obj_refs[idx]  # Select the corresponding obj_ref\n",
    "    dia_Obj = butler.get(obj_ref)  # Fetch diaObj for this tract\n",
    "    diaSource = butler.get('diaSourceTable_tract', dataId=obj_ref.dataId)  # Fetch diaSource for this tract\n",
    "    \n",
    "    # Append the results to the lists\n",
    "    dia_Obj_list.append(dia_Obj)\n",
    "    diaSource_list.append(diaSource)\n",
    "\n",
    "# Concatenate all diaObj and diaSource DataFrames\n",
    "combined_dia_Obj = pd.concat(dia_Obj_list, ignore_index=False)\n",
    "combined_diaSource = pd.concat(diaSource_list, ignore_index=False)\n",
    "\n",
    "dia_Obj = combined_dia_Obj.copy()\n",
    "diaSource = combined_diaSource.copy()\n",
    "\n",
    "# Compute the histogram of nDiaSources\n",
    "counts, bin_edges = np.histogram(combined_dia_Obj['nDiaSources'], bins=40, range=(0, 40))\n",
    "\n",
    "# Take the logarithm (base 10) of the counts\n",
    "log_counts = np.log10(counts + 1)  # Add 1 to avoid log(0)\n",
    "\n",
    "# Plot the histogram\n",
    "plt.bar(bin_edges[:-1], log_counts, width=np.diff(bin_edges), align='edge', edgecolor='black', alpha=0.7)\n",
    "plt.xlabel('Number of diaSources per diaObject')\n",
    "plt.ylabel('Log10(Number of diaObjects)')\n",
    "plt.title('Log Number of diaObjects per Number of Sources per Object')"
   ]
  },
  {
   "cell_type": "markdown",
   "metadata": {},
   "source": []
  },
  {
   "cell_type": "markdown",
   "metadata": {},
   "source": [
    "# Number of diaObjects per magnitude"
   ]
  },
  {
   "cell_type": "code",
   "execution_count": 30,
   "metadata": {},
   "outputs": [],
   "source": [
    "output_string = (\n",
    "    f\"Number of unique visits: {len(np.unique(diaSource['visit']))}, \"\n",
    "    f\"Number of unique diaObjectId: {len(np.unique(diaSource['diaObjectId']))}, \"\n",
    "    f\"Total number of diaSource entries: {len(diaSource)}\"\n",
    ")\n",
    "\n",
    "print(output_string)"
   ]
  },
  {
   "cell_type": "code",
   "execution_count": 31,
   "metadata": {},
   "outputs": [],
   "source": [
    "\"\"\"\n",
    "dia = butler.get(\"goodSeeingDiff_differenceExp\", dataId=data_id)\n",
    "template = butler.get(\"goodSeeingDiff_templateExp\", dataId=data_id)\n",
    "calexp = butler.get(\"calexp\", dataId=data_id)\n",
    "src = butler.get(\"src\", dataId=data_id)\n",
    "dia_src = butler.get(\"goodSeeingDiff_diaSrc\", dataId=data_id)\n",
    "dia_src_table = butler.get(\"goodSeeingDiff_diaSrcTable\", dataId=data_id) \n",
    "\"\"\""
   ]
  },
  {
   "cell_type": "code",
   "execution_count": null,
   "metadata": {},
   "outputs": [],
   "source": []
  },
  {
   "cell_type": "code",
   "execution_count": 32,
   "metadata": {},
   "outputs": [],
   "source": [
    "# Step 1: Calculate mean flux and mean SNR for each diaObjectId in each band\n",
    "mean_flux_per_object_band = diaSource.groupby(['diaObjectId', 'band'])['scienceFlux'].mean().unstack(fill_value=0)\n",
    "mean_snr_per_object_band = diaSource.groupby(['diaObjectId', 'band'])['snr'].mean().unstack(fill_value=-99)\n",
    "\n",
    "# Rename columns dynamically for all bands\n",
    "band_flux_columns = {band: f\"{band}_band_flux_mean\" for band in ['i', 'g', 'r', 'y', 'z', 'u']}\n",
    "band_snr_columns = {band: f\"{band}_band_snr_mean\" for band in ['i', 'g', 'r', 'y', 'z', 'u']}\n",
    "mean_flux_per_object_band = mean_flux_per_object_band.rename(columns=band_flux_columns).reset_index()\n",
    "mean_snr_per_object_band = mean_snr_per_object_band.rename(columns=band_snr_columns).reset_index()\n",
    "\n",
    "# Step 2: Merge mean flux and SNR values into dia_Obj_field\n",
    "dia_Obj_field_updated = dia_Obj.merge(mean_flux_per_object_band, on='diaObjectId', how='left')\n",
    "dia_Obj_field_updated = dia_Obj_field_updated.merge(mean_snr_per_object_band, on='diaObjectId', how='left')\n",
    "\n",
    "# Step 3: Calculate magnitudes for all bands\n",
    "for band in tqdm(['i', 'g', 'r', 'y', 'z', 'u']):\n",
    "    flux_col = f\"{band}_band_flux_mean\"\n",
    "    mag_col = f\"{band}_band_mag\"\n",
    "    dia_Obj_field_updated[mag_col] = dia_Obj_field_updated[flux_col].apply(create_mag)\n",
    "\n",
    "# Replace infinite values with NaN\n",
    "dia_Obj_field_updated.replace([np.inf, -99, -np.inf], np.nan, inplace=True)\n",
    "\n",
    "# Select and display the magnitude columns, SNR, and diaObjectId\n",
    "output_columns = ['diaObjectId'] + \\\n",
    "                 [f\"{band}_band_mag\" for band in ['i', 'g', 'r', 'y', 'z', 'u']] + \\\n",
    "                 [f\"{band}_band_snr_mean\" for band in ['i', 'g', 'r', 'y', 'z', 'u']]\n",
    "\n",
    "result = dia_Obj_field_updated[output_columns]\n",
    "\n",
    "# Display the resulting DataFrame\n",
    "result "
   ]
  },
  {
   "cell_type": "code",
   "execution_count": 33,
   "metadata": {},
   "outputs": [],
   "source": [
    "result"
   ]
  },
  {
   "cell_type": "code",
   "execution_count": 34,
   "metadata": {},
   "outputs": [],
   "source": [
    "result.to_parquet('result.parquet', index=False)\n",
    "\n",
    "print(\"DataFrame saved as 'result.parquet'.\")"
   ]
  },
  {
   "cell_type": "code",
   "execution_count": 35,
   "metadata": {},
   "outputs": [],
   "source": [
    "plt.figure(figsize=(12, 10))\n",
    "plt.suptitle('Number of detected diaObjects, DRP, LSSTComCam/runs/DRP/20241101_20241127/w_2024_48/DM-47841')\n",
    "\n",
    "plt.subplot(6, 1, 1)\n",
    "plt.hist(result['u_band_mag'][~np.isnan(result['u_band_mag'])], color='blue', alpha=0.5, bins=np.arange(15,30,0.1), label='u band detected objects');\n",
    "plt.xlim(15, 30)\n",
    "plt.xlabel('Magnitude')\n",
    "plt.legend();\n",
    "\n",
    "plt.subplot(6, 1, 2)\n",
    "plt.hist(result['g_band_mag'][~np.isnan(result['g_band_mag'])], color='g', alpha=0.5, bins=np.arange(15,30,0.1), label='g band detected objects');\n",
    "plt.xlim(15, 30)\n",
    "plt.xlabel('Magnitude')\n",
    "plt.legend();\n",
    "\n",
    "plt.subplot(6, 1, 3)\n",
    "plt.hist(result['r_band_mag'][~np.isnan(result['r_band_mag'])], color='r', alpha=0.5, bins=np.arange(15,30,0.1), label='r band detected objects');\n",
    "plt.xlim(15, 30)\n",
    "plt.xlabel('Magnitude')\n",
    "plt.legend();\n",
    "\n",
    "plt.subplot(6, 1,4)\n",
    "plt.hist(result['i_band_mag'][~np.isnan(result['i_band_mag'])], color='brown', alpha=0.5, bins=np.arange(15,30,0.1), label='i band detected objects');\n",
    "plt.xlim(15, 30)\n",
    "plt.xlabel('Magnitude')\n",
    "plt.legend();\n",
    "\n",
    "plt.subplot(6, 1,5)\n",
    "plt.hist(result['z_band_mag'][~np.isnan(result['z_band_mag'])], color='darkorange', alpha=0.5, bins=np.arange(15,30,0.1), label='z band detected objects');\n",
    "plt.xlim(15, 30)\n",
    "plt.xlabel('Magnitude')\n",
    "plt.legend();\n",
    "\n",
    "plt.subplot(6, 1,6)\n",
    "plt.hist(result['y_band_mag'][~np.isnan(result['y_band_mag'])], color='gray', alpha=0.5, bins=np.arange(15,30,0.1), label='y band detected objects');\n",
    "plt.xlim(15, 30)\n",
    "plt.xlabel('Magnitude')\n",
    "plt.legend();"
   ]
  },
  {
   "cell_type": "code",
   "execution_count": 36,
   "metadata": {},
   "outputs": [],
   "source": [
    "\n",
    "# Define colors for each band\n",
    "band_colors = {\n",
    "    'u': 'blue',\n",
    "    'g': 'green',\n",
    "    'r': 'red',\n",
    "    'i': 'brown',\n",
    "    'z': 'darkorange',\n",
    "    'y': 'gray'\n",
    "}\n",
    "\n",
    "# Define the bands\n",
    "bands = ['u', 'g', 'r', 'i', 'z', 'y']\n",
    "\n",
    "# Create subplots with one figure per band\n",
    "fig, axes = plt.subplots(len(bands), 1, figsize=(8, 18), sharex=True)\n",
    "fig.suptitle('SNR Distribution Across Bands', fontsize=16)\n",
    "\n",
    "for ax, band in zip(axes, bands):\n",
    "    # Dynamically get the correct SNR column for the current band\n",
    "    column_name = f'{band}_band_snr_mean'\n",
    "    snr_values = result[column_name][~np.isnan(result[column_name])]\n",
    "    \n",
    "    # Plot the histogram for the current band\n",
    "    ax.hist(\n",
    "        snr_values, \n",
    "        color=band_colors[band], \n",
    "        alpha=0.7, \n",
    "        bins=np.arange(0, 30, 0.1), \n",
    "        label=f'{band} band detected objects'\n",
    "    )\n",
    "    ax.set_ylabel('Frequency')\n",
    "    ax.set_title(f'{band} Band')\n",
    "    ax.legend()\n",
    "\n",
    "# Set common x-axis label\n",
    "axes[-1].set_xlabel('SNR')\n",
    "\n",
    "# Adjust layout for better spacing\n",
    "plt.tight_layout(rect=[0, 0, 1, 0.97])  # Leave space for the suptitle\n",
    "plt.show()"
   ]
  },
  {
   "cell_type": "code",
   "execution_count": 38,
   "metadata": {},
   "outputs": [],
   "source": [
    "diaSource.columns"
   ]
  },
  {
   "cell_type": "markdown",
   "metadata": {},
   "source": [
    "# Positive and negative sources"
   ]
  },
  {
   "cell_type": "code",
   "execution_count": 42,
   "metadata": {},
   "outputs": [],
   "source": [
    "# Let us look at the flux distribution of the sources and see if it is reasonably symmetric\n",
    "plt.hist(diaSource['psfFlux'],bins=np.arange(-20000,20000,200));"
   ]
  },
  {
   "cell_type": "code",
   "execution_count": 43,
   "metadata": {},
   "outputs": [],
   "source": [
    "np.sum(diaSource[diaSource['psfFlux']<0]['shape_flag'])/len(diaSource[diaSource['psfFlux']<0]['shape_flag'])"
   ]
  },
  {
   "cell_type": "code",
   "execution_count": 44,
   "metadata": {},
   "outputs": [],
   "source": [
    "single_obj = dia_Obj[dia_Obj['nDiaSources'] > 10].iloc[230]\n",
    "single_obj"
   ]
  },
  {
   "cell_type": "markdown",
   "metadata": {},
   "source": [
    "# MVW plot (i.e., shapes)"
   ]
  },
  {
   "cell_type": "code",
   "execution_count": 59,
   "metadata": {},
   "outputs": [],
   "source": [
    "# Select a specific band, e.g., 'i'\n",
    "selected_band = 'g'\n",
    "src_subselection = diaSource.copy()\n",
    "\n",
    "# Add 'diaSourceId' as a column\n",
    "src_subselection['diaSourceId'] = src_subselection.index\n",
    "\n",
    "# Filter for the selected band\n",
    "# src_subselection = src_subselection[src_subselection['band'] == selected_band]\n",
    "\n",
    "# Subset the relevant columns\n",
    "src_subselection = src_subselection[['diaSourceId', 'ixx', 'iyy', 'ixy', 'ixxPSF', 'iyyPSF', 'ixyPSF', 'snr', 'shape_flag']]\n"
   ]
  },
  {
   "cell_type": "code",
   "execution_count": 61,
   "metadata": {},
   "outputs": [],
   "source": [
    "plt.hist(src_subselection['iyyPSF'],  bins=np.arange(-0.25,0.5,0.005), label='iyyPSF');\n",
    "plt.hist(src_subselection['ixxPSF'],  bins=np.arange(-0.25,0.5,0.005), label='ixxPSF');\n",
    "\n",
    "plt.hist(src_subselection['iyy'],  bins=np.arange(-0.25,0.5,0.005), label='iyy',alpha=0.5);\n",
    "plt.hist(src_subselection['ixx'],  bins=np.arange(-0.25,0.5,0.005), label='ixx', alpha=0.5);\n",
    "\n",
    "plt.xlim(-0.25, 0.5)\n",
    "plt.legend()\n",
    "plt.xlabel('Shape [nmgy*asec2]')\n",
    "plt.ylabel('Counts')\n",
    "plt.title('Shape Histogram of diaSources, all 6 bands, ComCam')"
   ]
  },
  {
   "cell_type": "code",
   "execution_count": null,
   "metadata": {},
   "outputs": [],
   "source": []
  }
 ],
 "metadata": {
  "kernelspec": {
   "display_name": "Python 3 (ipykernel)",
   "language": "python",
   "name": "python3"
  }
 },
 "nbformat": 4,
 "nbformat_minor": 2
}
