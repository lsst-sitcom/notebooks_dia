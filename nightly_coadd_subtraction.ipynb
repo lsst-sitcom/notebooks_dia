{
 "cells": [
  {
   "cell_type": "markdown",
   "id": "da680a3a-c1cb-4904-a963-57db015466d2",
   "metadata": {},
   "source": [
    "Example of subtraction of two nightly coadds\n",
    "\n",
    "Notebook by Michael Wood-Vasey: <wmwv@pitt.edu>  "
   ]
  },
  {
   "cell_type": "code",
   "execution_count": null,
   "id": "11f4c489-c1ec-4dea-9dd8-08a221f8ac5d",
   "metadata": {},
   "outputs": [],
   "source": [
    "import matplotlib.pyplot as plt\n",
    "\n",
    "from lsst.daf.butler import Butler\n",
    "import lsst.afw.display as afwDisplay\n",
    "\n",
    "import lsst.geom\n",
    "\n",
    "import lsst.afw.image\n",
    "from lsst.afw.math import Warper, WarperConfig\n",
    "import lsst.afw.table\n",
    "\n",
    "from lsst.ip.diffim import AlardLuptonSubtractConfig, AlardLuptonSubtractTask\n",
    "from lsst.ip.diffim import GetTemplateConfig, GetTemplateTask\n",
    "from lsst.ip.diffim import DetectAndMeasureConfig, DetectAndMeasureTask"
   ]
  },
  {
   "cell_type": "code",
   "execution_count": null,
   "id": "758b830b-2fde-42e4-9b79-4a8b900461a3",
   "metadata": {},
   "outputs": [],
   "source": [
    "# Choose backend\n",
    "afwDisplay.setDefaultBackend(\"firefly\")"
   ]
  },
  {
   "cell_type": "code",
   "execution_count": null,
   "id": "5e275ec9-a02e-4279-a01a-81b6e0c5f1c9",
   "metadata": {},
   "outputs": [],
   "source": [
    "# Load collection\n",
    "repo = \"embargo_new\"\n",
    "# collection = \"LSSTComCam/nightlyValidation\"\n",
    "# As of 2024-11-12 there are observations from 2024-11-08, 2024-11-09, 2024-11-10, 2024-11-11\n",
    "template_day_obs = \"20241108\"\n",
    "collection_template = f\"LSSTComCam/runs/nightlyValidation/{template_day_obs}/d_2024_11_05/DM-47059\"\n",
    "science_day_obs = \"20241113\"\n",
    "# 20241112 was z band\n",
    "# collection_science = \"LSSTComCam/runs/nightlyValidation/20241112/d_2024_11_05/DM-47059\"\n",
    "collection_science = f\"LSSTComCam/runs/nightlyValidation/{science_day_obs}/d_2024_11_05/DM-47059\"\n",
    "\n",
    "instrument = \"LSSTComCam\"\n",
    "\n",
    "butler_template = Butler(repo, collections=collection_template)\n",
    "butler_science = Butler(repo, collections=collection_science)\n",
    "\n",
    "name_skymap = \"lsst_cells_v1\"\n",
    "skymap = butler_template.get(\"skyMap\", skymap=name_skymap, collections=\"skymaps\")"
   ]
  },
  {
   "cell_type": "markdown",
   "id": "ccf9b7e6-b910-42dd-8c60-44320ea629e3",
   "metadata": {
    "execution": {
     "iopub.execute_input": "2024-11-12T22:04:53.697218Z",
     "iopub.status.busy": "2024-11-12T22:04:53.697073Z",
     "iopub.status.idle": "2024-11-12T22:04:53.699402Z",
     "shell.execute_reply": "2024-11-12T22:04:53.699052Z",
     "shell.execute_reply.started": "2024-11-12T22:04:53.697203Z"
    }
   },
   "source": [
    "### Identify data_ids from campaign\n",
    "Get all of the images from ComCam that contain the RA, Dec of the host galaxy"
   ]
  },
  {
   "cell_type": "code",
   "execution_count": null,
   "id": "55eba4a7-7000-40fc-974f-c3abaef63587",
   "metadata": {},
   "outputs": [],
   "source": [
    "tract, patch = (5063, 24)\n",
    "band = \"r\"\n",
    "\n",
    "template_coadd = butler_template.get(\n",
    "            \"deepCoadd_calexp\",\n",
    "            band=band, patch=patch, tract=tract, skymap=name_skymap\n",
    "        )\n",
    "\n",
    "science_coadd = butler_science.get(\n",
    "            \"deepCoadd_calexp\",\n",
    "            band=band, patch=patch, tract=tract, skymap=name_skymap\n",
    "        )"
   ]
  },
  {
   "cell_type": "code",
   "execution_count": null,
   "id": "c4754158-c7bc-47d6-b3f1-98e5e5ced0ca",
   "metadata": {},
   "outputs": [],
   "source": [
    "science_coadd_src = butler_science.get(\n",
    "            \"deepCoadd_meas\",\n",
    "            band=band, patch=patch, tract=tract, skymap=name_skymap\n",
    "        )"
   ]
  },
  {
   "cell_type": "code",
   "execution_count": null,
   "id": "3629eb1c-1c5a-4496-97df-d4ca5ea629d9",
   "metadata": {},
   "outputs": [],
   "source": [
    "template = template_coadd\n",
    "science = science_coadd\n",
    "science_src = science_coadd_src\n",
    "\n",
    "template_data_id = {\"collection\": collection_template, \"visit\": template_day_obs, \"band\": band, \"tract\": tract, \"patch\": patch}\n",
    "science_data_id = {\"collection\": collection_science, \"visit\": science_day_obs, \"band\": band, \"tract\": tract, \"patch\": patch}"
   ]
  },
  {
   "cell_type": "code",
   "execution_count": null,
   "id": "0af0efd2-6079-484d-b530-15e658c64160",
   "metadata": {},
   "outputs": [],
   "source": [
    "afw_display = afwDisplay.Display(frame=1)"
   ]
  },
  {
   "cell_type": "code",
   "execution_count": null,
   "id": "c5c5f5be-25d9-4e87-bce0-cb2ea39d6171",
   "metadata": {},
   "outputs": [],
   "source": [
    "def warp(science, template):\n",
    "    \"Warp input template image to WCS and Bounding Box of the science image.\"\n",
    "    warper_config = WarperConfig()\n",
    "    warper = Warper.fromConfig(warper_config)\n",
    "\n",
    "    science_wcs = science.getWcs()\n",
    "    science_bbox = science.getBBox()\n",
    "    \n",
    "    warped_template = warper.warpExposure(science_wcs, template, destBBox=science_bbox)\n",
    "    # Add PSF.  I think doing this directly without warping is wrong.\n",
    "    # At least the x,y mapping should be updated\n",
    "    warped_template.setPsf(template.getPsf())\n",
    "    \n",
    "    return warped_template\n",
    "\n",
    "\n",
    "def subtract(science, template, source_catalog, task=None, config=None, already_aligned=False):\n",
    "    # https://github.com/lsst/ip_diffim/blob/main/python/lsst/ip/diffim/subtractImages.py#L196\n",
    "    if config is None and task is None:\n",
    "        config = AlardLuptonSubtractConfig()\n",
    "    if task is None:\n",
    "        task = AlardLuptonSubtractTask(config=config)\n",
    "    # Star Selection is done here:\n",
    "    #   https://github.com/lsst/ip_diffim/blob/main/python/lsst/ip/diffim/subtractImages.py#L603\n",
    "\n",
    "    if not already_aligned:\n",
    "        warped_template = warp(science, template)\n",
    "    else:\n",
    "        warped_template = template\n",
    "    \n",
    "    subtraction = task.run(warped_template, science, source_catalog)\n",
    "    \n",
    "    return subtraction\n",
    "\n",
    "\n",
    "def detect(science, subtraction):\n",
    "    # Run detection on subtraction\n",
    "    detect_and_measure_config = DetectAndMeasureConfig()\n",
    "    detect_and_measure_task = DetectAndMeasureTask(config=detect_and_measure_config)\n",
    "\n",
    "    detect_and_measure = detect_and_measure_task.run(science,\n",
    "                                                     subtraction.matchedTemplate,\n",
    "                                                     subtraction.difference)\n",
    "\n",
    "    return detect_and_measure"
   ]
  },
  {
   "cell_type": "code",
   "execution_count": null,
   "id": "5e72566d-254d-4eaf-a864-7925e2f39eee",
   "metadata": {},
   "outputs": [],
   "source": [
    "subtract_config = AlardLuptonSubtractConfig()\n",
    "# Use signalToNoise cut but turn everything else off\n",
    "subtract_config.sourceSelector.doFluxLimit = False\n",
    "subtract_config.sourceSelector.doFlags = False\n",
    "subtract_config.sourceSelector.doUnresolved = False\n",
    "subtract_config.sourceSelector.doSignalToNoise = True\n",
    "subtract_config.sourceSelector.doIsolated = False\n",
    "subtract_config.sourceSelector.doRequireFiniteRaDec = False\n",
    "subtract_config.sourceSelector.doRequirePrimary = False\n",
    "subtract_config.sourceSelector.doSkySources = False\n",
    "\n",
    "task = AlardLuptonSubtractTask(config=subtract_config)\n",
    "source_catalog = science_src"
   ]
  },
  {
   "cell_type": "code",
   "execution_count": null,
   "id": "00d06e63-7a66-4a2a-b4e3-2369e74b64a5",
   "metadata": {},
   "outputs": [],
   "source": [
    "subtraction = subtract(science, template, source_catalog, task=task)  #, already_aligned=True)"
   ]
  },
  {
   "cell_type": "code",
   "execution_count": null,
   "id": "35e7e37d-eef4-4e17-aeab-ffbecb721bc6",
   "metadata": {},
   "outputs": [],
   "source": [
    "detection_catalog = detect(science, subtraction)\n",
    "dia_src = detection_catalog.diaSources.asAstropy()"
   ]
  },
  {
   "cell_type": "code",
   "execution_count": null,
   "id": "8d37b8b3-c798-46be-83b1-176356c7b2fa",
   "metadata": {},
   "outputs": [],
   "source": [
    "afwDisplay.setDefaultBackend(\"firefly\")\n",
    "afw_display = afwDisplay.Display(frame=1)\n",
    "afw_display.scale(\"asinh\", -1, 5)\n",
    "afw_display.setMaskTransparency(90)\n",
    "afw_display.mtv(subtraction.matchedTemplate)\n",
    "\n",
    "afw_display = afwDisplay.Display(frame=2)\n",
    "afw_display.scale(\"asinh\", -1, 5)\n",
    "afw_display.setMaskTransparency(90)\n",
    "afw_display.mtv(subtraction.matchedScience)\n",
    "\n",
    "afw_display = afwDisplay.Display(frame=3)\n",
    "afw_display.scale(\"linear\", \"zscale\")\n",
    "afw_display.setMaskTransparency(90)\n",
    "afw_display.mtv(subtraction.difference)"
   ]
  },
  {
   "cell_type": "code",
   "execution_count": null,
   "id": "40cf8363-3960-4c99-8cbe-cd84cb9cbe43",
   "metadata": {},
   "outputs": [],
   "source": [
    "snr_threshold = 7.5\n",
    "good = ~dia_src[\"slot_Shape_flag\"] & (dia_src[\"base_PsfFlux_instFlux\"] / dia_src[\"base_PsfFlux_instFluxErr\"] > snr_threshold) & ~dia_src[\"base_PixelFlags_flag_edge\"]\n",
    "good_dia_src = dia_src[good]\n",
    "print(f\"{len(good_dia_src)} good DIA sources found out of {len(dia_src)} detections.\")"
   ]
  },
  {
   "cell_type": "code",
   "execution_count": null,
   "id": "70c905a5-1503-4211-91af-2b66d11fd61a",
   "metadata": {},
   "outputs": [],
   "source": [
    "for s in good_dia_src:\n",
    "    afw_display.dot(\"o\", s[\"base_SdssCentroid_x\"], s[\"base_SdssCentroid_y\"], size=20, ctype=\"blue\")"
   ]
  },
  {
   "cell_type": "code",
   "execution_count": null,
   "id": "2a1e1859-80c9-4cfb-aef4-31dd370b1dce",
   "metadata": {},
   "outputs": [],
   "source": [
    "good_dia_src"
   ]
  },
  {
   "cell_type": "code",
   "execution_count": null,
   "id": "9f7d9d5d-f97e-4876-9619-ebc83906e2fd",
   "metadata": {},
   "outputs": [],
   "source": []
  }
 ],
 "metadata": {
  "kernelspec": {
   "display_name": "LSST",
   "language": "python",
   "name": "lsst"
  },
  "language_info": {
   "codemirror_mode": {
    "name": "ipython",
    "version": 3
   },
   "file_extension": ".py",
   "mimetype": "text/x-python",
   "name": "python",
   "nbconvert_exporter": "python",
   "pygments_lexer": "ipython3",
   "version": "3.11.9"
  }
 },
 "nbformat": 4,
 "nbformat_minor": 5
}
