{
 "cells": [
  {
   "cell_type": "code",
   "execution_count": 1,
   "metadata": {},
   "outputs": [
    {
     "name": "stderr",
     "output_type": "stream",
     "text": [
      "INFO:numexpr.utils:Note: detected 128 virtual cores but NumExpr set to maximum of 64, check \"NUMEXPR_MAX_THREADS\" environment variable.\n",
      "INFO:numexpr.utils:Note: NumExpr detected 128 cores but \"NUMEXPR_MAX_THREADS\" not set, so enforcing safe limit of 8.\n",
      "INFO:numexpr.utils:NumExpr defaulting to 8 threads.\n"
     ]
    }
   ],
   "source": [
    "import numpy as np\n",
    "import matplotlib.pyplot as plt\n",
    "import pandas as pd\n",
    "from tqdm import tqdm\n",
    "import lsst.daf.butler as dafButler\n",
    "\n",
    "plt.set_loglevel('WARNING')"
   ]
  },
  {
   "cell_type": "code",
   "execution_count": 2,
   "metadata": {},
   "outputs": [],
   "source": [
    "# Load collection\n",
    "repo = '/repo/main'\n",
    "instrument = \"LSSTComCam\"\n",
    "butler= dafButler.Butler(repo, collections='u/bos/DM-48672/LSSTComCam_drp_association_v2', instrument=instrument)\n",
    "butler_w04= dafButler.Butler(repo, collections='LSSTComCam/runs/DRP/DP1/w_2025_04/DM-48556', instrument=instrument)"
   ]
  },
  {
   "cell_type": "code",
   "execution_count": 6,
   "metadata": {},
   "outputs": [
    {
     "name": "stdout",
     "output_type": "stream",
     "text": [
      "Number of tracts in diaSourceTable (current): 587\n",
      "Number of tracts in diaSourceTable (current): 586\n"
     ]
    }
   ],
   "source": [
    "lc_refs = butler.query_datasets(\"goodSeeingDiff_assocDiaSrcTable\")\n",
    "lc_refs_04 = butler_w04.query_datasets(\"goodSeeingDiff_assocDiaSrcTable\")\n",
    "\n",
    "print(f\"Number of tracts in diaSourceTable (current): {len(lc_refs)}\")\n",
    "print(f\"Number of tracts in diaSourceTable (current): {len(lc_refs_04)}\")\n"
   ]
  },
  {
   "cell_type": "code",
   "execution_count": null,
   "metadata": {},
   "outputs": [
    {
     "name": "stderr",
     "output_type": "stream",
     "text": [
      "  0%|▏                                                                                                                                                 | 1/587 [00:00<03:26,  2.83it/s]"
     ]
    },
    {
     "name": "stderr",
     "output_type": "stream",
     "text": [
      "100%|████████████████████████████████████████████████████████████████████████████████████████████████████████████████████████████████████████████████| 587/587 [04:10<00:00,  2.34it/s]\n"
     ]
    }
   ],
   "source": [
    "# List of patch indices to process\n",
    "patch_indices = np.arange(0, len(lc_refs))\n",
    "\n",
    "diaSource_list = []\n",
    "\n",
    "# Loop through the specified tracts and fetch the data\n",
    "for idx in tqdm(patch_indices):\n",
    "    obj_ref = lc_refs[idx]  # Select the corresponding obj_ref\n",
    "    diaSource_patch = butler.get('goodSeeingDiff_assocDiaSrcTable', dataId=obj_ref.dataId)  # Fetch diaSource for this patch\n",
    "    diaSource_list.append(diaSource_patch)\n",
    "\n",
    "diaSource = pd.concat(diaSource_list, ignore_index=False)"
   ]
  },
  {
   "cell_type": "code",
   "execution_count": 8,
   "metadata": {},
   "outputs": [
    {
     "name": "stderr",
     "output_type": "stream",
     "text": [
      "  0%|                                                                                                                                                          | 0/586 [00:00<?, ?it/s]"
     ]
    },
    {
     "name": "stderr",
     "output_type": "stream",
     "text": [
      "100%|████████████████████████████████████████████████████████████████████████████████████████████████████████████████████████████████████████████████| 586/586 [01:16<00:00,  7.70it/s]\n"
     ]
    }
   ],
   "source": [
    "# List of patch indices to process\n",
    "patch_indices = np.arange(0, len(lc_refs_04))\n",
    "\n",
    "diaSource_list = []\n",
    "\n",
    "# Loop through the specified tracts and fetch the data\n",
    "for idx in tqdm(patch_indices):\n",
    "    obj_ref = lc_refs_04[idx]  # Select the corresponding obj_ref\n",
    "    diaSource_patch = butler_w04.get('goodSeeingDiff_assocDiaSrcTable', dataId=obj_ref.dataId)  # Fetch diaSource for this patch\n",
    "    diaSource_list.append(diaSource_patch)\n",
    "\n",
    "\n",
    "diaSource_04 = pd.concat(diaSource_list, ignore_index=False)\n"
   ]
  },
  {
   "cell_type": "code",
   "execution_count": 9,
   "metadata": {},
   "outputs": [],
   "source": [
    "# Count the number of unique diaObjectId values for each diaSourceId\n",
    "object_count_per_source = diaSource.groupby(\"diaSourceId\")[\"diaObjectId\"].nunique()\n",
    "\n",
    "# Convert to DataFrame for easier handling\n",
    "object_count_df = object_count_per_source.reset_index()\n",
    "object_count_df.columns = [\"diaSourceId\", \"num_unique_diaObjectId\"]\n",
    "\n",
    "\n",
    "# Count the number of unique diaObjectId values for each diaSourceId\n",
    "object_count_per_source_04 = diaSource_04.groupby(\"diaSourceId\")[\"diaObjectId\"].nunique()\n",
    "\n",
    "# Convert to DataFrame for easier handling\n",
    "object_count_df_04 = object_count_per_source_04.reset_index()\n",
    "object_count_df_04.columns = [\"diaSourceId\", \"num_unique_diaObjectId\"]\n"
   ]
  },
  {
   "cell_type": "code",
   "execution_count": 10,
   "metadata": {},
   "outputs": [
    {
     "data": {
      "text/html": [
       "<div>\n",
       "<style scoped>\n",
       "    .dataframe tbody tr th:only-of-type {\n",
       "        vertical-align: middle;\n",
       "    }\n",
       "\n",
       "    .dataframe tbody tr th {\n",
       "        vertical-align: top;\n",
       "    }\n",
       "\n",
       "    .dataframe thead th {\n",
       "        text-align: right;\n",
       "    }\n",
       "</style>\n",
       "<table border=\"1\" class=\"dataframe\">\n",
       "  <thead>\n",
       "    <tr style=\"text-align: right;\">\n",
       "      <th></th>\n",
       "      <th>diaSourceId</th>\n",
       "      <th>num_unique_diaObjectId</th>\n",
       "    </tr>\n",
       "  </thead>\n",
       "  <tbody>\n",
       "    <tr>\n",
       "      <th>1</th>\n",
       "      <td>190875481648660482</td>\n",
       "      <td>2</td>\n",
       "    </tr>\n",
       "    <tr>\n",
       "      <th>4</th>\n",
       "      <td>190875481648660485</td>\n",
       "      <td>3</td>\n",
       "    </tr>\n",
       "    <tr>\n",
       "      <th>5</th>\n",
       "      <td>190875481648660486</td>\n",
       "      <td>3</td>\n",
       "    </tr>\n",
       "    <tr>\n",
       "      <th>7</th>\n",
       "      <td>190875481648660488</td>\n",
       "      <td>2</td>\n",
       "    </tr>\n",
       "    <tr>\n",
       "      <th>10</th>\n",
       "      <td>190875481648660491</td>\n",
       "      <td>3</td>\n",
       "    </tr>\n",
       "    <tr>\n",
       "      <th>...</th>\n",
       "      <td>...</td>\n",
       "      <td>...</td>\n",
       "    </tr>\n",
       "    <tr>\n",
       "      <th>5083549</th>\n",
       "      <td>192036958950655465</td>\n",
       "      <td>2</td>\n",
       "    </tr>\n",
       "    <tr>\n",
       "      <th>5083550</th>\n",
       "      <td>192036958950655466</td>\n",
       "      <td>2</td>\n",
       "    </tr>\n",
       "    <tr>\n",
       "      <th>5083551</th>\n",
       "      <td>192036958950655467</td>\n",
       "      <td>2</td>\n",
       "    </tr>\n",
       "    <tr>\n",
       "      <th>5083552</th>\n",
       "      <td>192036958950655468</td>\n",
       "      <td>2</td>\n",
       "    </tr>\n",
       "    <tr>\n",
       "      <th>5083554</th>\n",
       "      <td>192036958950655470</td>\n",
       "      <td>2</td>\n",
       "    </tr>\n",
       "  </tbody>\n",
       "</table>\n",
       "<p>1515681 rows × 2 columns</p>\n",
       "</div>"
      ],
      "text/plain": [
       "                diaSourceId  num_unique_diaObjectId\n",
       "1        190875481648660482                       2\n",
       "4        190875481648660485                       3\n",
       "5        190875481648660486                       3\n",
       "7        190875481648660488                       2\n",
       "10       190875481648660491                       3\n",
       "...                     ...                     ...\n",
       "5083549  192036958950655465                       2\n",
       "5083550  192036958950655466                       2\n",
       "5083551  192036958950655467                       2\n",
       "5083552  192036958950655468                       2\n",
       "5083554  192036958950655470                       2\n",
       "\n",
       "[1515681 rows x 2 columns]"
      ]
     },
     "execution_count": 10,
     "metadata": {},
     "output_type": "execute_result"
    }
   ],
   "source": [
    "# diaSources that are associated with more than one diaObject in the new version\n",
    "object_count_df[object_count_df['num_unique_diaObjectId']>1]"
   ]
  },
  {
   "cell_type": "code",
   "execution_count": 12,
   "metadata": {},
   "outputs": [
    {
     "data": {
      "text/html": [
       "<div>\n",
       "<style scoped>\n",
       "    .dataframe tbody tr th:only-of-type {\n",
       "        vertical-align: middle;\n",
       "    }\n",
       "\n",
       "    .dataframe tbody tr th {\n",
       "        vertical-align: top;\n",
       "    }\n",
       "\n",
       "    .dataframe thead th {\n",
       "        text-align: right;\n",
       "    }\n",
       "</style>\n",
       "<table border=\"1\" class=\"dataframe\">\n",
       "  <thead>\n",
       "    <tr style=\"text-align: right;\">\n",
       "      <th></th>\n",
       "      <th>diaSourceId</th>\n",
       "      <th>num_unique_diaObjectId</th>\n",
       "    </tr>\n",
       "  </thead>\n",
       "  <tbody>\n",
       "    <tr>\n",
       "      <th>1</th>\n",
       "      <td>190875481648660482</td>\n",
       "      <td>2</td>\n",
       "    </tr>\n",
       "    <tr>\n",
       "      <th>4</th>\n",
       "      <td>190875481648660485</td>\n",
       "      <td>3</td>\n",
       "    </tr>\n",
       "    <tr>\n",
       "      <th>5</th>\n",
       "      <td>190875481648660486</td>\n",
       "      <td>3</td>\n",
       "    </tr>\n",
       "    <tr>\n",
       "      <th>7</th>\n",
       "      <td>190875481648660488</td>\n",
       "      <td>2</td>\n",
       "    </tr>\n",
       "    <tr>\n",
       "      <th>10</th>\n",
       "      <td>190875481648660491</td>\n",
       "      <td>3</td>\n",
       "    </tr>\n",
       "    <tr>\n",
       "      <th>...</th>\n",
       "      <td>...</td>\n",
       "      <td>...</td>\n",
       "    </tr>\n",
       "    <tr>\n",
       "      <th>5083565</th>\n",
       "      <td>192036958950655465</td>\n",
       "      <td>2</td>\n",
       "    </tr>\n",
       "    <tr>\n",
       "      <th>5083566</th>\n",
       "      <td>192036958950655466</td>\n",
       "      <td>2</td>\n",
       "    </tr>\n",
       "    <tr>\n",
       "      <th>5083567</th>\n",
       "      <td>192036958950655467</td>\n",
       "      <td>2</td>\n",
       "    </tr>\n",
       "    <tr>\n",
       "      <th>5083568</th>\n",
       "      <td>192036958950655468</td>\n",
       "      <td>2</td>\n",
       "    </tr>\n",
       "    <tr>\n",
       "      <th>5083570</th>\n",
       "      <td>192036958950655470</td>\n",
       "      <td>2</td>\n",
       "    </tr>\n",
       "  </tbody>\n",
       "</table>\n",
       "<p>1570328 rows × 2 columns</p>\n",
       "</div>"
      ],
      "text/plain": [
       "                diaSourceId  num_unique_diaObjectId\n",
       "1        190875481648660482                       2\n",
       "4        190875481648660485                       3\n",
       "5        190875481648660486                       3\n",
       "7        190875481648660488                       2\n",
       "10       190875481648660491                       3\n",
       "...                     ...                     ...\n",
       "5083565  192036958950655465                       2\n",
       "5083566  192036958950655466                       2\n",
       "5083567  192036958950655467                       2\n",
       "5083568  192036958950655468                       2\n",
       "5083570  192036958950655470                       2\n",
       "\n",
       "[1570328 rows x 2 columns]"
      ]
     },
     "execution_count": 12,
     "metadata": {},
     "output_type": "execute_result"
    }
   ],
   "source": [
    "# diaSources that are associated with more than one diaObject in the weekly 04\n",
    "object_count_df_04[object_count_df_04['num_unique_diaObjectId']>1]"
   ]
  },
  {
   "cell_type": "code",
   "execution_count": null,
   "metadata": {},
   "outputs": [],
   "source": []
  }
 ],
 "metadata": {
  "kernelspec": {
   "display_name": "Python 3 (ipykernel)",
   "language": "python",
   "name": "python3"
  },
  "language_info": {
   "codemirror_mode": {
    "name": "ipython",
    "version": 3
   },
   "file_extension": ".py",
   "mimetype": "text/x-python",
   "name": "python",
   "nbconvert_exporter": "python",
   "pygments_lexer": "ipython3",
   "version": "3.11.9"
  }
 },
 "nbformat": 4,
 "nbformat_minor": 2
}
