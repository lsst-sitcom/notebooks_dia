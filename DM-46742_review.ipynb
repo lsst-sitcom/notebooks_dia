{
 "cells": [
  {
   "cell_type": "code",
   "execution_count": 1,
   "metadata": {},
   "outputs": [
    {
     "name": "stderr",
     "output_type": "stream",
     "text": [
      "INFO:numexpr.utils:Note: detected 128 virtual cores but NumExpr set to maximum of 64, check \"NUMEXPR_MAX_THREADS\" environment variable.\n",
      "INFO:numexpr.utils:Note: NumExpr detected 128 cores but \"NUMEXPR_MAX_THREADS\" not set, so enforcing safe limit of 8.\n",
      "INFO:numexpr.utils:NumExpr defaulting to 8 threads.\n"
     ]
    }
   ],
   "source": [
    "import numpy as np\n",
    "import matplotlib.pyplot as plt\n",
    "import pandas as pd\n",
    "from tqdm import tqdm\n",
    "import lsst.daf.butler as dafButler\n",
    "\n",
    "plt.set_loglevel('WARNING')"
   ]
  },
  {
   "cell_type": "code",
   "execution_count": 2,
   "metadata": {},
   "outputs": [],
   "source": [
    "# Load collection\n",
    "repo = '/repo/main'\n",
    "instrument = \"LSSTComCam\"\n",
    "butler= dafButler.Butler(repo, collections='u/bos/DM-48672/LSSTComCam_drp_association_v2', instrument=instrument)\n",
    "butler_w04= dafButler.Butler(repo, collections='LSSTComCam/runs/DRP/DP1/w_2025_04/DM-48556', instrument=instrument)"
   ]
  },
  {
   "cell_type": "code",
   "execution_count": null,
   "metadata": {},
   "outputs": [
    {
     "name": "stdout",
     "output_type": "stream",
     "text": [
      "Number of tracts in diaSourceTable (current): 587\n",
      "Number of tracts in diaSourceTable (current): 586\n"
     ]
    }
   ],
   "source": [
    "lc_refs = butler.query_datasets(\"goodSeeingDiff_assocDiaSrcTable\")\n",
    "lc_refs_04 = butler_w04.query_datasets(\"goodSeeingDiff_assocDiaSrcTable\")\n",
    "\n",
    "print(f\"Number of tracts in diaSourceTable (current): {len(lc_refs)}\")\n",
    "print(f\"Number of tracts in diaSourceTable (current): {len(lc_refs_04)}\")\n"
   ]
  },
  {
   "cell_type": "code",
   "execution_count": 15,
   "metadata": {},
   "outputs": [],
   "source": [
    "# Define target tracts\n",
    "target_tracts = {10464, 10463, 10705, 10704}\n",
    "\n",
    "# Filter the dataset references\n",
    "filtered_refs = [ref for ref in lc_refs if ref.dataId['tract'] in target_tracts]\n",
    "filtered_refs_04 = [ref for ref in lc_refs_04 if ref.dataId['tract'] in target_tracts]"
   ]
  },
  {
   "cell_type": "code",
   "execution_count": 16,
   "metadata": {},
   "outputs": [
    {
     "name": "stderr",
     "output_type": "stream",
     "text": [
      "100%|████████████████████████████████████████████████████████████████████████████████████████████████████████████████████████████████████████████████| 146/146 [00:08<00:00, 17.32it/s]\n"
     ]
    }
   ],
   "source": [
    "# List of patch indices to process\n",
    "patch_indices = np.arange(0, len(filtered_refs))\n",
    "\n",
    "diaSource_list = []\n",
    "\n",
    "# Loop through the specified tracts and fetch the data\n",
    "for idx in tqdm(patch_indices):\n",
    "    obj_ref = filtered_refs[idx]  # Select the corresponding obj_ref\n",
    "    diaSource_patch = butler.get('goodSeeingDiff_assocDiaSrcTable', dataId=obj_ref.dataId)  # Fetch diaSource for this patch\n",
    "    diaSource_list.append(diaSource_patch)\n",
    "\n",
    "diaSource = pd.concat(diaSource_list, ignore_index=False)"
   ]
  },
  {
   "cell_type": "code",
   "execution_count": 17,
   "metadata": {},
   "outputs": [
    {
     "name": "stderr",
     "output_type": "stream",
     "text": [
      "  0%|                                                                                                                                                          | 0/145 [00:00<?, ?it/s]"
     ]
    },
    {
     "name": "stderr",
     "output_type": "stream",
     "text": [
      "100%|████████████████████████████████████████████████████████████████████████████████████████████████████████████████████████████████████████████████| 145/145 [00:08<00:00, 17.09it/s]\n"
     ]
    }
   ],
   "source": [
    "# List of patch indices to process\n",
    "patch_indices = np.arange(0, len(filtered_refs_04))\n",
    "\n",
    "diaSource_list = []\n",
    "\n",
    "# Loop through the specified tracts and fetch the data\n",
    "for idx in tqdm(patch_indices):\n",
    "    obj_ref = filtered_refs_04[idx]  # Select the corresponding obj_ref\n",
    "    diaSource_patch = butler_w04.get('goodSeeingDiff_assocDiaSrcTable', dataId=obj_ref.dataId)  # Fetch diaSource for this patch\n",
    "    diaSource_list.append(diaSource_patch)\n",
    "\n",
    "\n",
    "diaSource_04 = pd.concat(diaSource_list, ignore_index=False)\n"
   ]
  },
  {
   "cell_type": "code",
   "execution_count": 18,
   "metadata": {},
   "outputs": [],
   "source": [
    "# Count the number of unique diaObjectId values for each diaSourceId\n",
    "object_count_per_source = diaSource.groupby(\"diaSourceId\")[\"diaObjectId\"].nunique()\n",
    "\n",
    "# Convert to DataFrame for easier handling\n",
    "object_count_df = object_count_per_source.reset_index()\n",
    "object_count_df.columns = [\"diaSourceId\", \"num_unique_diaObjectId\"]\n",
    "\n",
    "\n",
    "# Count the number of unique diaObjectId values for each diaSourceId\n",
    "object_count_per_source_04 = diaSource_04.groupby(\"diaSourceId\")[\"diaObjectId\"].nunique()\n",
    "\n",
    "# Convert to DataFrame for easier handling\n",
    "object_count_df_04 = object_count_per_source_04.reset_index()\n",
    "object_count_df_04.columns = [\"diaSourceId\", \"num_unique_diaObjectId\"]\n"
   ]
  },
  {
   "cell_type": "code",
   "execution_count": 19,
   "metadata": {},
   "outputs": [
    {
     "data": {
      "text/html": [
       "<div>\n",
       "<style scoped>\n",
       "    .dataframe tbody tr th:only-of-type {\n",
       "        vertical-align: middle;\n",
       "    }\n",
       "\n",
       "    .dataframe tbody tr th {\n",
       "        vertical-align: top;\n",
       "    }\n",
       "\n",
       "    .dataframe thead th {\n",
       "        text-align: right;\n",
       "    }\n",
       "</style>\n",
       "<table border=\"1\" class=\"dataframe\">\n",
       "  <thead>\n",
       "    <tr style=\"text-align: right;\">\n",
       "      <th></th>\n",
       "      <th>diaSourceId</th>\n",
       "      <th>num_unique_diaObjectId</th>\n",
       "    </tr>\n",
       "  </thead>\n",
       "  <tbody>\n",
       "    <tr>\n",
       "      <th>160357</th>\n",
       "      <td>191543844066557962</td>\n",
       "      <td>2</td>\n",
       "    </tr>\n",
       "    <tr>\n",
       "      <th>160358</th>\n",
       "      <td>191543844066557963</td>\n",
       "      <td>2</td>\n",
       "    </tr>\n",
       "  </tbody>\n",
       "</table>\n",
       "</div>"
      ],
      "text/plain": [
       "               diaSourceId  num_unique_diaObjectId\n",
       "160357  191543844066557962                       2\n",
       "160358  191543844066557963                       2"
      ]
     },
     "execution_count": 19,
     "metadata": {},
     "output_type": "execute_result"
    }
   ],
   "source": [
    "# diaSources that are associated with more than one diaObject in the new version\n",
    "object_count_df[object_count_df['num_unique_diaObjectId']>1]"
   ]
  },
  {
   "cell_type": "code",
   "execution_count": 20,
   "metadata": {},
   "outputs": [
    {
     "data": {
      "text/html": [
       "<div>\n",
       "<style scoped>\n",
       "    .dataframe tbody tr th:only-of-type {\n",
       "        vertical-align: middle;\n",
       "    }\n",
       "\n",
       "    .dataframe tbody tr th {\n",
       "        vertical-align: top;\n",
       "    }\n",
       "\n",
       "    .dataframe thead th {\n",
       "        text-align: right;\n",
       "    }\n",
       "</style>\n",
       "<table border=\"1\" class=\"dataframe\">\n",
       "  <thead>\n",
       "    <tr style=\"text-align: right;\">\n",
       "      <th></th>\n",
       "      <th>diaSourceId</th>\n",
       "      <th>num_unique_diaObjectId</th>\n",
       "    </tr>\n",
       "  </thead>\n",
       "  <tbody>\n",
       "    <tr>\n",
       "      <th>76</th>\n",
       "      <td>191403211796512845</td>\n",
       "      <td>3</td>\n",
       "    </tr>\n",
       "    <tr>\n",
       "      <th>80</th>\n",
       "      <td>191403211796512849</td>\n",
       "      <td>3</td>\n",
       "    </tr>\n",
       "    <tr>\n",
       "      <th>84</th>\n",
       "      <td>191403211796512853</td>\n",
       "      <td>2</td>\n",
       "    </tr>\n",
       "    <tr>\n",
       "      <th>85</th>\n",
       "      <td>191403211796512854</td>\n",
       "      <td>2</td>\n",
       "    </tr>\n",
       "    <tr>\n",
       "      <th>86</th>\n",
       "      <td>191403211796512855</td>\n",
       "      <td>2</td>\n",
       "    </tr>\n",
       "    <tr>\n",
       "      <th>...</th>\n",
       "      <td>...</td>\n",
       "      <td>...</td>\n",
       "    </tr>\n",
       "    <tr>\n",
       "      <th>245009</th>\n",
       "      <td>191895765117829242</td>\n",
       "      <td>2</td>\n",
       "    </tr>\n",
       "    <tr>\n",
       "      <th>245011</th>\n",
       "      <td>191895765117829244</td>\n",
       "      <td>2</td>\n",
       "    </tr>\n",
       "    <tr>\n",
       "      <th>245012</th>\n",
       "      <td>191895765117829245</td>\n",
       "      <td>2</td>\n",
       "    </tr>\n",
       "    <tr>\n",
       "      <th>245017</th>\n",
       "      <td>191895765117829250</td>\n",
       "      <td>2</td>\n",
       "    </tr>\n",
       "    <tr>\n",
       "      <th>245018</th>\n",
       "      <td>191895765117829251</td>\n",
       "      <td>2</td>\n",
       "    </tr>\n",
       "  </tbody>\n",
       "</table>\n",
       "<p>54715 rows × 2 columns</p>\n",
       "</div>"
      ],
      "text/plain": [
       "               diaSourceId  num_unique_diaObjectId\n",
       "76      191403211796512845                       3\n",
       "80      191403211796512849                       3\n",
       "84      191403211796512853                       2\n",
       "85      191403211796512854                       2\n",
       "86      191403211796512855                       2\n",
       "...                    ...                     ...\n",
       "245009  191895765117829242                       2\n",
       "245011  191895765117829244                       2\n",
       "245012  191895765117829245                       2\n",
       "245017  191895765117829250                       2\n",
       "245018  191895765117829251                       2\n",
       "\n",
       "[54715 rows x 2 columns]"
      ]
     },
     "execution_count": 20,
     "metadata": {},
     "output_type": "execute_result"
    }
   ],
   "source": [
    "# diaSources that are associated with more than one diaObject in the weekly 04\n",
    "object_count_df_04[object_count_df_04['num_unique_diaObjectId']>1]"
   ]
  },
  {
   "cell_type": "code",
   "execution_count": null,
   "metadata": {},
   "outputs": [],
   "source": []
  }
 ],
 "metadata": {
  "kernelspec": {
   "display_name": "Python 3 (ipykernel)",
   "language": "python",
   "name": "python3"
  },
  "language_info": {
   "codemirror_mode": {
    "name": "ipython",
    "version": 3
   },
   "file_extension": ".py",
   "mimetype": "text/x-python",
   "name": "python",
   "nbconvert_exporter": "python",
   "pygments_lexer": "ipython3",
   "version": "3.11.9"
  }
 },
 "nbformat": 4,
 "nbformat_minor": 2
}
