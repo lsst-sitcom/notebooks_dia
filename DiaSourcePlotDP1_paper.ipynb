{
 "cells": [
  {
   "cell_type": "code",
   "execution_count": 1,
   "metadata": {},
   "outputs": [
    {
     "name": "stderr",
     "output_type": "stream",
     "text": [
      "INFO:numexpr.utils:Note: detected 128 virtual cores but NumExpr set to maximum of 64, check \"NUMEXPR_MAX_THREADS\" environment variable.\n",
      "INFO:numexpr.utils:Note: NumExpr detected 128 cores but \"NUMEXPR_MAX_THREADS\" not set, so enforcing safe limit of 16.\n",
      "INFO:numexpr.utils:NumExpr defaulting to 16 threads.\n"
     ]
    }
   ],
   "source": [
    "import numpy as np\n",
    "import pandas as pd\n",
    "import matplotlib.pyplot as plt\n",
    "from lsst.daf.butler import Butler \n",
    "import astropy.units as u\n",
    "from lsst.utils.plotting import publication_plots\n"
   ]
  },
  {
   "cell_type": "code",
   "execution_count": 2,
   "metadata": {},
   "outputs": [],
   "source": [
    "def create_mag(sciFlux):\n",
    "    \"\"\"Move flux into magnitudes\n",
    "    \n",
    "    Parameters\n",
    "    ----------\n",
    "    sciFlux : `float`\n",
    "        Science flux\n",
    "\n",
    "    Returns\n",
    "    -------\n",
    "    mag  : `float`\n",
    "        Magnitude\n",
    "    \"\"\"\n",
    "    \n",
    "    mag = u.nJy.to(u.ABmag, sciFlux)\n",
    "    \n",
    "    return mag"
   ]
  },
  {
   "cell_type": "code",
   "execution_count": 3,
   "metadata": {},
   "outputs": [],
   "source": [
    "# Load collection\n",
    "repo = '/repo/main'\n",
    "instrument = \"LSSTComCam\"\n",
    "butler_13 = Butler(repo, collections='LSSTComCam/runs/DRP/DP1/w_2025_13/DM-49751', instrument=instrument)\n",
    "\n",
    "butler = butler_13\n",
    "lc_refs = butler.query_datasets(\"dia_source\")\n"
   ]
  },
  {
   "cell_type": "code",
   "execution_count": 4,
   "metadata": {},
   "outputs": [
    {
     "name": "stderr",
     "output_type": "stream",
     "text": [
      "/sdf/group/rubin/sw/conda/envs/lsst-scipipe-10.0.0/lib/python3.12/site-packages/astropy/units/function/logarithmic.py:67: RuntimeWarning: invalid value encountered in log10\n",
      "  return dex.to(self._function_unit, np.log10(x))\n"
     ]
    }
   ],
   "source": [
    "tract_indices = np.arange(0, len(lc_refs))\n",
    "\n",
    "# Initialize lists to hold DataFrames\n",
    "diaSource_list = []\n",
    "\n",
    "# Loop through the specified tracts and fetch the data\n",
    "for idx in tract_indices:\n",
    "    lc_ref = lc_refs[idx]  # Select the corresponding obj_ref\n",
    "    try:\n",
    "        # Fetch diaSource for this tract\n",
    "        diaSource = butler.get('dia_source', dataId=lc_ref.dataId)\n",
    "        diaSource_list.append(diaSource)\n",
    "    except FileNotFoundError:\n",
    "        print(f\"Warning: diaSource not found for tract {lc_ref.dataId['tract']}. Skipping.\")\n",
    "\n",
    "# Concatenate all diaObj and diaSource DataFrames if they contain data\n",
    "diaSource = pd.concat(diaSource_list, ignore_index=False) if diaSource_list else pd.DataFrame()\n",
    "\n",
    "# Compute scienceMag\n",
    "diaSource.loc[:, 'scienceMag'] = create_mag(diaSource['scienceFlux'].values)"
   ]
  },
  {
   "cell_type": "code",
   "execution_count": null,
   "metadata": {},
   "outputs": [],
   "source": [
    "publication_plots.set_rubin_plotstyle()\n",
    "bands_dict = publication_plots.get_band_dicts()\n",
    "\n",
    "# Define your bands (adjust to your actual values if needed)\n",
    "bands = [\"u\", \"g\", \"r\", \"i\", \"z\", \"y\"]\n",
    "\n",
    "# Plot: one figure, six lines (one per band)\n",
    "plt.figure(figsize=(10, 6))\n",
    "plt.title('Number of detected diaSources, DRP weekly 13, across all fields', fontsize=16)\n",
    "\n",
    "for band in bands:\n",
    "    band_data = diaSource[diaSource['band'] == band]\n",
    "    \n",
    "    if not band_data.empty:\n",
    "        plt.hist(\n",
    "            band_data['scienceMag'],\n",
    "            bins=np.arange(13, 30, 0.1),\n",
    "            histtype='step',\n",
    "            linewidth=2.5,\n",
    "            color=bands_dict['colors'][band],  # Use the color corresponding to the band        \n",
    "            label=f'Band {band}'\n",
    "        )\n",
    "\n",
    "# Plot formatting\n",
    "plt.xlabel('Magnitude')\n",
    "plt.ylabel('Counts')\n",
    "plt.xlim(13, 30)\n",
    "plt.legend(fontsize=12)\n",
    "plt.grid(True, linestyle='--', alpha=0.5)\n",
    "plt.tight_layout()\n",
    "plt.show()"
   ]
  },
  {
   "cell_type": "code",
   "execution_count": null,
   "metadata": {},
   "outputs": [],
   "source": []
  }
 ],
 "metadata": {
  "kernelspec": {
   "display_name": "Python 3 (ipykernel)",
   "language": "python",
   "name": "python3"
  },
  "language_info": {
   "codemirror_mode": {
    "name": "ipython",
    "version": 3
   },
   "file_extension": ".py",
   "mimetype": "text/x-python",
   "name": "python",
   "nbconvert_exporter": "python",
   "pygments_lexer": "ipython3",
   "version": "3.12.9"
  }
 },
 "nbformat": 4,
 "nbformat_minor": 2
}
