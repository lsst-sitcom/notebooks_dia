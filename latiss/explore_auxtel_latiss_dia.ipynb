{
 "cells": [
  {
   "cell_type": "markdown",
   "id": "9469d80e-d560-4e7c-931c-b73d10574a26",
   "metadata": {},
   "source": [
    "# Explore AuxTel Prompt Processing Subtractions\n",
    "Michael Wood-Vasey  \n",
    "Started: 2023-08-16\n",
    "\n",
    "Goals:\n",
    "1. Locate and load sample AuxTel run from recent observations in 2023 July\n",
    "2. Visualize an image\n",
    "3. Find a subtraction.\n",
    "4. Display template, science, subtraction\n",
    "5. Check out performance of DIA\n",
    "6. Write note with 1-3 suggestions for improvement of DIA\n",
    "\n",
    "References\n",
    "1. Track Prompt Processing AuxTel runs here  \n",
    "    https://confluence.lsstcorp.org/display/DM/Prompt+Processing+with+AuxTel+Imaging+Survey+Data+2023  \n",
    "    \n",
    "LATISS/prompt/output-2023-05-24/ApPipe/prompt-proto-service-00026  \n",
    "LATISS/prompt/output-2023-08-15/ApPipe/prompt-proto-service-00010  \n"
   ]
  },
  {
   "cell_type": "code",
   "execution_count": null,
   "id": "9fab9be2-b6c7-4d9b-a267-53be958875a9",
   "metadata": {
    "tags": []
   },
   "outputs": [],
   "source": [
    "import matplotlib.pyplot as plt\n",
    "import numpy as np\n",
    "import re"
   ]
  },
  {
   "cell_type": "code",
   "execution_count": null,
   "id": "6185e486-c20d-46ad-b408-0bbc9a4dcdd0",
   "metadata": {
    "tags": []
   },
   "outputs": [],
   "source": [
    "import lsst.afw.display as afwDisplay\n",
    "from lsst.analysis.tools.actions.vector import ConvertUnits, FlagSelector, GoodDiaSourceSelector, LoadVector\n",
    "from lsst.analysis.tools.atools import SkySourceHistPlot, SkySourceSkyPlot, NumDiaSourcesAllMetric, NumDiaSourcesMetric, NumDipolesMetric\n",
    "from lsst.daf.butler import Butler\n",
    "import lsst.geom as geom"
   ]
  },
  {
   "cell_type": "code",
   "execution_count": null,
   "id": "feaccf24-58c0-4451-9748-0c9f7c38250e",
   "metadata": {
    "tags": []
   },
   "outputs": [],
   "source": [
    "afwDisplay.setDefaultBackend('matplotlib')"
   ]
  },
  {
   "cell_type": "code",
   "execution_count": null,
   "id": "2b758f96-3f88-4225-a9cb-db3f6ee4e892",
   "metadata": {
    "tags": []
   },
   "outputs": [],
   "source": [
    "%matplotlib inline"
   ]
  },
  {
   "cell_type": "code",
   "execution_count": null,
   "id": "945c3d5f-12c3-42f9-ac1f-26ce6ee31ef3",
   "metadata": {
    "tags": []
   },
   "outputs": [],
   "source": [
    "repo = \"/sdf/group/rubin/repo/embargo/\""
   ]
  },
  {
   "cell_type": "code",
   "execution_count": null,
   "id": "67a4c228-ad80-4b47-917e-f084b938c6f9",
   "metadata": {
    "tags": []
   },
   "outputs": [],
   "source": [
    "butler = Butler(repo)"
   ]
  },
  {
   "cell_type": "markdown",
   "id": "2ce2ad3b-5544-4b3e-8182-f814bcbd2179",
   "metadata": {},
   "source": [
    "I here use the command-line `butler query-collections` to get the info.  I couldn't figure out the in-Python Butler equivalent."
   ]
  },
  {
   "cell_type": "markdown",
   "id": "9a8b0edf-b7d0-432e-a83e-6c33c720e7a4",
   "metadata": {},
   "source": [
    "Here are the DRP-type processing for 2023 August"
   ]
  },
  {
   "cell_type": "markdown",
   "id": "40835a90-ac67-4ead-b7ba-41599be4d549",
   "metadata": {},
   "source": [
    "  I pass \"LATISS\\*runs\\*2023-08\\*\" to get only collections from LATISS that have dates from 2023 August."
   ]
  },
  {
   "cell_type": "code",
   "execution_count": null,
   "id": "2c8edeb7-0fa5-4e64-9781-3f4f1b72763d",
   "metadata": {
    "tags": []
   },
   "outputs": [],
   "source": [
    "! butler query-collections /sdf/group/rubin/repo/embargo \"LATISS*runs*2023-08*\""
   ]
  },
  {
   "cell_type": "code",
   "execution_count": null,
   "id": "562f5fdb-84a9-4825-aa22-6d0dc05a22ea",
   "metadata": {},
   "outputs": [],
   "source": []
  },
  {
   "cell_type": "code",
   "execution_count": null,
   "id": "a2768ee8-f1d0-42de-9faf-b3b00e84384d",
   "metadata": {
    "tags": []
   },
   "outputs": [],
   "source": [
    "# Neven - This produces similar, but not identical result via python\n",
    "# code here: https://github.com/lsst/daf_butler/blob/11710eee44873e6cf90023bbc40d1745b61480a4/python/lsst/daf/butler/_registry_shim.py#L280\n",
    "butler.registry.queryCollections(\"LATISS*runs*2023-08*\", flattenChains=True, includeChains=True)"
   ]
  },
  {
   "cell_type": "markdown",
   "id": "42cb3f15-a55d-456f-b052-9ef5690c4e06",
   "metadata": {},
   "source": [
    "And here's the AP-ish Prompt Processing (prototype) collection"
   ]
  },
  {
   "cell_type": "code",
   "execution_count": null,
   "id": "202b71a3-960a-4664-b66e-33adfb09686e",
   "metadata": {
    "tags": []
   },
   "outputs": [],
   "source": [
    "! butler query-collections /sdf/group/rubin/repo/embargo \"LATISS/prompt/*-2023-08*/ApPipe/*\""
   ]
  },
  {
   "cell_type": "code",
   "execution_count": null,
   "id": "d5d131a0-5629-40c0-8179-7033193b2e75",
   "metadata": {
    "tags": []
   },
   "outputs": [],
   "source": [
    "ap_collection = \"LATISS/prompt/output-2023-08-15/ApPipe/prompt-proto-service-00010\"\n",
    "drp_collection = \"LATISS/runs/AUXTEL_DRP_IMAGING_2023-08A/w_2023_19/PREOPS-3613\""
   ]
  },
  {
   "cell_type": "code",
   "execution_count": null,
   "id": "8025066a-1152-4fa9-a6c1-3b1fe410decc",
   "metadata": {
    "scrolled": true,
    "tags": []
   },
   "outputs": [],
   "source": [
    "! butler query-dataset-types /sdf/group/rubin/repo/embargo"
   ]
  },
  {
   "cell_type": "code",
   "execution_count": null,
   "id": "458d9e31-bcb3-4579-aa74-48888ee20f1b",
   "metadata": {
    "scrolled": true,
    "tags": []
   },
   "outputs": [],
   "source": [
    "! butler query-datasets /sdf/group/rubin/repo/embargo \\\n",
    "    --collections \"LATISS/runs/AUXTEL_DRP_IMAGING_2023-08A/w_2023_19/PREOPS-3613\" \\\n",
    "    --where \"instrument='LATISS' and detector=0 and band='r' and visit > 2023080100000 and visit < 2023080500000\"  \\\n",
    "    calexp"
   ]
  },
  {
   "cell_type": "code",
   "execution_count": null,
   "id": "690b33b9-228d-4ba6-9a75-bd25667f225d",
   "metadata": {
    "tags": []
   },
   "outputs": [],
   "source": [
    "! butler query-datasets /sdf/group/rubin/repo/embargo \\\n",
    "    --collections \"LATISS/runs/AUXTEL_DRP_IMAGING_2023-08A/w_2023_19/PREOPS-3613\" \\\n",
    "    --where \"instrument='LATISS' and detector=0 and band='r' and visit > 2023080100000 and visit < 2023080500000\"  \\\n",
    "    deepDiff_differenceExp"
   ]
  },
  {
   "cell_type": "code",
   "execution_count": null,
   "id": "12cdcb5b-3a20-417b-9b8b-6af80fcf0ef7",
   "metadata": {
    "tags": []
   },
   "outputs": [],
   "source": [
    "! butler query-datasets /sdf/group/rubin/repo/embargo \\\n",
    "    --where \"instrument='LATISS' and detector=0 and band='r' and visit > 2023080100000 and visit < 2023080500000\"  \\\n",
    "    deepDiff_differenceExp"
   ]
  },
  {
   "cell_type": "code",
   "execution_count": null,
   "id": "66e0c90c-b320-4043-8dcd-07b4a72a4c40",
   "metadata": {
    "tags": []
   },
   "outputs": [],
   "source": [
    "! butler query-datasets /sdf/group/rubin/repo/embargo \\\n",
    "    --collections \"LATISS/prompt/output-2023-08-15/ApPipe/prompt-proto-service-00010\" \\\n",
    "    --where \"instrument='LATISS' and detector=0 and band='r' and visit > 2023080100000 and visit < 2023082500000\" \\\n",
    "    deepDiff_differenceExp"
   ]
  },
  {
   "cell_type": "code",
   "execution_count": null,
   "id": "2ee97a9e-e542-4e3e-90fd-bbbe828393c3",
   "metadata": {
    "scrolled": true,
    "tags": []
   },
   "outputs": [],
   "source": [
    "! butler query-datasets /sdf/group/rubin/repo/embargo \\\n",
    "    --collections \"LATISS/prompt/output-2023-08-15/ApPipe/prompt-proto-service-00010\" \\\n",
    "    --where \"instrument='LATISS' and detector=0 and band='r' and visit > 2023080100000 and visit < 2023082500000\" "
   ]
  },
  {
   "cell_type": "code",
   "execution_count": null,
   "id": "72685deb-c5c6-477b-9bc6-f7dee8c0bd0d",
   "metadata": {
    "tags": []
   },
   "outputs": [],
   "source": [
    "# DRP 2023-08-03 reduction\n",
    "# data_id = {\"instrument\": \"LATISS\", \"detector\": 0, \"band\": \"r\", \"visit\": 2023080300670}\n",
    "# drp_collection\n",
    "\n",
    "# AP 2023-08-15 reduction\n",
    "# ap_collection\n",
    "data_id = {\"instrument\": \"LATISS\", \"detector\": 0, \"band\": \"r\", \"visit\": 2023081500112}"
   ]
  },
  {
   "cell_type": "code",
   "execution_count": null,
   "id": "bc0fb68b-e383-44e4-8a6d-a0594a923644",
   "metadata": {
    "tags": []
   },
   "outputs": [],
   "source": [
    "calexp = butler.get(\"calexp\", dataId=data_id, collections=ap_collection)"
   ]
  },
  {
   "cell_type": "code",
   "execution_count": null,
   "id": "7bdfe039-7a0f-4155-80e2-977a5e4ba0d3",
   "metadata": {
    "tags": []
   },
   "outputs": [],
   "source": [
    "calexp"
   ]
  },
  {
   "cell_type": "code",
   "execution_count": null,
   "id": "f00ffff6-dbaa-4320-9228-4c2abf761cf7",
   "metadata": {
    "tags": []
   },
   "outputs": [],
   "source": [
    "fig = plt.figure(figsize=(12, 10))\n",
    "display = afwDisplay.Display(frame=fig)\n",
    "display.scale('asinh', 'zscale')\n",
    "display.mtv(calexp.image)\n",
    "plt.show()"
   ]
  },
  {
   "cell_type": "code",
   "execution_count": null,
   "id": "be04634d-d290-406e-bf8a-5d9861fbf3bf",
   "metadata": {
    "tags": []
   },
   "outputs": [],
   "source": [
    "diff = butler.get(\"deepDiff_differenceExp\", dataId=data_id, collections=ap_collection)"
   ]
  },
  {
   "cell_type": "code",
   "execution_count": null,
   "id": "3d85d614-b827-42e1-8491-27322f06bfcb",
   "metadata": {
    "tags": []
   },
   "outputs": [],
   "source": [
    "# Includes detections and sky sources. Direct output from detect+measure after image subtraction.\n",
    "diaSrc = butler.get(\"deepDiff_diaSrc\", dataId=data_id, collections=ap_collection)\n",
    "# The SDM/DPDD (Science Data Model/Data Products Definition Document) version of the diaSrc Table. No sky sources.  Flags are packed into uint64.\n",
    "diaSrcTable = butler.get(\"deepDiff_diaSrcTable\", dataId=data_id, collections=ap_collection)"
   ]
  },
  {
   "cell_type": "code",
   "execution_count": null,
   "id": "55d44775-a47c-4e75-a740-6d0deb0854ff",
   "metadata": {
    "tags": []
   },
   "outputs": [],
   "source": [
    "diaSrcTable[\"flags\"]"
   ]
  },
  {
   "cell_type": "code",
   "execution_count": null,
   "id": "27f50b90-fe8d-4730-82ec-fd72981ae3be",
   "metadata": {
    "tags": []
   },
   "outputs": [],
   "source": [
    "PIXEL_FLAG_LIST = [\n",
    "    'base_PixelFlags_flag_offimage', 'base_PixelFlags_flag_edge', 'base_PixelFlags_flag_interpolated',\n",
    "    'base_PixelFlags_flag_saturated', 'base_PixelFlags_flag_cr', 'base_PixelFlags_flag_bad',\n",
    "    'base_PixelFlags_flag_suspect', 'base_PixelFlags_flag_interpolatedCenter', 'base_PixelFlags_flag_saturatedCenter',\n",
    "    'base_PixelFlags_flag_crCenter', 'base_PixelFlags_flag_suspectCenter'\n",
    "]\n",
    "SHAPE_FLAG_LIST = [\"slot_Shape_flag\"]\n",
    "EDGE_FLAG_LIST = [\"base_NaiveCentroid_flag_edge\", \"base_SdssCentroid_flag_edge\"]\n",
    "SKY_SOURCE = [\"sky_source\"]\n",
    "\n",
    "FLAG_LIST = PIXEL_FLAG_LIST + SHAPE_FLAG_LIST + EDGE_FLAG_LIST + SKY_SOURCE\n",
    "\n",
    "SNR_THRESHOLD = 5.5\n",
    "\n",
    "def get_good_sources_idx(df, flag_list=FLAG_LIST, snr_threshold=SNR_THRESHOLD):\n",
    "    bad = np.array(np.zeros_like(df), dtype=bool)\n",
    "    for flag in flag_list:\n",
    "        bad |= df[flag]\n",
    "\n",
    "    snr = df[\"slot_ApFlux_instFlux\"] / df[\"slot_ApFlux_instFluxErr\"]\n",
    "    # This is a diff so take things both above the positive SNR cut and below the negative SNR cut\n",
    "    good_snr = (snr < -snr_threshold) | (snr > snr_threshold)\n",
    "        \n",
    "    good = ~bad\n",
    "    good &= good_snr\n",
    "    return good"
   ]
  },
  {
   "cell_type": "code",
   "execution_count": null,
   "id": "57db750f-e031-496e-8f27-ae14f4c11685",
   "metadata": {
    "tags": []
   },
   "outputs": [],
   "source": [
    "good_source_idx = get_good_sources_idx(diaSrc)"
   ]
  },
  {
   "cell_type": "code",
   "execution_count": null,
   "id": "531ec5c4-18bf-4ecc-a500-39228211804c",
   "metadata": {
    "tags": []
   },
   "outputs": [],
   "source": [
    "good_sources = diaSrc.asAstropy()[good_source_idx]"
   ]
  },
  {
   "cell_type": "code",
   "execution_count": null,
   "id": "69bd4ac6-4cef-4fb3-bfd3-958d173b8156",
   "metadata": {
    "tags": []
   },
   "outputs": [],
   "source": [
    "len(good_sources)"
   ]
  },
  {
   "cell_type": "code",
   "execution_count": null,
   "id": "16967517-6073-480d-914e-5cf67eca48d6",
   "metadata": {
    "tags": []
   },
   "outputs": [],
   "source": [
    "template = butler.get(\"deepDiff_templateExp\", dataId=data_id, collections=ap_collection)\n",
    "matched_template = butler.get(\"deepDiff_matchedExp\", dataId=data_id, collections=ap_collection)"
   ]
  },
  {
   "cell_type": "code",
   "execution_count": null,
   "id": "5d3a7600-683e-4db1-b84c-485daac9d18c",
   "metadata": {
    "tags": []
   },
   "outputs": [],
   "source": [
    "fig = plt.figure(figsize=(12, 12))\n",
    "display = afwDisplay.Display(frame=fig)\n",
    "display.scale('asinh', 'zscale')\n",
    "display.mtv(template.image)\n",
    "for x, y in good_sources[[\"slot_Centroid_x\", \"slot_Centroid_y\"]]:\n",
    "    display.dot(\"o\", x, y, ctype=\"green\", size=20)\n",
    "plt.title('Template')\n",
    "plt.show()\n"
   ]
  },
  {
   "cell_type": "code",
   "execution_count": null,
   "id": "8e07938c-c310-4785-a7d4-8aa88627842d",
   "metadata": {
    "tags": []
   },
   "outputs": [],
   "source": [
    "fig = plt.figure(figsize=(12, 12))\n",
    "display = afwDisplay.Display(frame=fig)\n",
    "display.scale('asinh', 'zscale')\n",
    "display.mtv(diff.image)\n",
    "for x, y in diaSrc.asAstropy()[[\"slot_Centroid_x\", \"slot_Centroid_y\"]]:\n",
    "    display.dot(\"o\", x, y, ctype=\"red\", size=20)\n",
    "for x, y in good_sources[[\"slot_Centroid_x\", \"slot_Centroid_y\"]]:\n",
    "    display.dot(\"o\", x, y, ctype=\"green\", size=20)\n",
    "plt.title('Difference image')\n",
    "plt.show()"
   ]
  },
  {
   "cell_type": "code",
   "execution_count": null,
   "id": "f337cbd8-bcb6-47ba-b257-af741e5b1e09",
   "metadata": {
    "tags": []
   },
   "outputs": [],
   "source": [
    "[c for c in good_sources.columns if re.search(\"slot.*flag.*\", c)]"
   ]
  },
  {
   "cell_type": "code",
   "execution_count": null,
   "id": "72e396f4-10b0-41c5-8f5f-1be55fdf43f0",
   "metadata": {
    "tags": []
   },
   "outputs": [],
   "source": [
    "flags = PIXEL_FLAG_LIST + [\"base_PixelFlags_flag\"]\n",
    "flags"
   ]
  },
  {
   "cell_type": "markdown",
   "id": "fa1b7028-8cb1-4194-83f8-dcd923ce4a3c",
   "metadata": {
    "tags": []
   },
   "source": [
    "## Make postage templ, sci, diff postage stamps for each of the good_sources"
   ]
  },
  {
   "cell_type": "code",
   "execution_count": null,
   "id": "6688dde7-004f-43c0-a868-a59a2520686d",
   "metadata": {
    "tags": []
   },
   "outputs": [],
   "source": [
    "def show_cutout(exposure, x, y, size=30):\n",
    "    \"\"\"\n",
    "    Create and show a cutout of an exposure given a position\n",
    "    \"\"\"\n",
    "    xy = geom.PointI(x, y)\n",
    "    cutoutSize = geom.ExtentI(size, size)\n",
    "    bbox = geom.BoxI(xy - cutoutSize // 2, cutoutSize)\n",
    "    cutout = exposure.getCutout(bbox)\n",
    "\n",
    "    fig = plt.figure()\n",
    "    plt.imshow(cutout.image.array, cmap=\"gray\", origin='lower')"
   ]
  },
  {
   "cell_type": "code",
   "execution_count": null,
   "id": "6f56d289-3efc-4839-8974-d5e21491d023",
   "metadata": {
    "tags": []
   },
   "outputs": [],
   "source": [
    "def show_cutout_triplet(template, science, diff, x, y, size=30, figsize=(8, 3)):\n",
    "    \"\"\"\n",
    "    Create and show a cutout of an template, science and difference image\n",
    "    given a position\n",
    "    \"\"\"\n",
    "    xy = geom.PointI(x, y)\n",
    "    cutoutSize = geom.ExtentI(size, size)\n",
    "    bbox = geom.BoxI(xy - cutoutSize // 2, cutoutSize)\n",
    "\n",
    "    template_cutout = template.getCutout(bbox)\n",
    "    science_cutout = science.getCutout(bbox)\n",
    "    diff_cutout = diff.getCutout(bbox)\n",
    "\n",
    "    # Use diff sigma for calexp, diff ranges.\n",
    "    sigma = np.sqrt(np.median(diff.variance.array))\n",
    "\n",
    "    fit, axes = plt.subplots(1, 3, figsize=figsize)\n",
    "    plt.sca(axes[0])\n",
    "    plt.imshow(template_cutout.image.array, cmap=\"gray\", origin='lower')\n",
    "    plt.title(\"Template\")\n",
    "    plt.sca(axes[1])\n",
    "    plt.imshow(science_cutout.image.array, cmap=\"gray\", vmin=-5*sigma, vmax=+5*sigma, origin='lower')\n",
    "    plt.title(\"Science\")\n",
    "    plt.sca(axes[2])\n",
    "    plt.imshow(diff_cutout.image.array, cmap=\"gray\", vmin=-5*sigma, vmax=+5*sigma, origin='lower')\n",
    "    plt.title(\"Diff\")"
   ]
  },
  {
   "cell_type": "code",
   "execution_count": null,
   "id": "0cf7f374-22af-4e0f-a7d0-0c36ab378d47",
   "metadata": {
    "tags": []
   },
   "outputs": [],
   "source": [
    "stamp_size = 30 # pixels.  Size of baseline alert stamp\n",
    "for x, y in good_sources[[\"slot_Centroid_x\", \"slot_Centroid_y\"]]:\n",
    "    print(x, y)\n",
    "    show_cutout_triplet(matched_template, calexp, diff, x, y, size=stamp_size)"
   ]
  },
  {
   "cell_type": "markdown",
   "id": "6ef30194-ca32-46a0-9dc6-93f3d6fd7321",
   "metadata": {
    "execution": {
     "iopub.execute_input": "2023-08-18T21:23:35.817495Z",
     "iopub.status.busy": "2023-08-18T21:23:35.817231Z",
     "iopub.status.idle": "2023-08-18T21:23:35.819431Z",
     "shell.execute_reply": "2023-08-18T21:23:35.819132Z",
     "shell.execute_reply.started": "2023-08-18T21:23:35.817482Z"
    },
    "tags": []
   },
   "source": [
    "## Check the performance of the sky sources"
   ]
  },
  {
   "cell_type": "code",
   "execution_count": null,
   "id": "96186394-fbb3-44cd-8a44-64d673950143",
   "metadata": {
    "tags": []
   },
   "outputs": [],
   "source": [
    "# What is the difference between sky_sources and diaSrc?\n",
    "# Sky sources are implemented in exactly the same manner as sky objects, with up to nSources sky sources randomly placed for any given CCD.\n",
    "# Sky objects are pseudo-objects injected into the data processing pipeline \n",
    "# https://community.lsst.org/t/sky-sources-added-to-single-frame-processing/4137\n",
    "sky_sources = diaSrc.asAstropy()\n",
    "sky_sources = sky_sources[sky_sources[\"sky_source\"]]  "
   ]
  },
  {
   "cell_type": "code",
   "execution_count": null,
   "id": "1d936e45-e9e0-4dae-8119-d34de76d7616",
   "metadata": {
    "tags": []
   },
   "outputs": [],
   "source": [
    "fig, axes = plt.subplots(1, 2, figsize=(10, 5))  \n",
    "\n",
    "plt.sca(axes[0])\n",
    "bins = np.linspace(-100, +100)\n",
    "hkwargs = {\"bins\": bins, \"histtype\": \"step\"}\n",
    "# plt.hist(diaSrc[\"slot_PsfFlux_instFlux\"] / diaSrc[\"slot_PsfFlux_instFluxErr\"], label=\"InstFlux SNR (all)\", **hkwargs)\n",
    "# plt.hist(good_sources[\"slot_PsfFlux_instFlux\"] / good_sources[\"slot_PsfFlux_instFluxErr\"], label=\"InstFlux SNR (good)\", **hkwargs)\n",
    "plt.hist(diaSrc[\"slot_ApFlux_instFlux\"] / diaSrc[\"slot_ApFlux_instFluxErr\"], label=\"All\", **hkwargs)\n",
    "plt.hist(good_sources[\"slot_ApFlux_instFlux\"] / good_sources[\"slot_ApFlux_instFluxErr\"], label=\"Good\", **hkwargs)\n",
    "plt.hist(sky_sources[\"slot_ApFlux_instFlux\"] / sky_sources[\"slot_ApFlux_instFluxErr\"], label=\"Sky\", **hkwargs)\n",
    "plt.yscale(\"log\")\n",
    "plt.title(\"ApFlux SNR\")\n",
    "plt.legend(loc=\"upper left\");\n",
    "\n",
    "# Detection should be at 3-sigma\n",
    "# Let's zoom in and see\n",
    "plt.sca(axes[1])\n",
    "bins = np.linspace(-10, +10)\n",
    "hkwargs = {\"bins\": bins, \"histtype\": \"step\"}\n",
    "# plt.hist(diaSrc[\"slot_PsfFlux_instFlux\"] / diaSrc[\"slot_PsfFlux_instFluxErr\"], label=\"InstFlux SNR (all)\", **hkwargs)\n",
    "# plt.hist(good_sources[\"slot_PsfFlux_instFlux\"] / good_sources[\"slot_PsfFlux_instFluxErr\"], label=\"InstFlux SNR (good)\", **hkwargs)\n",
    "plt.hist(diaSrc[\"slot_ApFlux_instFlux\"] / diaSrc[\"slot_ApFlux_instFluxErr\"], label=\"All\", **hkwargs)\n",
    "plt.hist(good_sources[\"slot_ApFlux_instFlux\"] / good_sources[\"slot_ApFlux_instFluxErr\"], label=\"Good\", **hkwargs)\n",
    "plt.hist(sky_sources[\"slot_ApFlux_instFlux\"] / sky_sources[\"slot_ApFlux_instFluxErr\"], label=\"Sky\", **hkwargs)\n",
    "print(np.std(sky_sources[\"slot_ApFlux_instFlux\"] / sky_sources[\"slot_ApFlux_instFluxErr\"]))\n",
    "\n",
    "from lsst.analysis.tools.statistics import nansigmaMad\n",
    "print(nansigmaMad(sky_sources[\"slot_ApFlux_instFlux\"] / sky_sources[\"slot_ApFlux_instFluxErr\"]))\n",
    "\n",
    "plt.axvline(3, color=\"grey\", linestyle=\"--\", label=\"Detection threshold\")\n",
    "plt.axvline(-3, color=\"grey\", linestyle=\"--\")\n",
    "# where does 5 sigma come from?\n",
    "plt.axvline(5, color=\"grey\", linestyle=\"-.\", label=\"Good threshold\")\n",
    "plt.axvline(-5, color=\"grey\", linestyle=\"-.\")\n",
    "plt.title(\"ApFlux SNR zoom\")\n",
    "plt.legend();\n"
   ]
  },
  {
   "cell_type": "markdown",
   "id": "ea9e1ec1-1dc2-4956-98a2-a43adb9af02f",
   "metadata": {
    "tags": []
   },
   "source": [
    "## Analysis Tools\n",
    "\n",
    "Generate the analysis tools plots and statistics"
   ]
  },
  {
   "cell_type": "markdown",
   "id": "4e2afe24-60c2-4989-bdc1-e908c6284194",
   "metadata": {
    "execution": {
     "iopub.execute_input": "2023-08-19T15:09:03.817947Z",
     "iopub.status.busy": "2023-08-19T15:09:03.817558Z",
     "iopub.status.idle": "2023-08-19T15:09:03.820927Z",
     "shell.execute_reply": "2023-08-19T15:09:03.820455Z",
     "shell.execute_reply.started": "2023-08-19T15:09:03.817934Z"
    },
    "tags": []
   },
   "source": [
    "Do this directly in the Notebook, following analysis_tools_examples"
   ]
  },
  {
   "cell_type": "code",
   "execution_count": null,
   "id": "d67068e8-baf7-4b53-b3ab-83bdf7db9317",
   "metadata": {
    "tags": []
   },
   "outputs": [],
   "source": [
    "plot_info_dict = {\"bands\": data_id[\"band\"], \"visit\": data_id[\"visit\"], \"run\": ap_collection, \"tableName\": \"deepDiff_diaSrc\"}"
   ]
  },
  {
   "cell_type": "code",
   "execution_count": null,
   "id": "0f3921b3-f32e-4883-9ab5-2d6b2e8a7c89",
   "metadata": {
    "tags": []
   },
   "outputs": [],
   "source": [
    "plot = SkySourceHistPlot()"
   ]
  },
  {
   "cell_type": "code",
   "execution_count": null,
   "id": "d24bdee7-53eb-4d36-92b4-85062e2443b8",
   "metadata": {
    "tags": []
   },
   "outputs": [],
   "source": [
    "# Use the GoodDiaSourceSelector to get the standard pixel flag selection of good DIA sources\n",
    "plot.prep.selectors.skySourceSelector = GoodDiaSourceSelector\n",
    "# And then specify that we just want the sky sources\n",
    "plot.prep.selectors.skySourceSelector.selectWhenTrue = [\"sky_source\"]\n",
    "\n",
    "# We have to rename the columns from the SkySource assumptions of having a DPDD-ified catalog\n",
    "plot.process.buildActions.hist_psf_flux.vectorKey = \"slot_PsfFlux_instFlux\"\n",
    "plot.process.buildActions.hist_ap09_flux.vectorKey = \"base_CircularApertureFlux_9_0_instFlux\"\n",
    "plot.process.buildActions.hist_psf_sn.fluxType = \"slot_PsfFlux_instFlux\"\n",
    "plot.process.buildActions.hist_ap09_sn.fluxType = \"base_CircularApertureFlux_9_0_instFlux\""
   ]
  },
  {
   "cell_type": "code",
   "execution_count": null,
   "id": "01d1ce1e-201a-4ee9-9a72-13a5b353837c",
   "metadata": {
    "tags": []
   },
   "outputs": [],
   "source": [
    "plot.produce.plot.panels[\"panel_flux\"].bins = 25\n",
    "plot.produce.plot.panels[\"panel_sn\"].bins = 25"
   ]
  },
  {
   "cell_type": "code",
   "execution_count": null,
   "id": "19fc898f-db4b-4025-908e-ef0f40e652c8",
   "metadata": {
    "tags": []
   },
   "outputs": [],
   "source": [
    "plot.finalize()\n",
    "results = plot(diaSrc, band=data_id[\"band\"], plotInfo=plot_info_dict)"
   ]
  },
  {
   "cell_type": "markdown",
   "id": "3f524224-af23-444e-90e6-ed042692c0c0",
   "metadata": {
    "execution": {
     "iopub.execute_input": "2023-08-25T16:55:01.440179Z",
     "iopub.status.busy": "2023-08-25T16:55:01.440043Z",
     "iopub.status.idle": "2023-08-25T16:55:08.760547Z",
     "shell.execute_reply": "2023-08-25T16:55:08.760091Z",
     "shell.execute_reply.started": "2023-08-25T16:55:01.440166Z"
    },
    "tags": []
   },
   "source": [
    "This pipetasks wouldn't work because apCcdVisitQualityCore.yaml requires fakes_deepDiff_assocDiaSrc and we don't have the assocDiaSrc files.\n",
    "\n",
    "! pipetask run -p apCcdVisitQualityCore.yaml \\\n",
    "-b /sdf/group/rubin/repo/embargo \\\n",
    "-i \"LATISS/prompt/output-2023-08-15/ApPipe/prompt-proto-service-00010\" \\\n",
    "-o u/wmwv/newDiaPlot \\\n",
    "--register-dataset-types"
   ]
  },
  {
   "cell_type": "code",
   "execution_count": null,
   "id": "f1678add-3e0a-4108-b605-e99c1e462148",
   "metadata": {
    "tags": []
   },
   "outputs": [],
   "source": [
    "plot = SkySourceSkyPlot()\n",
    "\n",
    "# Use the GoodDiaSourceSelector to get the standard pixel flag selection of good DIA sources\n",
    "plot.prep.selectors.skySourceSelector = GoodDiaSourceSelector\n",
    "# And then specify that we just want the sky sources\n",
    "plot.prep.selectors.skySourceSelector.selectWhenTrue = [\"sky_source\"]\n",
    "\n",
    "# We have to rename the columns from the SkySource assumptions of having a DPDD-ified catalog\n",
    "plot.process.buildActions.z.vectorKey = \"base_CircularApertureFlux_9_0_instFlux\"\n",
    "plot.process.buildActions.statMask.fluxType = \"slot_PsfFlux_instFlux\"\n",
    "\n",
    "# Convert from rad to degree\n",
    "# I think this is the simplest way to do it\n",
    "# We have to override the existing x, y VectorActions\n",
    "plot.process.buildActions.x = ConvertUnits(buildAction=LoadVector, inUnit=\"rad\", outUnit=\"degree\")\n",
    "plot.process.buildActions.x.buildAction.vectorKey = \"coord_ra\"\n",
    "plot.process.buildActions.y = ConvertUnits(buildAction=LoadVector, inUnit=\"rad\", outUnit=\"degree\")\n",
    "plot.process.buildActions.y.buildAction.vectorKey = \"coord_dec\""
   ]
  },
  {
   "cell_type": "code",
   "execution_count": null,
   "id": "cdd4567e-c32d-472f-9790-4d1f30b7c50e",
   "metadata": {
    "tags": []
   },
   "outputs": [],
   "source": [
    "plot.finalize()\n",
    "results = plot(diaSrc, band=data_id[\"band\"], plotInfo=plot_info_dict)"
   ]
  },
  {
   "cell_type": "code",
   "execution_count": null,
   "id": "0342df7e-4e99-4455-a165-f4e2a8cad2c4",
   "metadata": {},
   "outputs": [],
   "source": []
  }
 ],
 "metadata": {
  "kernelspec": {
   "display_name": "LSST",
   "language": "python",
   "name": "lsst"
  },
  "language_info": {
   "codemirror_mode": {
    "name": "ipython",
    "version": 3
   },
   "file_extension": ".py",
   "mimetype": "text/x-python",
   "name": "python",
   "nbconvert_exporter": "python",
   "pygments_lexer": "ipython3",
   "version": "3.11.4"
  }
 },
 "nbformat": 4,
 "nbformat_minor": 5
}
