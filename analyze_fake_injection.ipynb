{
 "cells": [
  {
   "cell_type": "markdown",
   "id": "8ce78e54-0f38-4b75-ae8a-8badc621bfc9",
   "metadata": {},
   "source": [
    "# Fake Injection Purity and Efficiency analysis\n",
    "\n",
    "DM-46624\n",
    "\n",
    "Michael Wood-Vasey, <wmwv@pitt.edu>"
   ]
  },
  {
   "cell_type": "code",
   "execution_count": null,
   "id": "cb4880c5-6cc5-41a1-a2c3-a97d501419bc",
   "metadata": {},
   "outputs": [],
   "source": [
    "import matplotlib.pyplot as plt\n",
    "import numpy as np\n",
    "\n",
    "from lsst.daf.butler import Butler\n",
    "import lsst.afw.display as afwDisplay\n",
    "\n",
    "import lsst.geom\n",
    "\n",
    "import lsst.afw.image\n",
    "from lsst.afw.math import Warper, WarperConfig\n",
    "import lsst.afw.table\n",
    "\n",
    "from lsst.ip.diffim import AlardLuptonSubtractConfig, AlardLuptonSubtractTask\n",
    "from lsst.ip.diffim import GetTemplateConfig, GetTemplateTask\n",
    "from lsst.ip.diffim import DetectAndMeasureConfig, DetectAndMeasureTask"
   ]
  },
  {
   "cell_type": "code",
   "execution_count": null,
   "id": "13b5a485-8f40-4b29-bbf8-6cbe330202eb",
   "metadata": {},
   "outputs": [],
   "source": [
    "afwDisplay.setDefaultBackend(\"firefly\")"
   ]
  },
  {
   "cell_type": "code",
   "execution_count": null,
   "id": "945245a3-7526-4e47-a420-e58b48cff5b5",
   "metadata": {},
   "outputs": [],
   "source": [
    "# Load collection\n",
    "repo = \"/repo/dc2\"\n",
    "collection = \"u/ebellm/DM-46624/w_2024_40/DC2-with-injection\"\n",
    "instrument = \"LSSTComCam\"\n",
    "\n",
    "butler = Butler(repo, collections=collection)"
   ]
  },
  {
   "cell_type": "code",
   "execution_count": null,
   "id": "6f76a19c-c94c-46ee-9684-335e0f3e707b",
   "metadata": {},
   "outputs": [],
   "source": [
    "band = \"i\"\n",
    "\n",
    "datasetRefs_dia = butler.query_datasets(\"goodSeeingDiff_differenceExp\", where=f\"band='{band}'\")"
   ]
  },
  {
   "cell_type": "code",
   "execution_count": null,
   "id": "73479cef-48b6-45e2-80ea-ca3804460f98",
   "metadata": {},
   "outputs": [],
   "source": [
    "verbose = False\n",
    "if verbose:\n",
    "    for dr in datasetRefs_dia:\n",
    "        print(dr)\n",
    "\n",
    "print(f\"\\nFound {len(datasetRefs_dia)} differenceExps\")"
   ]
  },
  {
   "cell_type": "code",
   "execution_count": null,
   "id": "29343479-1ab1-470d-935b-623d7c1b8f79",
   "metadata": {},
   "outputs": [],
   "source": [
    "i = 50\n",
    "data_id = datasetRefs_dia[i].dataId\n",
    "print(data_id)"
   ]
  },
  {
   "cell_type": "markdown",
   "id": "08b5b7a5-2e97-454d-8e41-3b1ec3fc97dd",
   "metadata": {
    "execution": {
     "iopub.execute_input": "2024-12-05T01:25:35.766718Z",
     "iopub.status.busy": "2024-12-05T01:25:35.766373Z",
     "iopub.status.idle": "2024-12-05T01:25:35.769566Z",
     "shell.execute_reply": "2024-12-05T01:25:35.769053Z",
     "shell.execute_reply.started": "2024-12-05T01:25:35.766701Z"
    }
   },
   "source": [
    "The standard data products are:"
   ]
  },
  {
   "cell_type": "code",
   "execution_count": null,
   "id": "54fe1edd-9927-4e0f-8e74-6f283715e3a6",
   "metadata": {},
   "outputs": [],
   "source": [
    "dia = butler.get(\"goodSeeingDiff_differenceExp\", dataId=data_id)\n",
    "template = butler.get(\"goodSeeingDiff_templateExp\", dataId=data_id)\n",
    "calexp = butler.get(\"calexp\", dataId=data_id)\n",
    "src = butler.get(\"src\", dataId=data_id)\n",
    "dia_src = butler.get(\"goodSeeingDiff_diaSrc\", dataId=data_id)\n",
    "dia_src_table = butler.get(\"goodSeeingDiff_diaSrcTable\", dataId=data_id)  # SDM-ified table.  Does not containg sky sources"
   ]
  },
  {
   "cell_type": "code",
   "execution_count": null,
   "id": "0ab73aa7-861a-4d91-9956-7ef8b00c3a25",
   "metadata": {},
   "outputs": [],
   "source": [
    "injected_dia = butler.get(\"fakes_goodSeeingDiff_differenceExp\", dataId=data_id)\n",
    "injected_template = butler.get(\"fakes_goodSeeingDiff_templateExp\", dataId=data_id)\n",
    "injected_calexp = butler.get(\"fakes_initial_pvi\", dataId=data_id)\n",
    "injected_dia_src = butler.get(\"fakes_goodSeeingDiff_diaSrc\", dataId=data_id)\n",
    "injected_dia_src_table = butler.get(\"fakes_goodSeeingDiff_diaSrcTable\", dataId=data_id)  # SDM-ified table.  Does not containg sky sources\n",
    "# Pre-matched tables\n",
    "injected_match_dia_src_table = butler.get(\"fakes_goodSeeingDiff_matchDiaSourceTable\", dataId=data_id)\n",
    "injected_match_dia_src = butler.get(\"fakes_goodSeeingDiff_matchDiaSrc\", dataId=data_id)"
   ]
  },
  {
   "cell_type": "markdown",
   "id": "e150d335-95a5-4310-900d-10eac4b02cf5",
   "metadata": {
    "execution": {
     "iopub.execute_input": "2024-12-05T16:32:48.383993Z",
     "iopub.status.busy": "2024-12-05T16:32:48.383844Z",
     "iopub.status.idle": "2024-12-05T16:32:48.387272Z",
     "shell.execute_reply": "2024-12-05T16:32:48.386360Z",
     "shell.execute_reply.started": "2024-12-05T16:32:48.383979Z"
    }
   },
   "source": [
    "And the injected data products are:"
   ]
  },
  {
   "cell_type": "code",
   "execution_count": null,
   "id": "c53ac924-e94e-4c85-a516-0b9592e5acfd",
   "metadata": {
    "scrolled": true
   },
   "outputs": [],
   "source": [
    "# This is the catalog of the injected fakes in RA, Dec\n",
    "injected_fakes = butler.get(\"fakes_initial_pvi_catalog\", dataId=data_id)"
   ]
  },
  {
   "cell_type": "code",
   "execution_count": null,
   "id": "215b4545-cf23-401b-8ca2-8d2177e2153b",
   "metadata": {},
   "outputs": [],
   "source": [
    "afw_display = afwDisplay.Display(frame=1)\n",
    "\n",
    "afw_display.setMaskTransparency(80)\n",
    "afw_display.scale(\"asinh\", -2, 5)\n",
    "afw_display.mtv(template)"
   ]
  },
  {
   "cell_type": "code",
   "execution_count": null,
   "id": "8713cbe3-2c77-4ebe-abbe-1fac9bc73f44",
   "metadata": {},
   "outputs": [],
   "source": [
    "afw_display = afwDisplay.Display(frame=2)\n",
    "\n",
    "afw_display.setMaskTransparency(80)\n",
    "afw_display.scale(\"asinh\", -2, 5)\n",
    "afw_display.mtv(injected_calexp)"
   ]
  },
  {
   "cell_type": "code",
   "execution_count": null,
   "id": "33c060ce-e6bc-449f-9868-b197c00dd8c7",
   "metadata": {},
   "outputs": [],
   "source": [
    "afw_display = afwDisplay.Display(frame=3)\n",
    "\n",
    "afw_display.setMaskTransparency(100)\n",
    "afw_display.scale(\"linear\", \"zscale\")\n",
    "afw_display.mtv(injected_dia)"
   ]
  },
  {
   "cell_type": "code",
   "execution_count": null,
   "id": "5f3f2376-d4bc-4234-96da-c19d544712cd",
   "metadata": {},
   "outputs": [],
   "source": [
    "snr_threshold = 5\n",
    "max_science_snr = 200\n",
    "\n",
    "# We're mixing columns from dia_src and dia_src_table\n",
    "# This is dangerous.  I don't think there is a gaurantee that the ordering is the same.\n",
    "# But I want the flags from dia_src and the science flux from dia_src_table\n",
    "\n",
    "# 2024-12-04\n",
    "#  There's some incompatibility that sometimes means that sky sources are in dia_src and sometimes they're not?\n",
    "\n",
    "def good_sources(dia_src, dia_src_table, verbose=True):\n",
    "    dia_src = dia_src[~dia_src[\"sky_source\"]]\n",
    "    \n",
    "    good = ~dia_src[\"slot_Shape_flag\"] & \\\n",
    "        (dia_src[\"base_PsfFlux_instFlux\"] / dia_src[\"base_PsfFlux_instFluxErr\"] > snr_threshold) & \\\n",
    "        ~dia_src[\"base_PixelFlags_flag_edge\"] & \\\n",
    "        ((dia_src_table[\"scienceFlux\"] / dia_src_table[\"scienceFluxErr\"]) < max_science_snr) & \\\n",
    "        ~dia_src_table[\"pixelFlags_streak\"]\n",
    "    \n",
    "    # If I were doing just dia_src_table, I'd do something like this:\n",
    "    just_dia_src_table = False\n",
    "    if just_dia_src_table:\n",
    "        good = (dia_src_table[\"snr\"] > snr_threshold) & \\\n",
    "            ~dia_src_table[\"shape_flag\"] & \\\n",
    "            ~dia_src_table[\"pixelFlags_bad\"] & \\\n",
    "            ~dia_src_table[\"pixelFlags_cr\"] & \\\n",
    "            ((dia_src_table[\"scienceFlux\"] / dia_src_table[\"scienceFluxErr\"]) < max_science_snr)\n",
    "    \n",
    "    good_dia_src = dia_src_table[good].copy(deep=True)\n",
    "    \n",
    "    print(f\"{len(good_dia_src)} good DIA sources found out of {len(dia_src)} detections.\")\n",
    "    \n",
    "    return good_dia_src"
   ]
  },
  {
   "cell_type": "code",
   "execution_count": null,
   "id": "758ae4da-19d9-4cf2-8755-2450bb88b9d3",
   "metadata": {},
   "outputs": [],
   "source": [
    "good_dia_src = good_sources(dia_src, dia_src_table)"
   ]
  },
  {
   "cell_type": "code",
   "execution_count": null,
   "id": "f6a2769e-af5b-423c-9e2d-4b835e5ec2db",
   "metadata": {},
   "outputs": [],
   "source": [
    "good_injected_dia_src = good_sources(injected_dia_src, injected_dia_src_table)"
   ]
  },
  {
   "cell_type": "code",
   "execution_count": null,
   "id": "0ac07502-fc9d-4481-b5c0-c287e1b75a99",
   "metadata": {},
   "outputs": [],
   "source": [
    "afw_display = afwDisplay.Display(frame=3)\n",
    "\n",
    "for (x, y) in zip(good_injected_dia_src[\"x\"], good_injected_dia_src[\"y\"]):\n",
    "    afw_display.dot(\"o\", x, y, size=20, ctype=\"green\")"
   ]
  },
  {
   "cell_type": "code",
   "execution_count": null,
   "id": "2e8da580-1949-4d57-8443-60613c3ca98b",
   "metadata": {},
   "outputs": [],
   "source": [
    "import re\n",
    "[c for c in injected_match_dia_src if re.search(\"Flux\", c)]"
   ]
  },
  {
   "cell_type": "markdown",
   "id": "19428997-60a9-4c8f-b4d3-89ea96a1da6e",
   "metadata": {
    "execution": {
     "iopub.execute_input": "2024-12-05T01:31:04.456779Z",
     "iopub.status.busy": "2024-12-05T01:31:04.456452Z",
     "iopub.status.idle": "2024-12-05T01:31:04.459425Z",
     "shell.execute_reply": "2024-12-05T01:31:04.458981Z",
     "shell.execute_reply.started": "2024-12-05T01:31:04.456763Z"
    }
   },
   "source": [
    "## Compare input fakes to dia_src"
   ]
  },
  {
   "cell_type": "markdown",
   "id": "fa5075cd-a29b-4b30-bac4-ecfa1af23b10",
   "metadata": {},
   "source": [
    "Translate RA, Dec to x, y from input injection catalog"
   ]
  },
  {
   "cell_type": "code",
   "execution_count": null,
   "id": "d54a04cd-1610-4558-82d9-001adf907d7e",
   "metadata": {},
   "outputs": [],
   "source": [
    "wcs = calexp.getWcs()\n",
    "from lsst import geom\n",
    "coord = [geom.SpherePoint(r, d, geom.degrees) for r, d in zip(injected_fakes[\"ra\"], injected_fakes[\"dec\"])]\n",
    "# The injected catalogs are in degrees.\n",
    "x, y = wcs.skyToPixelArray(injected_fakes[\"ra\"], injected_fakes[\"dec\"], degrees=True)\n",
    "injected_fakes[\"x\"] = x\n",
    "injected_fakes[\"y\"] = y"
   ]
  },
  {
   "cell_type": "code",
   "execution_count": null,
   "id": "a685bb2d-478a-4d7f-843f-0085f9e4bc16",
   "metadata": {},
   "outputs": [],
   "source": [
    "plt.scatter(injected_fakes[\"x\"], injected_fakes[\"y\"], edgecolor=\"gray\", facecolor=\"none\", label=\"injected with margin\")\n",
    "matched = injected_match_dia_src[\"diaSourceId\"] > 0\n",
    "plt.scatter(injected_match_dia_src[\"x_ssi\"], injected_match_dia_src[\"y_ssi\"], label=\"injected\")\n",
    "plt.scatter(injected_dia_src_table[\"x\"], injected_dia_src_table[\"y\"], color=\"green\", facecolor=\"none\", marker=\"s\", label=\"dia_src\")\n",
    "plt.scatter(injected_match_dia_src[matched][\"x_ssi\"], injected_match_dia_src[matched][\"y_ssi\"], marker='.', color='red', label=\"matched\")\n",
    "\n",
    "plt.axvline(0, linestyle=\"--\")\n",
    "plt.axvline(4000, linestyle=\"--\")\n",
    "plt.axhline(0, linestyle=\"--\")\n",
    "plt.axhline(4000, linestyle=\"--\")\n",
    "\n",
    "plt.gca().set_aspect(\"equal\")\n",
    "plt.legend()"
   ]
  },
  {
   "cell_type": "code",
   "execution_count": null,
   "id": "ddd36759-49b4-433f-8df9-75cc2d5055d8",
   "metadata": {},
   "outputs": [],
   "source": [
    "_, ax = plt.subplots(1, 2, figsize=(8, 4))\n",
    "\n",
    "matched = injected_match_dia_src[\"diaSourceId\"] > 0\n",
    "bins = np.linspace(18, 24, 25)\n",
    "\n",
    "h, _, _ = ax[0].hist(injected_match_dia_src[\"mag\"], label=\"injected\", histtype=\"step\", color=\"blue\", bins=bins)\n",
    "hm, _, _ = ax[0].hist(injected_match_dia_src[matched][\"mag\"], label=\"good\", histtype=\"step\", color=\"orange\", bins=bins)\n",
    "ax[0].set_xlabel(\"injected mag\")\n",
    "ax[0].set_ylabel(\"number of sources / bin\")\n",
    "plt.legend()\n",
    "\n",
    "ax[1].scatter((bins[:len(hm)] + bins[1:])/2, hm/h, color=\"orange\", label=\"injected\")\n",
    "ax[1].stairs(hm / h, bins, color=\"orange\", label=\"matched\")\n",
    "ax[1].set_xlabel(\"injected mag\")\n",
    "ax[1].set_ylabel(\"fraction of recovered sources\")\n"
   ]
  },
  {
   "cell_type": "code",
   "execution_count": null,
   "id": "10690074-a3bb-4cc1-a192-bdefb3392cda",
   "metadata": {},
   "outputs": [],
   "source": [
    "import numpy as np\n",
    "calib = injected_dia.getPhotoCalib()\n",
    "recovered_mag = np.array([calib.instFluxToMagnitude(f) for f in injected_match_dia_src[\"psfFlux\"]])\n",
    "injected_flux = np.array([calib.magnitudeToInstFlux(m) for m in injected_match_dia_src[\"mag\"]])\n",
    "flux_residual = injected_match_dia_src[\"psfFlux\"] - injected_flux\n",
    "plt.errorbar(injected_match_dia_src[\"mag\"], flux_residual, injected_match_dia_src[\"psfFluxErr\"],\n",
    "             linestyle=\"none\", marker=\".\", ecolor=\"gray\")\n",
    "plt.axhline(0, linestyle=\"--\", color=\"gray\")\n",
    "plt.xlabel(\"Injected mag\")\n",
    "plt.ylabel(\"Measured - Injected\")\n",
    "sigma = np.std(flux_residual / injected_match_dia_src[\"psfFluxErr\"])\n",
    "print(f\"Pull distribution sigma: {sigma}\")\n"
   ]
  },
  {
   "cell_type": "code",
   "execution_count": null,
   "id": "0d521336-2048-4f1e-930c-d971691fd8af",
   "metadata": {},
   "outputs": [],
   "source": []
  },
  {
   "cell_type": "code",
   "execution_count": null,
   "id": "9c1d7845-ca37-4706-a591-298c87036b78",
   "metadata": {},
   "outputs": [],
   "source": [
    "good_injected_match_dia_src = injected_match_dia_src.join(good_injected_dia_src[[\"diaSourceId\"]].set_index(\"diaSourceId\"), how=\"inner\", on=\"diaSourceId\", rsuffix=(\"dia_src\")) #, validate=\"one_to_one\")\n",
    "print(len(good_injected_dia_src))"
   ]
  },
  {
   "cell_type": "code",
   "execution_count": null,
   "id": "c923eda9-8ee3-431f-856b-4aa59e79f606",
   "metadata": {},
   "outputs": [],
   "source": []
  },
  {
   "cell_type": "code",
   "execution_count": null,
   "id": "c99f899b-25c3-463c-af9b-10fdc2ef021d",
   "metadata": {},
   "outputs": [],
   "source": [
    "_, ax = plt.subplots(1, 2, figsize=(8, 4))\n",
    "\n",
    "matched = injected_match_dia_src[\"diaSourceId\"] > 0\n",
    "bins = np.linspace(18, 24, 25)\n",
    "\n",
    "h, _, _ = ax[0].hist(injected_match_dia_src[\"mag\"], label=\"injected\", histtype=\"step\", color=\"blue\", bins=bins)\n",
    "hm, _, _ = ax[0].hist(injected_match_dia_src[matched][\"mag\"], label=\"matched\", histtype=\"step\", color=\"orange\", bins=bins)\n",
    "hg, _, _ = ax[0].hist(good_injected_match_dia_src[\"mag\"], linestyle=\"--\", label=\"good matched\", histtype=\"step\", color=\"red\", bins=bins)\n",
    "ax[0].set_xlabel(\"injected mag\")\n",
    "ax[0].set_ylabel(\"number of sources / bin\")\n",
    "plt.legend()\n",
    "\n",
    "ax[1].scatter((bins[:len(hm)] + bins[1:])/2, hm/h, color=\"orange\", label=\"matched\")\n",
    "ax[1].stairs(hm / h, bins, color=\"orange\", label=\"matched\")\n",
    "\n",
    "ax[1].scatter((bins[:len(hg)] + bins[1:])/2, hg/h, linestyle=\"--\", color=\"red\", label=\"good matched\")\n",
    "ax[1].stairs(hg / h, bins, linestyle=\"--\", color=\"red\", label=\"matched\")\n",
    "\n",
    "ax[1].set_xlabel(\"injected mag\")\n",
    "ax[1].set_ylabel(\"fraction of recovered sources\")\n"
   ]
  },
  {
   "cell_type": "code",
   "execution_count": null,
   "id": "94d66014-a940-4110-ae96-1ef0b087c76f",
   "metadata": {},
   "outputs": [],
   "source": [
    "[c for c in injected_match_dia_src.columns]"
   ]
  },
  {
   "cell_type": "code",
   "execution_count": null,
   "id": "243d7191-8a7c-4296-83cd-3669d3e48b36",
   "metadata": {},
   "outputs": [],
   "source": [
    "s = set(good_injected_dia_src[\"diaSourceId\"])\n",
    "t = set(injected_match_dia_src[\"diaSourceId\"])"
   ]
  },
  {
   "cell_type": "code",
   "execution_count": null,
   "id": "9234aaa3-ccc3-4f55-a035-28910f8ab26e",
   "metadata": {},
   "outputs": [],
   "source": [
    "d = s - t\n",
    "print(d)"
   ]
  },
  {
   "cell_type": "code",
   "execution_count": null,
   "id": "04f9effc-6153-45f8-a177-85b8ceb768d2",
   "metadata": {},
   "outputs": [],
   "source": [
    "unmatched_dia = good_injected_dia_src.set_index(\"diaSourceId\").loc[list(d)]\n"
   ]
  },
  {
   "cell_type": "code",
   "execution_count": null,
   "id": "1a6ce544-4e04-44a1-9697-dc2a623c42cd",
   "metadata": {},
   "outputs": [],
   "source": [
    "afw_display = afwDisplay.Display(frame=3)\n",
    "\n",
    "for (x, y) in zip(unmatched_dia[\"x\"], unmatched_dia[\"y\"]):\n",
    "    afw_display.dot(\"o\", x, y, size=20, ctype=\"orange\")"
   ]
  },
  {
   "cell_type": "code",
   "execution_count": null,
   "id": "4082dd05-eb4e-430c-b688-17afb4ce5588",
   "metadata": {},
   "outputs": [],
   "source": [
    "afw_display = afwDisplay.Display(frame=2)\n",
    "afw_display.scale(\"linear\", \"zscale\")\n"
   ]
  }
 ],
 "metadata": {
  "kernelspec": {
   "display_name": "LSST",
   "language": "python",
   "name": "lsst"
  },
  "language_info": {
   "codemirror_mode": {
    "name": "ipython",
    "version": 3
   },
   "file_extension": ".py",
   "mimetype": "text/x-python",
   "name": "python",
   "nbconvert_exporter": "python",
   "pygments_lexer": "ipython3",
   "version": "3.11.9"
  }
 },
 "nbformat": 4,
 "nbformat_minor": 5
}
