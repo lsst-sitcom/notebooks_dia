{
 "cells": [
  {
   "cell_type": "code",
   "execution_count": 1,
   "id": "98ef5cfc-bbbb-4e71-9a39-72953bbfc8fc",
   "metadata": {
    "execution": {
     "iopub.execute_input": "2023-09-28T10:12:55.483496Z",
     "iopub.status.busy": "2023-09-28T10:12:55.482910Z",
     "iopub.status.idle": "2023-09-28T10:12:55.490499Z",
     "shell.execute_reply": "2023-09-28T10:12:55.490084Z",
     "shell.execute_reply.started": "2023-09-28T10:12:55.483480Z"
    }
   },
   "outputs": [
    {
     "data": {
      "text/plain": [
       "4"
      ]
     },
     "execution_count": 1,
     "metadata": {},
     "output_type": "execute_result"
    }
   ],
   "source": [
    "2+2"
   ]
  },
  {
   "cell_type": "code",
   "execution_count": null,
   "id": "08f229c7-85e1-4a86-a1a8-7fbf49d07bf4",
   "metadata": {},
   "outputs": [],
   "source": []
  }
 ],
 "metadata": {
  "kernelspec": {
   "display_name": "LSST",
   "language": "python",
   "name": "lsst"
  },
  "language_info": {
   "codemirror_mode": {
    "name": "ipython",
    "version": 3
   },
   "file_extension": ".py",
   "mimetype": "text/x-python",
   "name": "python",
   "nbconvert_exporter": "python",
   "pygments_lexer": "ipython3",
   "version": "3.11.4"
  }
 },
 "nbformat": 4,
 "nbformat_minor": 5
}
