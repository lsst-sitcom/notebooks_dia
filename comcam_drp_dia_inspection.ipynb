{
 "cells": [
  {
   "cell_type": "markdown",
   "id": "da680a3a-c1cb-4904-a963-57db015466d2",
   "metadata": {},
   "source": [
    "Looking at Some ComCam DRP subtractions\n",
    "\n",
    "Notebook by Michael Wood-Vasey: <wmwv@pitt.edu>  "
   ]
  },
  {
   "cell_type": "code",
   "execution_count": null,
   "id": "11f4c489-c1ec-4dea-9dd8-08a221f8ac5d",
   "metadata": {},
   "outputs": [],
   "source": [
    "import matplotlib.pyplot as plt\n",
    "\n",
    "from lsst.daf.butler import Butler\n",
    "import lsst.afw.display as afwDisplay\n",
    "\n",
    "import lsst.geom\n",
    "\n",
    "import lsst.afw.image\n",
    "from lsst.afw.math import Warper, WarperConfig\n",
    "import lsst.afw.table\n",
    "\n",
    "from lsst.ip.diffim import AlardLuptonSubtractConfig, AlardLuptonSubtractTask\n",
    "from lsst.ip.diffim import GetTemplateConfig, GetTemplateTask\n",
    "from lsst.ip.diffim import DetectAndMeasureConfig, DetectAndMeasureTask"
   ]
  },
  {
   "cell_type": "code",
   "execution_count": null,
   "id": "758b830b-2fde-42e4-9b79-4a8b900461a3",
   "metadata": {},
   "outputs": [],
   "source": [
    "# Choose backend\n",
    "afwDisplay.setDefaultBackend(\"firefly\")\n",
    "# afwDisplay.setDefaultBackend(\"matplotlib\")"
   ]
  },
  {
   "cell_type": "code",
   "execution_count": null,
   "id": "5e275ec9-a02e-4279-a01a-81b6e0c5f1c9",
   "metadata": {},
   "outputs": [],
   "source": [
    "# Load collection\n",
    "repo = \"embargo_new\"\n",
    "collection = \"LSSTComCam/runs/DRP/20241101_20241113/w_2024_46/DM-47566\"\n",
    "instrument = \"LSSTComCam\"\n",
    "\n",
    "butler = Butler(repo, collections=collection)\n",
    "\n",
    "name_skymap = \"lsst_cells_v1\"\n",
    "skymap = butler.get(\"skyMap\", skymap=name_skymap, collections=\"skymaps\")"
   ]
  },
  {
   "cell_type": "markdown",
   "id": "ccf9b7e6-b910-42dd-8c60-44320ea629e3",
   "metadata": {
    "execution": {
     "iopub.execute_input": "2024-11-12T22:04:53.697218Z",
     "iopub.status.busy": "2024-11-12T22:04:53.697073Z",
     "iopub.status.idle": "2024-11-12T22:04:53.699402Z",
     "shell.execute_reply": "2024-11-12T22:04:53.699052Z",
     "shell.execute_reply.started": "2024-11-12T22:04:53.697203Z"
    }
   },
   "source": [
    "### Identify data_ids from campaign"
   ]
  },
  {
   "cell_type": "code",
   "execution_count": null,
   "id": "517ee39c-2d4b-4da6-9733-b8310281283a",
   "metadata": {},
   "outputs": [],
   "source": [
    "band = \"i\"\n",
    "\n",
    "datasetRefs_dia = butler.query_datasets(\"goodSeeingDiff_differenceExp\", where=f\"band='{band}'\")"
   ]
  },
  {
   "cell_type": "code",
   "execution_count": null,
   "id": "2ad3fb84-bf1a-4d1c-9ef9-5d872b2f7f6f",
   "metadata": {},
   "outputs": [],
   "source": [
    "verbose = False\n",
    "if verbose:\n",
    "    for dr in datasetRefs_dia:\n",
    "        print(dr)\n",
    "\n",
    "print(f\"\\nFound {len(datasetRefs_dia)} differenceExps\")"
   ]
  },
  {
   "cell_type": "code",
   "execution_count": null,
   "id": "2df50d72-55b6-4961-8249-009ea19b824e",
   "metadata": {},
   "outputs": [],
   "source": [
    "i = 50\n",
    "data_id = datasetRefs_dia[i].dataId\n",
    "print(data_id)"
   ]
  },
  {
   "cell_type": "code",
   "execution_count": null,
   "id": "f732f1cd-9840-49ba-80a3-3b2f8493f7d2",
   "metadata": {},
   "outputs": [],
   "source": [
    "dia = butler.get(\"goodSeeingDiff_differenceExp\", dataId=data_id)\n",
    "template = butler.get(\"goodSeeingDiff_templateExp\", dataId=data_id)\n",
    "calexp = butler.get(\"calexp\", dataId=data_id)\n",
    "src = butler.get(\"src\", dataId=data_id)\n",
    "dia_src = butler.get(\"goodSeeingDiff_diaSrc\", dataId=data_id)\n",
    "dia_src_table = butler.get(\"goodSeeingDiff_diaSrcTable\", dataId=data_id)  # SDM-ified table.  Does not containg sky sources"
   ]
  },
  {
   "cell_type": "code",
   "execution_count": null,
   "id": "00e38a62-aa5d-4313-addc-f4caaf23e2aa",
   "metadata": {},
   "outputs": [],
   "source": [
    "afw_display = afwDisplay.Display(frame=1)\n",
    "\n",
    "afw_display.setMaskTransparency(80)\n",
    "afw_display.scale(\"asinh\", -2, 5)\n",
    "afw_display.mtv(template)"
   ]
  },
  {
   "cell_type": "code",
   "execution_count": null,
   "id": "48c75189-c16c-45cc-b15d-96e7f28e3374",
   "metadata": {},
   "outputs": [],
   "source": [
    "afw_display = afwDisplay.Display(frame=2)\n",
    "\n",
    "afw_display.setMaskTransparency(80)\n",
    "afw_display.scale(\"asinh\", -2, 5)\n",
    "afw_display.mtv(calexp)"
   ]
  },
  {
   "cell_type": "code",
   "execution_count": null,
   "id": "e6e869be-2b2c-4c93-9997-5fdb270482fb",
   "metadata": {},
   "outputs": [],
   "source": [
    "afw_display = afwDisplay.Display(frame=3)\n",
    "\n",
    "afw_display.setMaskTransparency(100)\n",
    "afw_display.scale(\"linear\", \"zscale\")\n",
    "afw_display.mtv(dia)"
   ]
  },
  {
   "cell_type": "markdown",
   "id": "468e4842-bde1-46d9-b20d-d90eef0f66d3",
   "metadata": {},
   "source": [
    "Then go to the Firefly window and click the \"link\" button in the toolbar (between the book of mask plans and the full-screen diagonal arrow).  Select \"Align and Lock Options\" -> \"by Pixel at Image Centers\" and then things will move together when you pan around and zoom in and out.  I don't know how to do this programatically as a set in the Notebook."
   ]
  },
  {
   "cell_type": "code",
   "execution_count": null,
   "id": "40cf8363-3960-4c99-8cbe-cd84cb9cbe43",
   "metadata": {},
   "outputs": [],
   "source": [
    "snr_threshold = 7.5\n",
    "max_science_snr = 200\n",
    "\n",
    "# We're mixing columsn from dia_src and dia_src_table\n",
    "# This is dangerous.  I don't think there is a gaurantee that the ordering is the same.\n",
    "# But I want the flags from dia_src and the science flux from dia_src_table\n",
    "good = ~dia_src[\"slot_Shape_flag\"] & \\\n",
    "    (dia_src[\"base_PsfFlux_instFlux\"] / dia_src[\"base_PsfFlux_instFluxErr\"] > snr_threshold) & \\\n",
    "    ~dia_src[\"base_PixelFlags_flag_edge\"] & \\\n",
    "    ((dia_src_table[\"scienceFlux\"] / dia_src_table[\"scienceFluxErr\"]) < max_science_snr) & \\\n",
    "    ~dia_src_table[\"pixelFlags_streak\"]\n",
    "\n",
    "# If I were doing just dia_src_table, I'd do something like this:\n",
    "good = (dia_src_table[\"snr\"] > snr_threshold) & \\\n",
    "    ~dia_src_table[\"shape_flag\"] & \\\n",
    "    ~dia_src_table[\"pixelFlags_bad\"] & \\\n",
    "    ~dia_src_table[\"pixelFlags_cr\"] & \\\n",
    "    ((dia_src_table[\"scienceFlux\"] / dia_src_table[\"scienceFluxErr\"]) < max_science_snr)\n",
    "\n",
    "good_dia_src = dia_src_table[good].copy(deep=True)\n",
    "\n",
    "\n",
    "print(f\"{len(good_dia_src)} good DIA sources found out of {len(dia_src)} detections.\")"
   ]
  },
  {
   "cell_type": "code",
   "execution_count": null,
   "id": "70c905a5-1503-4211-91af-2b66d11fd61a",
   "metadata": {},
   "outputs": [],
   "source": [
    "for (x, y) in zip(good_dia_src[\"x\"], good_dia_src[\"y\"]):\n",
    "    afw_display.dot(\"o\", x, y, size=20, ctype=\"green\")"
   ]
  },
  {
   "cell_type": "code",
   "execution_count": null,
   "id": "208b13c8-1f21-458e-b8d6-f4c369eef3ba",
   "metadata": {},
   "outputs": [],
   "source": [
    "good_dia_src[\"scienceFlux\"] / good_dia_src[\"scienceFluxErr\"]"
   ]
  },
  {
   "cell_type": "markdown",
   "id": "722f3db3-6f97-433d-a429-723794b7183b",
   "metadata": {},
   "source": [
    "Here's a brief appendix to remind ourselves of the columns available in each of `dia_src_table` and `dia_src`:"
   ]
  },
  {
   "cell_type": "code",
   "execution_count": null,
   "id": "25a837fe-1acc-4a5b-9fff-02d039af8002",
   "metadata": {},
   "outputs": [],
   "source": [
    "dia_src_table.columns"
   ]
  },
  {
   "cell_type": "code",
   "execution_count": null,
   "id": "0e4fbd3c-db24-4876-b84d-490a3c96f659",
   "metadata": {},
   "outputs": [],
   "source": [
    "dia_src.schema"
   ]
  },
  {
   "cell_type": "code",
   "execution_count": null,
   "id": "be182b3f-155c-4b82-9ec7-b0f8b1600a51",
   "metadata": {},
   "outputs": [],
   "source": [
    "good_dia_src"
   ]
  },
  {
   "cell_type": "code",
   "execution_count": null,
   "id": "16b84d7d-0ab6-4f04-b2ca-9163a4fca6e0",
   "metadata": {},
   "outputs": [],
   "source": [
    "for c in good_dia_src.columns:\n",
    "    print(good_dia_src[c])"
   ]
  }
 ],
 "metadata": {
  "kernelspec": {
   "display_name": "LSST",
   "language": "python",
   "name": "lsst"
  },
  "language_info": {
   "codemirror_mode": {
    "name": "ipython",
    "version": 3
   },
   "file_extension": ".py",
   "mimetype": "text/x-python",
   "name": "python",
   "nbconvert_exporter": "python",
   "pygments_lexer": "ipython3",
   "version": "3.11.9"
  }
 },
 "nbformat": 4,
 "nbformat_minor": 5
}
