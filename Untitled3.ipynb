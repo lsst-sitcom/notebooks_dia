{
 "cells": [
  {
   "cell_type": "markdown",
   "id": "7285fc00-83b5-4c22-9117-7efce628ff47",
   "metadata": {},
   "source": [
    "# Explore AuxTel Prompt Processing Subtractions + APDB\n",
    "# BUT using custom reruns\n",
    "Neven Caplar \n",
    "Started: 2023-10-25\n",
    "\n",
    "Goals: Evaluate the quality of prompt processing on auxtel images, with custom reruns\n",
    "\n",
    "    1. Find the known variables and see how these look in images and in lightcurves, using custom reruns\n"
   ]
  },
  {
   "cell_type": "markdown",
   "id": "70a47e2c-38bf-42f3-a812-a819bd9c0374",
   "metadata": {},
   "source": [
    "# Test run"
   ]
  },
  {
   "cell_type": "code",
   "execution_count": 1,
   "id": "069337b7-1c8b-416e-b9dd-ecccd3b9588f",
   "metadata": {
    "execution": {
     "iopub.execute_input": "2023-10-25T18:04:30.885849Z",
     "iopub.status.busy": "2023-10-25T18:04:30.885396Z",
     "iopub.status.idle": "2023-10-25T18:04:30.888986Z",
     "shell.execute_reply": "2023-10-25T18:04:30.888606Z",
     "shell.execute_reply.started": "2023-10-25T18:04:30.885832Z"
    },
    "tags": []
   },
   "outputs": [
    {
     "data": {
      "text/plain": [
       "'\\nsource /sdf/group/rubin/sw/loadLSST.bash\\nsetup lsst_distrib\\n\\nmake_apdb.py -c db_url=\"sqlite://///sdf/home/n/ncaplar/WORK/apdb.db\" \\n\\npipetask run -b /repo/embargo -i LATISS/defaults,LATISS/templates  -o u//sdf/home/n/ncaplar/WORK/test  -d  \"detector=0  and instrument=\\'LATISS\\' and exposure=2023052400710 and visit_system=0\"  -p $AP_PIPE_DIR/pipelines/LATISS/ApPipe.yaml -c parameters:coaddName=deep -c diaPipe:apdb.db_url=sqlite://///sdf/home/n/ncaplar/WORK/apdb.db\\n'"
      ]
     },
     "execution_count": 1,
     "metadata": {},
     "output_type": "execute_result"
    }
   ],
   "source": [
    "\"\"\"\n",
    "source /sdf/group/rubin/sw/loadLSST.bash\n",
    "setup lsst_distrib\n",
    "\n",
    "make_apdb.py -c db_url=\"sqlite://///sdf/home/n/ncaplar/WORK/apdb.db\" \n",
    "\n",
    "pipetask run -b /repo/embargo -i LATISS/defaults,LATISS/templates  -o u//sdf/home/n/ncaplar/WORK/test  -d  \"detector=0  and instrument='LATISS' and exposure=2023052400710 and visit_system=0\"  -p $AP_PIPE_DIR/pipelines/LATISS/ApPipe.yaml -c parameters:coaddName=deep -c diaPipe:apdb.db_url=sqlite://///sdf/home/n/ncaplar/WORK/apdb.db\n",
    "\"\"\""
   ]
  },
  {
   "cell_type": "code",
   "execution_count": null,
   "id": "d5b4e5e4-012c-4e1d-afe7-2a60c12718f0",
   "metadata": {},
   "outputs": [],
   "source": [
    "repo = \"/sdf/group/rubin/repo/embargo/\"\n",
    "butler = dafButler.Butler(repo)\n",
    "! butler query-collections /sdf/group/rubin/repo/embargo \"LATISS/prompt/*-2023-*/ApPipe/*\""
   ]
  },
  {
   "cell_type": "code",
   "execution_count": null,
   "id": "1f3cc1ab-7694-4069-bf8d-6c56b16d4bb3",
   "metadata": {},
   "outputs": [],
   "source": [
    "repo = \"/sdf/group/rubin/repo/embargo/\"\n",
    "butler = dafButler.Butler(repo)\n",
    "schema = 'pp_apdb'\n",
    "instrument = 'LATISS'\n",
    "apdbQuery = apdb.ApdbPostgresQuery(schema, url=\"rubin@usdf-prompt-processing.slac.stanford.edu/lsst-devl\",\\\n",
    "                                   butler=butler, instrument=instrument)"
   ]
  }
 ],
 "metadata": {
  "kernelspec": {
   "display_name": "LSST",
   "language": "python",
   "name": "lsst"
  },
  "language_info": {
   "codemirror_mode": {
    "name": "ipython",
    "version": 3
   },
   "file_extension": ".py",
   "mimetype": "text/x-python",
   "name": "python",
   "nbconvert_exporter": "python",
   "pygments_lexer": "ipython3",
   "version": "3.11.4"
  }
 },
 "nbformat": 4,
 "nbformat_minor": 5
}
