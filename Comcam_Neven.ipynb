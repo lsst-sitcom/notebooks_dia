{
 "cells": [
  {
   "cell_type": "code",
   "execution_count": 6,
   "metadata": {},
   "outputs": [],
   "source": [
    "import numpy as np\n",
    "import matplotlib.pyplot as plt\n",
    "import pandas as pd\n",
    "\n",
    "import healpy as hp\n",
    "from scipy.spatial import ConvexHull\n",
    "\n",
    "import lsst.daf.butler as dafButler\n",
    "from lsst.analysis.ap import apdb\n",
    "from lsst.ap.association import AssociationTask, AssociationConfig\n",
    "from lsst.dax.apdb import Apdb, ApdbCassandra, ApdbTables\n",
    "import lsst.geom\n",
    "from lsst.afw import image as afwImage\n",
    "\n",
    "from mpl_toolkits.axes_grid1 import make_axes_locatable\n",
    "from astropy.visualization import ZScaleInterval, SqrtStretch, ImageNormalize, ManualInterval, AsinhStretch, MinMaxInterval, LogStretch\n",
    "\n",
    "\n",
    "import warnings\n",
    "warnings.filterwarnings('ignore')\n",
    "warnings.simplefilter('ignore')\n",
    "\n",
    "from typing import TYPE_CHECKING, cast\n",
    "\n",
    "import astropy.units as u\n",
    "from astropy.coordinates import SkyCoord\n",
    "\n",
    "plt.set_loglevel('WARNING')"
   ]
  },
  {
   "cell_type": "code",
   "execution_count": 109,
   "metadata": {},
   "outputs": [],
   "source": [
    "def create_mag_errors(sciFlux, sciFluxErr):\n",
    "    \"\"\"Move flux into magnitudes and calculate the error on the magnitude\n",
    "    \n",
    "    Parameters\n",
    "    ----------\n",
    "    sciFlux : `float`\n",
    "        Science flux\n",
    "    sciFluxErr : `float`\n",
    "        Science flux error\n",
    "\n",
    "    Returns\n",
    "    -------\n",
    "    mag, magerr  : `float`, `float`\n",
    "        Magnitude and magnitude error\n",
    "    \"\"\"\n",
    "    \n",
    "    mag = u.nJy.to(u.ABmag, sciFlux)\n",
    "    upper_mag = u.nJy.to(u.ABmag, sciFlux+sciFluxErr)\n",
    "    lower_mag = u.nJy.to(u.ABmag, sciFlux-sciFluxErr)\n",
    "    magErr = -(upper_mag-lower_mag)/2\n",
    "    \n",
    "    return mag, magErr\n",
    "\n",
    "def create_mag(sciFlux):\n",
    "    \"\"\"Move flux into magnitudes and calculate the error on the magnitude\n",
    "    \n",
    "    Parameters\n",
    "    ----------\n",
    "    sciFlux : `float`\n",
    "        Science flux\n",
    "    sciFluxErr : `float`\n",
    "        Science flux error\n",
    "\n",
    "    Returns\n",
    "    -------\n",
    "    mag, magerr  : `float`, `float`\n",
    "        Magnitude and magnitude error\n",
    "    \"\"\"\n",
    "    \n",
    "    mag = u.nJy.to(u.ABmag, sciFlux)\n",
    "    \n",
    "    return mag\n",
    "\n",
    "def degrees_to_radians(degrees):\n",
    "    \"\"\"\n",
    "    Convert an angle from degrees to radians.\n",
    "\n",
    "    Parameters:\n",
    "    degrees (float): Angle in degrees.\n",
    "\n",
    "    Returns:\n",
    "    float: Angle in radians (unitless).\n",
    "    \"\"\"\n",
    "    # Convert the input degrees to radians\n",
    "    radians = (degrees * u.deg).to(u.rad)\n",
    "    \n",
    "    # Return the numerical value (without the unit)\n",
    "    return radians.value\n",
    "\n",
    "def radians_to_degrees(radians):\n",
    "    \"\"\"\n",
    "    Convert an angle from radians to degrees.\n",
    "\n",
    "    Parameters:\n",
    "    radians (float): Angle in radians.\n",
    "\n",
    "    Returns:\n",
    "    float: Angle in degrees (unitless).\n",
    "    \"\"\"\n",
    "    # Convert the input radians to degrees\n",
    "    degrees = (radians * u.rad).to(u.deg)\n",
    "    \n",
    "    # Return the numerical value (without the unit)\n",
    "    return degrees.value\n",
    "\n",
    "def flux_to_magnitude(df_single_flux_src):\n",
    "    \"\"\"Magic function that converts flux to magnitude\n",
    "\n",
    "    Args:\n",
    "        df_single_flux_src (_type_): _description_\n",
    "\n",
    "    Returns:\n",
    "        _type_: _description_\n",
    "    \"\"\"\n",
    "    \n",
    "    # Define the zeropoints for each band\n",
    "    zeropoints = {\n",
    "        'u': 12.652350670009373,\n",
    "        'g': 14.689449213373276,\n",
    "        'r': 14.559501946792281,\n",
    "        'i': 14.378976834902065,\n",
    "        'z': 13.993052964496345,\n",
    "        'y': 13.017367314857484\n",
    "    }\n",
    "    \n",
    "    # Create an empty dictionary to hold magnitudes\n",
    "    mag_dict = {}\n",
    "    \n",
    "    # Apply the transformation for each band\n",
    "    for band in zeropoints.keys():\n",
    "        # Make sure the flux column for the band exists in the dataframe\n",
    "        if f'lsst_flux_{band}' in df_single_flux_src.columns:\n",
    "            flux_col = f'lsst_flux_{band}'\n",
    "            mag_col = f'mag_{band}'\n",
    "            \n",
    "            # Calculate magnitudes from flux: mag = zp - 2.5 * log10(flux)\n",
    "            # Handling zero or negative flux values to avoid invalid log10 operations\n",
    "            mag_dict[mag_col] = zeropoints[band] - 2.5 * np.log10(df_single_flux_src[flux_col].replace(0, np.nan))\n",
    "    \n",
    "    # Convert the dictionary to a DataFrame and concatenate with the original dataframe\n",
    "    mag_df = pd.DataFrame(mag_dict)\n",
    "    \n",
    "    # Return the original dataframe with new magnitude columns\n",
    "    return pd.concat([df_single_flux_src, mag_df], axis=1)\n"
   ]
  },
  {
   "cell_type": "code",
   "execution_count": 7,
   "metadata": {},
   "outputs": [],
   "source": [
    "# at the moment comcam only in Cassandra\n",
    "# from lsst.analysis.ap import apdbCassandra\n",
    "# or4_apdb_Cassandra = apdbCassandra.DbCassandraQuery(config_uri='s3://embargo@rubin-summit-users/apdb_config/cassandra/pp_apdb_lsstcomcamsim_or4.py')\n",
    "# comcam_apdb_Cassandra = apdbCassandra.DbCassandraQuery(config_uri='s3://embargo@rubin-summit-users/apdb_config/cassandra/pp_apdb_lsstcomcam.py')"
   ]
  },
  {
   "cell_type": "code",
   "execution_count": null,
   "metadata": {},
   "outputs": [],
   "source": []
  },
  {
   "cell_type": "code",
   "execution_count": 8,
   "metadata": {},
   "outputs": [
    {
     "name": "stderr",
     "output_type": "stream",
     "text": [
      "INFO:botocore.credentials:Found credentials in shared credentials file: /sdf/home/n/ncaplar/.lsst/aws-credentials.ini\n"
     ]
    }
   ],
   "source": [
    "# Load collection\n",
    "repo = \"embargo_new\"\n",
    "collection = \"LSSTComCam/runs/DRP/20241101_20241127/w_2024_48/DM-47841\"\n",
    "instrument = \"LSSTComCam\"\n",
    "\n",
    "butler = dafButler.Butler(repo, collections=collection, instrument=instrument)"
   ]
  },
  {
   "cell_type": "code",
   "execution_count": 9,
   "metadata": {},
   "outputs": [
    {
     "name": "stdout",
     "output_type": "stream",
     "text": [
      "Found 247 differenceExps for band 'u'\n",
      "Found 774 differenceExps for band 'g'\n",
      "Found 2662 differenceExps for band 'r'\n",
      "Found 1777 differenceExps for band 'i'\n",
      "Found 765 differenceExps for band 'z'\n",
      "Found 584 differenceExps for band 'y'\n"
     ]
    }
   ],
   "source": [
    "bands = [\"u\", \"g\", \"r\", \"i\", \"z\", \"y\"]\n",
    "\n",
    "verbose = False\n",
    "\n",
    "for band in bands:\n",
    "    datasetRefs_dia = butler.query_datasets(\"goodSeeingDiff_differenceExp\", where=f\"band='{band}'\")\n",
    "\n",
    "    if verbose:\n",
    "        print(f\"\\nDataset references for band '{band}':\")\n",
    "        for dr in datasetRefs_dia:\n",
    "            print(dr)\n",
    "\n",
    "    print(f\"Found {len(datasetRefs_dia)} differenceExps for band '{band}'\")"
   ]
  },
  {
   "cell_type": "code",
   "execution_count": 12,
   "metadata": {},
   "outputs": [
    {
     "name": "stdout",
     "output_type": "stream",
     "text": [
      "{instrument: 'LSSTComCam', detector: 0, visit: 2024112000314, band: 'y', day_obs: 20241120, physical_filter: 'y_04'}\n"
     ]
    }
   ],
   "source": [
    "i = 50\n",
    "data_id = datasetRefs_dia[i].dataId\n",
    "print(data_id)"
   ]
  },
  {
   "cell_type": "code",
   "execution_count": 39,
   "metadata": {},
   "outputs": [],
   "source": [
    "# coord = lsst.geom.SpherePoint(targetCoord.ra.deg, targetCoord.dec.deg, units=lsst.geom.degrees)\n",
    "# tract_info = skymap.findTract(coord)"
   ]
  },
  {
   "cell_type": "code",
   "execution_count": 61,
   "metadata": {},
   "outputs": [
    {
     "name": "stdout",
     "output_type": "stream",
     "text": [
      "43\n",
      "43\n"
     ]
    }
   ],
   "source": [
    "lc_refs = butler.query_datasets(\"diaSourceTable_tract\")\n",
    "obj_refs = butler.query_datasets(\"diaObjectTable_tract\")\n",
    "print(len(lc_refs))\n",
    "print(len(obj_refs))"
   ]
  },
  {
   "cell_type": "code",
   "execution_count": 69,
   "metadata": {},
   "outputs": [
    {
     "data": {
      "text/plain": [
       "Text(0, 0.5, 'Number of diaObjects')"
      ]
     },
     "execution_count": 69,
     "metadata": {},
     "output_type": "execute_result"
    },
    {
     "data": {
      "image/png": "[encoded data removed]",
      "text/plain": [
       "<Figure size 640x480 with 1 Axes>"
      ]
     },
     "metadata": {},
     "output_type": "display_data"
    }
   ],
   "source": [
    "# select one tract\n",
    "obj_ref = obj_refs[31]\n",
    "dia_Obj = butler.get(obj_ref)\n",
    "\n",
    "# select the diaSource for the same tract\n",
    "diaSource = butler.get('diaSourceTable_tract', dataId=obj_ref.dataId)\n",
    "\n",
    "plt.hist(dia_Obj['nDiaSources'], bins=20, range=(0, 20));\n",
    "plt.xlabel('Number of diaSources per diaObject')\n",
    "plt.ylabel('Number of diaObjects')"
   ]
  },
  {
   "cell_type": "code",
   "execution_count": 72,
   "metadata": {},
   "outputs": [
    {
     "data": {
      "text/plain": [
       "count    86162.000000\n",
       "mean         2.459205\n",
       "std          3.961566\n",
       "min          1.000000\n",
       "25%          1.000000\n",
       "50%          1.000000\n",
       "75%          2.000000\n",
       "max         39.000000\n",
       "Name: nDiaSources, dtype: float64"
      ]
     },
     "execution_count": 72,
     "metadata": {},
     "output_type": "execute_result"
    }
   ],
   "source": [
    "dia_Obj['nDiaSources'].describe()"
   ]
  },
  {
   "cell_type": "code",
   "execution_count": 75,
   "metadata": {},
   "outputs": [],
   "source": [
    "dia_Obj_many_Src = dia_Obj[dia_Obj['nDiaSources']>35]"
   ]
  },
  {
   "cell_type": "code",
   "execution_count": 86,
   "metadata": {},
   "outputs": [
    {
     "data": {
      "text/plain": [
       "2430439666873270276"
      ]
     },
     "execution_count": 86,
     "metadata": {},
     "output_type": "execute_result"
    }
   ],
   "source": [
    "dia_Obj_many_Src.index[0]"
   ]
  },
  {
   "cell_type": "code",
   "execution_count": 88,
   "metadata": {},
   "outputs": [],
   "source": [
    "lc = diaSource[diaSource['diaObjectId'] == dia_Obj_many_Src.index[0]]\n",
    "lc;"
   ]
  },
  {
   "cell_type": "code",
   "execution_count": null,
   "metadata": {},
   "outputs": [],
   "source": [
    "\"\"\"\n",
    "dia = butler.get(\"goodSeeingDiff_differenceExp\", dataId=data_id)\n",
    "template = butler.get(\"goodSeeingDiff_templateExp\", dataId=data_id)\n",
    "calexp = butler.get(\"calexp\", dataId=data_id)\n",
    "src = butler.get(\"src\", dataId=data_id)\n",
    "dia_src = butler.get(\"goodSeeingDiff_diaSrc\", dataId=data_id)\n",
    "dia_src_table = butler.get(\"goodSeeingDiff_diaSrcTable\", dataId=data_id) \n",
    "\"\"\""
   ]
  },
  {
   "cell_type": "code",
   "execution_count": 93,
   "metadata": {},
   "outputs": [
    {
     "data": {
      "image/png": "[encoded data removed]",
      "text/plain": [
       "<Figure size 640x480 with 1 Axes>"
      ]
     },
     "metadata": {},
     "output_type": "display_data"
    }
   ],
   "source": [
    "import matplotlib.pyplot as plt\n",
    "\n",
    "# Define LSST band colors\n",
    "band_colors = {\n",
    "    \"u\": \"purple\",\n",
    "    \"g\": \"green\",\n",
    "    \"r\": \"red\",\n",
    "    \"i\": \"orange\",\n",
    "    \"z\": \"darkgray\",\n",
    "    \"y\": \"brown\"\n",
    "}\n",
    "\n",
    "# Create the figure\n",
    "fig = plt.figure()\n",
    "\n",
    "# Plot the data for each band\n",
    "for band in set(lc['band']):\n",
    "    lcb = lc.query(f'band == \"{band}\"')\n",
    "    # Convert flux and flux error to magnitudes\n",
    "    mag, magErr = create_mag_errors(lcb['psfFlux'], lcb['psfFluxErr'])\n",
    "    \n",
    "    # Plot magnitudes with errors\n",
    "    plt.errorbar(\n",
    "        lcb['midpointMjdTai'], \n",
    "        mag, \n",
    "        magErr, \n",
    "        label=band, \n",
    "        linestyle='none', \n",
    "        fmt='.', \n",
    "        color=band_colors.get(band, 'black')  # Use black as default for unknown bands\n",
    "    )\n",
    "\n",
    "# Add legend, labels, and display\n",
    "plt.legend()\n",
    "plt.xlabel('MJD')\n",
    "plt.ylabel('Difference flux')\n",
    "plt.title('Light Curve by Band')\n",
    "plt.show()"
   ]
  },
  {
   "cell_type": "code",
   "execution_count": 99,
   "metadata": {},
   "outputs": [],
   "source": [
    "mag, magErr = create_mag_errors(diaSource['scienceFlux'], diaSource['scienceFluxErr'])"
   ]
  },
  {
   "cell_type": "code",
   "execution_count": 115,
   "metadata": {},
   "outputs": [
    {
     "name": "stdout",
     "output_type": "stream",
     "text": [
      "['g' 'i' 'r' 'y']\n"
     ]
    }
   ],
   "source": [
    "print(diaSource['band'].unique())"
   ]
  },
  {
   "cell_type": "code",
   "execution_count": 118,
   "metadata": {},
   "outputs": [],
   "source": [
    "# Step 1: Calculate mean flux for each diaObjectId in each band\n",
    "mean_flux_per_object_band = diaSource.groupby(['diaObjectId', 'band'])['scienceFlux'].mean().unstack(fill_value=0)\n",
    "\n",
    "# Rename columns dynamically for all bands\n",
    "band_flux_columns = {band: f\"{band}_band_flux_mean\" for band in ['g', 'r', 'i', 'y']}\n",
    "mean_flux_per_object_band = mean_flux_per_object_band.rename(columns=band_flux_columns).reset_index()\n",
    "\n",
    "# Step 2: Merge mean flux values into dia_Obj_field\n",
    "dia_Obj_field_updated = dia_Obj.merge(mean_flux_per_object_band, on='diaObjectId', how='left')\n",
    "\n",
    "# Step 3: Calculate magnitudes for all bands\n",
    "for band in [ 'g', 'r', 'i',  'y']:\n",
    "    flux_col = f\"{band}_band_flux_mean\"\n",
    "    mag_col = f\"{band}_band_mag\"\n",
    "    dia_Obj_field_updated[mag_col] = dia_Obj_field_updated[flux_col].apply(create_mag)\n",
    "\n",
    "# Replace infinite values with NaN\n",
    "dia_Obj_field_updated.replace([np.inf, -np.inf], np.nan, inplace=True)\n",
    "\n",
    "# Select and display the magnitude columns\n",
    "output_columns = [f\"{band}_band_mag\" for band in ['g', 'r', 'i', 'y']]\n",
    "result = dia_Obj_field_updated[output_columns]\n",
    "\n",
    "     "
   ]
  },
  {
   "cell_type": "code",
   "execution_count": null,
   "metadata": {},
   "outputs": [
    {
     "data": {
      "image/png": "[encoded data removed]",
      "text/plain": [
       "<Figure size 1200x1200 with 4 Axes>"
      ]
     },
     "metadata": {},
     "output_type": "display_data"
    }
   ],
   "source": [
    "plt.figure(figsize=(12, 12))\n",
    "plt.suptitle('Number of detected objects, OR4, small patch of the sky')\n",
    "\n",
    "plt.subplot(4, 1, 1)\n",
    "plt.hist(result['g_band_mag'][~np.isnan(result['g_band_mag'])], color='g', alpha=0.5, bins=np.arange(15,30,0.1), label='g band detected objects');\n",
    "plt.xlim(15, 30)\n",
    "plt.xlabel('Magnitude')\n",
    "plt.legend();\n",
    "\n",
    "plt.subplot(4, 1, 2)\n",
    "plt.hist(result['r_band_mag'][~np.isnan(result['r_band_mag'])], color='r', alpha=0.5, bins=np.arange(15,30,0.1), label='r band detected objects');\n",
    "plt.xlim(15, 30)\n",
    "plt.xlabel('Magnitude')\n",
    "plt.legend();\n",
    "\n",
    "plt.subplot(4, 1,3)\n",
    "plt.hist(result['i_band_mag'][~np.isnan(result['i_band_mag'])], color='brown', alpha=0.5, bins=np.arange(15,30,0.1), label='i band detected objects');\n",
    "plt.xlim(15, 30)\n",
    "plt.xlabel('Magnitude')\n",
    "plt.legend();\n",
    "\n",
    "plt.subplot(4, 1,4)\n",
    "plt.hist(result['y_band_mag'][~np.isnan(result['y_band_mag'])], color='gray', alpha=0.5, bins=np.arange(15,30,0.1), label='y band detected objects');\n",
    "plt.xlim(15, 30)\n",
    "plt.xlabel('Magnitude')\n",
    "plt.legend();"
   ]
  },
  {
   "cell_type": "code",
   "execution_count": null,
   "metadata": {},
   "outputs": [
    {
     "data": {
      "text/html": [
       "<div>\n",
       "<style scoped>\n",
       "    .dataframe tbody tr th:only-of-type {\n",
       "        vertical-align: middle;\n",
       "    }\n",
       "\n",
       "    .dataframe tbody tr th {\n",
       "        vertical-align: top;\n",
       "    }\n",
       "\n",
       "    .dataframe thead th {\n",
       "        text-align: right;\n",
       "    }\n",
       "</style>\n",
       "<table border=\"1\" class=\"dataframe\">\n",
       "  <thead>\n",
       "    <tr style=\"text-align: right;\">\n",
       "      <th></th>\n",
       "      <th>ra</th>\n",
       "      <th>dec</th>\n",
       "      <th>nDiaSources</th>\n",
       "      <th>radecMjdTai</th>\n",
       "      <th>g_psfFluxLinearSlope</th>\n",
       "      <th>g_psfFluxLinearIntercept</th>\n",
       "      <th>g_psfFluxMAD</th>\n",
       "      <th>g_psfFluxMaxSlope</th>\n",
       "      <th>g_psfFluxErrMean</th>\n",
       "      <th>g_psfFluxMean</th>\n",
       "      <th>...</th>\n",
       "      <th>y_psfFluxPercentile05</th>\n",
       "      <th>y_psfFluxPercentile25</th>\n",
       "      <th>y_psfFluxPercentile50</th>\n",
       "      <th>y_psfFluxPercentile75</th>\n",
       "      <th>y_psfFluxPercentile95</th>\n",
       "      <th>y_psfFluxSigma</th>\n",
       "      <th>y_scienceFluxSigma</th>\n",
       "      <th>y_psfFluxSkew</th>\n",
       "      <th>y_psfFluxChi2</th>\n",
       "      <th>y_psfFluxStetsonJ</th>\n",
       "    </tr>\n",
       "    <tr>\n",
       "      <th>diaObjectId</th>\n",
       "      <th></th>\n",
       "      <th></th>\n",
       "      <th></th>\n",
       "      <th></th>\n",
       "      <th></th>\n",
       "      <th></th>\n",
       "      <th></th>\n",
       "      <th></th>\n",
       "      <th></th>\n",
       "      <th></th>\n",
       "      <th></th>\n",
       "      <th></th>\n",
       "      <th></th>\n",
       "      <th></th>\n",
       "      <th></th>\n",
       "      <th></th>\n",
       "      <th></th>\n",
       "      <th></th>\n",
       "      <th></th>\n",
       "      <th></th>\n",
       "      <th></th>\n",
       "    </tr>\n",
       "  </thead>\n",
       "  <tbody>\n",
       "    <tr>\n",
       "      <th>2430382492268625921</th>\n",
       "      <td>95.505391</td>\n",
       "      <td>-25.224280</td>\n",
       "      <td>1</td>\n",
       "      <td>60634.328488</td>\n",
       "      <td>NaN</td>\n",
       "      <td>NaN</td>\n",
       "      <td>NaN</td>\n",
       "      <td>NaN</td>\n",
       "      <td>NaN</td>\n",
       "      <td>NaN</td>\n",
       "      <td>...</td>\n",
       "      <td>-15637.508183</td>\n",
       "      <td>-15637.508183</td>\n",
       "      <td>-15637.508183</td>\n",
       "      <td>-15637.508183</td>\n",
       "      <td>-15637.508183</td>\n",
       "      <td>NaN</td>\n",
       "      <td>NaN</td>\n",
       "      <td>NaN</td>\n",
       "      <td>0.000000e+00</td>\n",
       "      <td>NaN</td>\n",
       "    </tr>\n",
       "    <tr>\n",
       "      <th>2430382492268625922</th>\n",
       "      <td>95.516505</td>\n",
       "      <td>-25.217411</td>\n",
       "      <td>2</td>\n",
       "      <td>60641.219499</td>\n",
       "      <td>NaN</td>\n",
       "      <td>NaN</td>\n",
       "      <td>NaN</td>\n",
       "      <td>NaN</td>\n",
       "      <td>NaN</td>\n",
       "      <td>NaN</td>\n",
       "      <td>...</td>\n",
       "      <td>-21057.774073</td>\n",
       "      <td>-21057.774073</td>\n",
       "      <td>-21057.774073</td>\n",
       "      <td>-21057.774073</td>\n",
       "      <td>-21057.774073</td>\n",
       "      <td>NaN</td>\n",
       "      <td>NaN</td>\n",
       "      <td>NaN</td>\n",
       "      <td>0.000000e+00</td>\n",
       "      <td>NaN</td>\n",
       "    </tr>\n",
       "    <tr>\n",
       "      <th>2430382492268625923</th>\n",
       "      <td>95.512656</td>\n",
       "      <td>-25.221502</td>\n",
       "      <td>1</td>\n",
       "      <td>60634.328488</td>\n",
       "      <td>NaN</td>\n",
       "      <td>NaN</td>\n",
       "      <td>NaN</td>\n",
       "      <td>NaN</td>\n",
       "      <td>NaN</td>\n",
       "      <td>NaN</td>\n",
       "      <td>...</td>\n",
       "      <td>-28674.863781</td>\n",
       "      <td>-28674.863781</td>\n",
       "      <td>-28674.863781</td>\n",
       "      <td>-28674.863781</td>\n",
       "      <td>-28674.863781</td>\n",
       "      <td>NaN</td>\n",
       "      <td>NaN</td>\n",
       "      <td>NaN</td>\n",
       "      <td>1.335812e-30</td>\n",
       "      <td>NaN</td>\n",
       "    </tr>\n",
       "    <tr>\n",
       "      <th>2430382492268625924</th>\n",
       "      <td>95.497516</td>\n",
       "      <td>-25.216558</td>\n",
       "      <td>5</td>\n",
       "      <td>60641.214104</td>\n",
       "      <td>-507086.423033</td>\n",
       "      <td>3.075034e+10</td>\n",
       "      <td>446.834704</td>\n",
       "      <td>-249531.510751</td>\n",
       "      <td>349.311672</td>\n",
       "      <td>2417.469318</td>\n",
       "      <td>...</td>\n",
       "      <td>NaN</td>\n",
       "      <td>NaN</td>\n",
       "      <td>NaN</td>\n",
       "      <td>NaN</td>\n",
       "      <td>NaN</td>\n",
       "      <td>NaN</td>\n",
       "      <td>NaN</td>\n",
       "      <td>NaN</td>\n",
       "      <td>NaN</td>\n",
       "      <td>NaN</td>\n",
       "    </tr>\n",
       "    <tr>\n",
       "      <th>2430382492268625925</th>\n",
       "      <td>95.497339</td>\n",
       "      <td>-25.222527</td>\n",
       "      <td>1</td>\n",
       "      <td>60634.332367</td>\n",
       "      <td>NaN</td>\n",
       "      <td>NaN</td>\n",
       "      <td>NaN</td>\n",
       "      <td>NaN</td>\n",
       "      <td>NaN</td>\n",
       "      <td>NaN</td>\n",
       "      <td>...</td>\n",
       "      <td>NaN</td>\n",
       "      <td>NaN</td>\n",
       "      <td>NaN</td>\n",
       "      <td>NaN</td>\n",
       "      <td>NaN</td>\n",
       "      <td>NaN</td>\n",
       "      <td>NaN</td>\n",
       "      <td>NaN</td>\n",
       "      <td>NaN</td>\n",
       "      <td>NaN</td>\n",
       "    </tr>\n",
       "    <tr>\n",
       "      <th>...</th>\n",
       "      <td>...</td>\n",
       "      <td>...</td>\n",
       "      <td>...</td>\n",
       "      <td>...</td>\n",
       "      <td>...</td>\n",
       "      <td>...</td>\n",
       "      <td>...</td>\n",
       "      <td>...</td>\n",
       "      <td>...</td>\n",
       "      <td>...</td>\n",
       "      <td>...</td>\n",
       "      <td>...</td>\n",
       "      <td>...</td>\n",
       "      <td>...</td>\n",
       "      <td>...</td>\n",
       "      <td>...</td>\n",
       "      <td>...</td>\n",
       "      <td>...</td>\n",
       "      <td>...</td>\n",
       "      <td>...</td>\n",
       "      <td>...</td>\n",
       "    </tr>\n",
       "    <tr>\n",
       "      <th>2430619986780226346</th>\n",
       "      <td>94.763380</td>\n",
       "      <td>-24.532024</td>\n",
       "      <td>1</td>\n",
       "      <td>60641.220116</td>\n",
       "      <td>NaN</td>\n",
       "      <td>NaN</td>\n",
       "      <td>NaN</td>\n",
       "      <td>NaN</td>\n",
       "      <td>NaN</td>\n",
       "      <td>NaN</td>\n",
       "      <td>...</td>\n",
       "      <td>NaN</td>\n",
       "      <td>NaN</td>\n",
       "      <td>NaN</td>\n",
       "      <td>NaN</td>\n",
       "      <td>NaN</td>\n",
       "      <td>NaN</td>\n",
       "      <td>NaN</td>\n",
       "      <td>NaN</td>\n",
       "      <td>NaN</td>\n",
       "      <td>NaN</td>\n",
       "    </tr>\n",
       "    <tr>\n",
       "      <th>2430619986780226347</th>\n",
       "      <td>94.763274</td>\n",
       "      <td>-24.533838</td>\n",
       "      <td>1</td>\n",
       "      <td>60641.220116</td>\n",
       "      <td>NaN</td>\n",
       "      <td>NaN</td>\n",
       "      <td>NaN</td>\n",
       "      <td>NaN</td>\n",
       "      <td>NaN</td>\n",
       "      <td>NaN</td>\n",
       "      <td>...</td>\n",
       "      <td>NaN</td>\n",
       "      <td>NaN</td>\n",
       "      <td>NaN</td>\n",
       "      <td>NaN</td>\n",
       "      <td>NaN</td>\n",
       "      <td>NaN</td>\n",
       "      <td>NaN</td>\n",
       "      <td>NaN</td>\n",
       "      <td>NaN</td>\n",
       "      <td>NaN</td>\n",
       "    </tr>\n",
       "    <tr>\n",
       "      <th>2430619986780226348</th>\n",
       "      <td>94.921134</td>\n",
       "      <td>-24.527149</td>\n",
       "      <td>1</td>\n",
       "      <td>60641.221447</td>\n",
       "      <td>NaN</td>\n",
       "      <td>NaN</td>\n",
       "      <td>NaN</td>\n",
       "      <td>NaN</td>\n",
       "      <td>NaN</td>\n",
       "      <td>NaN</td>\n",
       "      <td>...</td>\n",
       "      <td>NaN</td>\n",
       "      <td>NaN</td>\n",
       "      <td>NaN</td>\n",
       "      <td>NaN</td>\n",
       "      <td>NaN</td>\n",
       "      <td>NaN</td>\n",
       "      <td>NaN</td>\n",
       "      <td>NaN</td>\n",
       "      <td>NaN</td>\n",
       "      <td>NaN</td>\n",
       "    </tr>\n",
       "    <tr>\n",
       "      <th>2430619986780226349</th>\n",
       "      <td>94.919385</td>\n",
       "      <td>-24.524432</td>\n",
       "      <td>1</td>\n",
       "      <td>60641.221447</td>\n",
       "      <td>NaN</td>\n",
       "      <td>NaN</td>\n",
       "      <td>NaN</td>\n",
       "      <td>NaN</td>\n",
       "      <td>NaN</td>\n",
       "      <td>NaN</td>\n",
       "      <td>...</td>\n",
       "      <td>NaN</td>\n",
       "      <td>NaN</td>\n",
       "      <td>NaN</td>\n",
       "      <td>NaN</td>\n",
       "      <td>NaN</td>\n",
       "      <td>NaN</td>\n",
       "      <td>NaN</td>\n",
       "      <td>NaN</td>\n",
       "      <td>NaN</td>\n",
       "      <td>NaN</td>\n",
       "    </tr>\n",
       "    <tr>\n",
       "      <th>2430655171152314369</th>\n",
       "      <td>95.267165</td>\n",
       "      <td>-24.378097</td>\n",
       "      <td>1</td>\n",
       "      <td>60641.218334</td>\n",
       "      <td>NaN</td>\n",
       "      <td>NaN</td>\n",
       "      <td>NaN</td>\n",
       "      <td>NaN</td>\n",
       "      <td>NaN</td>\n",
       "      <td>NaN</td>\n",
       "      <td>...</td>\n",
       "      <td>NaN</td>\n",
       "      <td>NaN</td>\n",
       "      <td>NaN</td>\n",
       "      <td>NaN</td>\n",
       "      <td>NaN</td>\n",
       "      <td>NaN</td>\n",
       "      <td>NaN</td>\n",
       "      <td>NaN</td>\n",
       "      <td>NaN</td>\n",
       "      <td>NaN</td>\n",
       "    </tr>\n",
       "  </tbody>\n",
       "</table>\n",
       "<p>86162 rows × 92 columns</p>\n",
       "</div>"
      ],
      "text/plain": [
       "                            ra        dec  nDiaSources   radecMjdTai  \\\n",
       "diaObjectId                                                            \n",
       "2430382492268625921  95.505391 -25.224280            1  60634.328488   \n",
       "2430382492268625922  95.516505 -25.217411            2  60641.219499   \n",
       "2430382492268625923  95.512656 -25.221502            1  60634.328488   \n",
       "2430382492268625924  95.497516 -25.216558            5  60641.214104   \n",
       "2430382492268625925  95.497339 -25.222527            1  60634.332367   \n",
       "...                        ...        ...          ...           ...   \n",
       "2430619986780226346  94.763380 -24.532024            1  60641.220116   \n",
       "2430619986780226347  94.763274 -24.533838            1  60641.220116   \n",
       "2430619986780226348  94.921134 -24.527149            1  60641.221447   \n",
       "2430619986780226349  94.919385 -24.524432            1  60641.221447   \n",
       "2430655171152314369  95.267165 -24.378097            1  60641.218334   \n",
       "\n",
       "                     g_psfFluxLinearSlope  g_psfFluxLinearIntercept  \\\n",
       "diaObjectId                                                           \n",
       "2430382492268625921                   NaN                       NaN   \n",
       "2430382492268625922                   NaN                       NaN   \n",
       "2430382492268625923                   NaN                       NaN   \n",
       "2430382492268625924        -507086.423033              3.075034e+10   \n",
       "2430382492268625925                   NaN                       NaN   \n",
       "...                                   ...                       ...   \n",
       "2430619986780226346                   NaN                       NaN   \n",
       "2430619986780226347                   NaN                       NaN   \n",
       "2430619986780226348                   NaN                       NaN   \n",
       "2430619986780226349                   NaN                       NaN   \n",
       "2430655171152314369                   NaN                       NaN   \n",
       "\n",
       "                     g_psfFluxMAD  g_psfFluxMaxSlope  g_psfFluxErrMean  \\\n",
       "diaObjectId                                                              \n",
       "2430382492268625921           NaN                NaN               NaN   \n",
       "2430382492268625922           NaN                NaN               NaN   \n",
       "2430382492268625923           NaN                NaN               NaN   \n",
       "2430382492268625924    446.834704     -249531.510751        349.311672   \n",
       "2430382492268625925           NaN                NaN               NaN   \n",
       "...                           ...                ...               ...   \n",
       "2430619986780226346           NaN                NaN               NaN   \n",
       "2430619986780226347           NaN                NaN               NaN   \n",
       "2430619986780226348           NaN                NaN               NaN   \n",
       "2430619986780226349           NaN                NaN               NaN   \n",
       "2430655171152314369           NaN                NaN               NaN   \n",
       "\n",
       "                     g_psfFluxMean  ...  y_psfFluxPercentile05  \\\n",
       "diaObjectId                         ...                          \n",
       "2430382492268625921            NaN  ...          -15637.508183   \n",
       "2430382492268625922            NaN  ...          -21057.774073   \n",
       "2430382492268625923            NaN  ...          -28674.863781   \n",
       "2430382492268625924    2417.469318  ...                    NaN   \n",
       "2430382492268625925            NaN  ...                    NaN   \n",
       "...                            ...  ...                    ...   \n",
       "2430619986780226346            NaN  ...                    NaN   \n",
       "2430619986780226347            NaN  ...                    NaN   \n",
       "2430619986780226348            NaN  ...                    NaN   \n",
       "2430619986780226349            NaN  ...                    NaN   \n",
       "2430655171152314369            NaN  ...                    NaN   \n",
       "\n",
       "                     y_psfFluxPercentile25  y_psfFluxPercentile50  \\\n",
       "diaObjectId                                                         \n",
       "2430382492268625921          -15637.508183          -15637.508183   \n",
       "2430382492268625922          -21057.774073          -21057.774073   \n",
       "2430382492268625923          -28674.863781          -28674.863781   \n",
       "2430382492268625924                    NaN                    NaN   \n",
       "2430382492268625925                    NaN                    NaN   \n",
       "...                                    ...                    ...   \n",
       "2430619986780226346                    NaN                    NaN   \n",
       "2430619986780226347                    NaN                    NaN   \n",
       "2430619986780226348                    NaN                    NaN   \n",
       "2430619986780226349                    NaN                    NaN   \n",
       "2430655171152314369                    NaN                    NaN   \n",
       "\n",
       "                     y_psfFluxPercentile75  y_psfFluxPercentile95  \\\n",
       "diaObjectId                                                         \n",
       "2430382492268625921          -15637.508183          -15637.508183   \n",
       "2430382492268625922          -21057.774073          -21057.774073   \n",
       "2430382492268625923          -28674.863781          -28674.863781   \n",
       "2430382492268625924                    NaN                    NaN   \n",
       "2430382492268625925                    NaN                    NaN   \n",
       "...                                    ...                    ...   \n",
       "2430619986780226346                    NaN                    NaN   \n",
       "2430619986780226347                    NaN                    NaN   \n",
       "2430619986780226348                    NaN                    NaN   \n",
       "2430619986780226349                    NaN                    NaN   \n",
       "2430655171152314369                    NaN                    NaN   \n",
       "\n",
       "                     y_psfFluxSigma  y_scienceFluxSigma  y_psfFluxSkew  \\\n",
       "diaObjectId                                                              \n",
       "2430382492268625921             NaN                 NaN            NaN   \n",
       "2430382492268625922             NaN                 NaN            NaN   \n",
       "2430382492268625923             NaN                 NaN            NaN   \n",
       "2430382492268625924             NaN                 NaN            NaN   \n",
       "2430382492268625925             NaN                 NaN            NaN   \n",
       "...                             ...                 ...            ...   \n",
       "2430619986780226346             NaN                 NaN            NaN   \n",
       "2430619986780226347             NaN                 NaN            NaN   \n",
       "2430619986780226348             NaN                 NaN            NaN   \n",
       "2430619986780226349             NaN                 NaN            NaN   \n",
       "2430655171152314369             NaN                 NaN            NaN   \n",
       "\n",
       "                     y_psfFluxChi2  y_psfFluxStetsonJ  \n",
       "diaObjectId                                            \n",
       "2430382492268625921   0.000000e+00                NaN  \n",
       "2430382492268625922   0.000000e+00                NaN  \n",
       "2430382492268625923   1.335812e-30                NaN  \n",
       "2430382492268625924            NaN                NaN  \n",
       "2430382492268625925            NaN                NaN  \n",
       "...                            ...                ...  \n",
       "2430619986780226346            NaN                NaN  \n",
       "2430619986780226347            NaN                NaN  \n",
       "2430619986780226348            NaN                NaN  \n",
       "2430619986780226349            NaN                NaN  \n",
       "2430655171152314369            NaN                NaN  \n",
       "\n",
       "[86162 rows x 92 columns]"
      ]
     },
     "execution_count": 103,
     "metadata": {},
     "output_type": "execute_result"
    }
   ],
   "source": [
    "plt.hist(dia_Obj_field_updated['r_band_mag'][~np.isnan(dia_Obj_field_updated['r_band_mag'])], color='r', alpha=0.5, bins=np.arange(15,30,0.1), label='r band detected objects');\n"
   ]
  },
  {
   "cell_type": "code",
   "execution_count": 102,
   "metadata": {},
   "outputs": [
    {
     "data": {
      "image/png": "[encoded data removed]",
      "text/plain": [
       "<Figure size 640x480 with 1 Axes>"
      ]
     },
     "metadata": {},
     "output_type": "display_data"
    }
   ],
   "source": [
    "plt.hist(mag, bins=np.arange(15,30,0.1));"
   ]
  },
  {
   "cell_type": "code",
   "execution_count": 111,
   "metadata": {},
   "outputs": [
    {
     "data": {
      "image/png": "[encoded data removed]",
      "text/plain": [
       "<Figure size 640x480 with 1 Axes>"
      ]
     },
     "metadata": {},
     "output_type": "display_data"
    }
   ],
   "source": [
    "plt.hist(dia_Obj_field_updated['r_band_mag'][~np.isnan(dia_Obj_field_updated['r_band_mag'])], color='r', alpha=0.5, bins=np.arange(15,30,0.1), label='r band detected objects');\n"
   ]
  },
  {
   "cell_type": "code",
   "execution_count": null,
   "metadata": {},
   "outputs": [],
   "source": []
  },
  {
   "cell_type": "code",
   "execution_count": 31,
   "metadata": {},
   "outputs": [],
   "source": [
    "registry = butler.registry\n",
    "query=\"instrument='LSSTComCam'\"\n",
    "results = registry.queryDimensionRecords('exposure', where=query)"
   ]
  },
  {
   "cell_type": "code",
   "execution_count": 33,
   "metadata": {},
   "outputs": [
    {
     "data": {
      "text/plain": [
       "12316"
      ]
     },
     "execution_count": 33,
     "metadata": {},
     "output_type": "execute_result"
    }
   ],
   "source": [
    "results.count()"
   ]
  },
  {
   "cell_type": "code",
   "execution_count": 15,
   "metadata": {},
   "outputs": [],
   "source": [
    "visit = butler.registry.dimensions[\"visit\"]"
   ]
  },
  {
   "cell_type": "code",
   "execution_count": 22,
   "metadata": {},
   "outputs": [
    {
     "name": "stdout",
     "output_type": "stream",
     "text": [
      "\u001b[0;31minstrument       id      day_obs           group          physical_filter        obs_id        exposure_time dark_time observation_type observation_reason seq_num seq_start seq_end   target_name    science_program    tracking_ra        tracking_dec        sky_angle          azimuth         zenith_angle    has_simulated can_see_sky               timespan (TAI)              \u001b[0m\n",
      "\u001b[0;31m---------- ------------- -------- ----------------------- --------------- -------------------- ------------- --------- ---------------- ------------------ ------- --------- ------- ---------------- --------------- ----------------- ------------------- ----------------- ----------------- ------------------ ------------- ----------- ------------------------------------------\u001b[0m\n",
      "LSSTComCam 2024112000314 20241120 2024-11-21T08:15:45.714            y_04 CC_O_20241120_000314          30.0   30.4353          science            science     314       314     314 Rubin_SV_095_-25       BLOCK-320 94.89669413064276 -25.068895190687776 112.1171770751561 282.3585802996705 17.672703579259505         False        True [2024-11-21T08:17:31, 2024-11-21T08:18:01)\n"
     ]
    }
   ],
   "source": [
    "!butler query-dimension-records embargo exposure --where  \"instrument='LSSTComCam' and exposure in (2024112000314)\"  "
   ]
  },
  {
   "cell_type": "code",
   "execution_count": null,
   "metadata": {},
   "outputs": [],
   "source": [
    "butler.get"
   ]
  },
  {
   "cell_type": "code",
   "execution_count": 16,
   "metadata": {},
   "outputs": [
    {
     "name": "stdout",
     "output_type": "stream",
     "text": [
      "visit: \n",
      "  instrument: str\n",
      "  id: int\n",
      "  day_obs: int\n",
      "  physical_filter: str\n",
      "  name: str\n",
      "  seq_num: int\n",
      "  exposure_time: float\n",
      "  target_name: str\n",
      "  observation_reason: str\n",
      "  science_program: str\n",
      "  azimuth: float\n",
      "  zenith_angle: float\n",
      "  region: lsst.sphgeom.Region\n",
      "  timespan: lsst.daf.butler.Timespan\n"
     ]
    }
   ],
   "source": [
    "print(visit.RecordClass.fields)\n"
   ]
  },
  {
   "cell_type": "code",
   "execution_count": 19,
   "metadata": {},
   "outputs": [
    {
     "ename": "AttributeError",
     "evalue": "full",
     "output_type": "error",
     "traceback": [
      "\u001b[0;31m---------------------------------------------------------------------------\u001b[0m",
      "\u001b[0;31mAttributeError\u001b[0m                            Traceback (most recent call last)",
      "Cell \u001b[0;32mIn[19], line 2\u001b[0m\n\u001b[1;32m      1\u001b[0m expanded \u001b[38;5;241m=\u001b[39m butler\u001b[38;5;241m.\u001b[39mregistry\u001b[38;5;241m.\u001b[39mexpandDataId({\u001b[38;5;124m\"\u001b[39m\u001b[38;5;124minstrument\u001b[39m\u001b[38;5;124m\"\u001b[39m: instrument, \u001b[38;5;124m\"\u001b[39m\u001b[38;5;124mvisit\u001b[39m\u001b[38;5;124m\"\u001b[39m: \u001b[38;5;241m2024112000314\u001b[39m})\n\u001b[0;32m----> 2\u001b[0m \u001b[38;5;28mprint\u001b[39m(\u001b[38;5;28mdict\u001b[39m(\u001b[43mexpanded\u001b[49m\u001b[38;5;241;43m.\u001b[39;49m\u001b[43mfull\u001b[49m))\n",
      "File \u001b[0;32m/sdf/group/rubin/sw/conda/envs/lsst-scipipe-9.0.0/share/eups/Linux64/daf_butler/g09cb37a6c2+f7ddf18cb7/python/lsst/daf/butler/dimensions/_coordinate.py:1116\u001b[0m, in \u001b[0;36m_ExpandedTupleDataCoordinate.__getattr__\u001b[0;34m(self, name)\u001b[0m\n\u001b[1;32m   1114\u001b[0m     \u001b[38;5;28;01mreturn\u001b[39;00m \u001b[38;5;28mself\u001b[39m\u001b[38;5;241m.\u001b[39m_record(name)\n\u001b[1;32m   1115\u001b[0m \u001b[38;5;28;01mexcept\u001b[39;00m \u001b[38;5;167;01mKeyError\u001b[39;00m:\n\u001b[0;32m-> 1116\u001b[0m     \u001b[38;5;28;01mraise\u001b[39;00m \u001b[38;5;167;01mAttributeError\u001b[39;00m(name) \u001b[38;5;28;01mfrom\u001b[39;00m \u001b[38;5;28;01mNone\u001b[39;00m\n",
      "\u001b[0;31mAttributeError\u001b[0m: full"
     ]
    }
   ],
   "source": [
    "expanded = butler.registry.expandDataId({\"instrument\": instrument, \"visit\": 2024112000314})\n",
    "print(dict(expanded.full))"
   ]
  },
  {
   "cell_type": "code",
   "execution_count": null,
   "metadata": {},
   "outputs": [],
   "source": []
  }
 ],
 "metadata": {
  "kernelspec": {
   "display_name": "Python 3 (ipykernel)",
   "language": "python",
   "name": "python3"
  },
  "language_info": {
   "codemirror_mode": {
    "name": "ipython",
    "version": 3
   },
   "file_extension": ".py",
   "mimetype": "text/x-python",
   "name": "python",
   "nbconvert_exporter": "python",
   "pygments_lexer": "ipython3",
   "version": "3.11.9"
  }
 },
 "nbformat": 4,
 "nbformat_minor": 2
}
