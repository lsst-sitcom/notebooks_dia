{
 "cells": [
  {
   "cell_type": "code",
   "execution_count": 1,
   "id": "6f563b90-9551-42a0-8379-691713387a5d",
   "metadata": {
    "execution": {
     "iopub.execute_input": "2024-05-15T17:29:35.827687Z",
     "iopub.status.busy": "2024-05-15T17:29:35.827572Z",
     "iopub.status.idle": "2024-05-15T17:29:36.666533Z",
     "shell.execute_reply": "2024-05-15T17:29:36.666086Z",
     "shell.execute_reply.started": "2024-05-15T17:29:35.827675Z"
    }
   },
   "outputs": [],
   "source": [
    "from lsst.daf.butler import Butler\n",
    "\n",
    "import lsst.afw.display as afwDisplay"
   ]
  },
  {
   "cell_type": "code",
   "execution_count": 2,
   "id": "328ffbcf-0838-4de8-a98d-ea2c28c8e1f7",
   "metadata": {
    "execution": {
     "iopub.execute_input": "2024-05-15T17:29:36.667378Z",
     "iopub.status.busy": "2024-05-15T17:29:36.667068Z",
     "iopub.status.idle": "2024-05-15T17:29:36.796030Z",
     "shell.execute_reply": "2024-05-15T17:29:36.795600Z",
     "shell.execute_reply.started": "2024-05-15T17:29:36.667365Z"
    }
   },
   "outputs": [],
   "source": [
    "afwDisplay.setDefaultBackend(\"firefly\")"
   ]
  },
  {
   "cell_type": "code",
   "execution_count": 3,
   "id": "b89b5ce7-e8fb-4d77-b54c-608c647cf53a",
   "metadata": {
    "execution": {
     "iopub.execute_input": "2024-05-15T17:29:36.797033Z",
     "iopub.status.busy": "2024-05-15T17:29:36.796629Z",
     "iopub.status.idle": "2024-05-15T17:29:36.799374Z",
     "shell.execute_reply": "2024-05-15T17:29:36.799027Z",
     "shell.execute_reply.started": "2024-05-15T17:29:36.797015Z"
    }
   },
   "outputs": [],
   "source": [
    "repo = \"/repo/embargo\"\n",
    "collection = \"u/elhoward/DM-44138/LSSTComCamSim\"\n",
    "collections = [collection, \"LSSTComCamSim/templates\", \"LSSTComCamSim/defaults\"]\n",
    "instrument = \"LSSTComCamSim\""
   ]
  },
  {
   "cell_type": "code",
   "execution_count": 4,
   "id": "b4cbe420-061c-4c95-825b-4f10e996b083",
   "metadata": {
    "execution": {
     "iopub.execute_input": "2024-05-15T17:29:36.800867Z",
     "iopub.status.busy": "2024-05-15T17:29:36.800590Z",
     "iopub.status.idle": "2024-05-15T17:29:44.268939Z",
     "shell.execute_reply": "2024-05-15T17:29:44.268190Z",
     "shell.execute_reply.started": "2024-05-15T17:29:36.800854Z"
    }
   },
   "outputs": [],
   "source": [
    "butler = Butler(repo, collections=collections, instrument=instrument)\n",
    "data_id = {\"detector\": 0, \"visit\": 7024040400021}\n",
    "diff = butler.get(\"goodSeeingDiff_differenceExp\", dataId=data_id)\n",
    "science = butler.get(\"initial_pvi\", dataId=data_id)\n",
    "template = butler.get(\"goodSeeingDiff_templateExp\", dataId=data_id)"
   ]
  },
  {
   "cell_type": "code",
   "execution_count": 5,
   "id": "cff49873-6ffe-464e-9433-59feb75eae7e",
   "metadata": {
    "execution": {
     "iopub.execute_input": "2024-05-15T17:29:44.269949Z",
     "iopub.status.busy": "2024-05-15T17:29:44.269506Z",
     "iopub.status.idle": "2024-05-15T17:29:44.271970Z",
     "shell.execute_reply": "2024-05-15T17:29:44.271632Z",
     "shell.execute_reply.started": "2024-05-15T17:29:44.269936Z"
    }
   },
   "outputs": [],
   "source": [
    "#display = afwDisplay.Display(frame=0)\n",
    "#display.image(template)"
   ]
  },
  {
   "cell_type": "code",
   "execution_count": 6,
   "id": "830a47d3-93c4-45e7-a7b6-cc64400997ec",
   "metadata": {
    "execution": {
     "iopub.execute_input": "2024-05-15T17:29:44.272573Z",
     "iopub.status.busy": "2024-05-15T17:29:44.272454Z",
     "iopub.status.idle": "2024-05-15T17:29:45.620348Z",
     "shell.execute_reply": "2024-05-15T17:29:45.619892Z",
     "shell.execute_reply.started": "2024-05-15T17:29:44.272562Z"
    }
   },
   "outputs": [],
   "source": [
    "display = afwDisplay.Display(frame=0)\n",
    "display.image(diff)"
   ]
  },
  {
   "cell_type": "code",
   "execution_count": 7,
   "id": "22ed7131-05c2-460c-886d-3a807b57fb3b",
   "metadata": {
    "execution": {
     "iopub.execute_input": "2024-05-15T17:29:45.621000Z",
     "iopub.status.busy": "2024-05-15T17:29:45.620877Z",
     "iopub.status.idle": "2024-05-15T17:29:47.416468Z",
     "shell.execute_reply": "2024-05-15T17:29:47.416045Z",
     "shell.execute_reply.started": "2024-05-15T17:29:45.620989Z"
    }
   },
   "outputs": [],
   "source": [
    "display = afwDisplay.Display(frame=1)\n",
    "display.image(science)"
   ]
  },
  {
   "cell_type": "code",
   "execution_count": 8,
   "id": "5435c1f2-1d12-4e37-83a1-6f30f2b990b9",
   "metadata": {
    "execution": {
     "iopub.execute_input": "2024-05-15T17:29:47.417177Z",
     "iopub.status.busy": "2024-05-15T17:29:47.417049Z",
     "iopub.status.idle": "2024-05-15T17:29:49.059505Z",
     "shell.execute_reply": "2024-05-15T17:29:49.059017Z",
     "shell.execute_reply.started": "2024-05-15T17:29:47.417165Z"
    }
   },
   "outputs": [],
   "source": [
    "display = afwDisplay.Display(frame=2)\n",
    "display.image(template)"
   ]
  },
  {
   "cell_type": "code",
   "execution_count": null,
   "id": "adec46b4-7e4a-47aa-91d6-f7d13672d5ff",
   "metadata": {},
   "outputs": [],
   "source": []
  }
 ],
 "metadata": {
  "kernelspec": {
   "display_name": "LSST",
   "language": "python",
   "name": "lsst"
  },
  "language_info": {
   "codemirror_mode": {
    "name": "ipython",
    "version": 3
   },
   "file_extension": ".py",
   "mimetype": "text/x-python",
   "name": "python",
   "nbconvert_exporter": "python",
   "pygments_lexer": "ipython3",
   "version": "3.11.7"
  }
 },
 "nbformat": 4,
 "nbformat_minor": 5
}
