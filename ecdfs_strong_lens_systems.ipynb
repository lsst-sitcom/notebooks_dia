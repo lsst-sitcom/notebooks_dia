{
 "cells": [
  {
   "cell_type": "markdown",
   "id": "95bb7842-00cd-4dc5-9620-503f7f6e0e11",
   "metadata": {},
   "source": [
    "Check ComCam data for known Strong-lens systems\n",
    "\n",
    "Author: Michael Wood-Vasey <wmwv@pitt.edu>\n",
    "\n",
    "Last run: 2024 November 20\n",
    "\n",
    "Check the ComCam-observed regions of the Chandra Deep Field South for locations of known strong lenses from the Extended Chandra Deep Field South program with HST/GEMS survey:   \n",
    "https://iopscience.iop.org/0004-637X/734/1/69/suppdata/apj390026t1_ascii.txt?doi=10.1088/0004-637X/734/1/69"
   ]
  },
  {
   "cell_type": "code",
   "execution_count": null,
   "id": "ebeb14bd-1abd-4770-9a6c-30657de1b431",
   "metadata": {},
   "outputs": [],
   "source": [
    "table1 = \\\n",
    "\"\"\"\n",
    "Table 1 \n",
    "GEMS Strong Lens Candidates\n",
    "\n",
    "\n",
    "ID^a\tTile^b\tR.A.^c\tDecl.^c\tV_tot^d\tz_tot^d\tz_l^e\tz_lsp^f\tComponent^g\tlog(M_t*)^h\tlog(M_*)^i\tb'^j\tq^k\tlog(M_E)^l\t\n",
    "15422\t44\t03:32:38.21\t-27:56:53.2\t sdotsdotsdot \t19.20\t0.58\t0.62\t1+3\t11.4\t11.22^+0.22 _- 0.20\t1.20\t0.40\t11.80^+0.15 _- 0.06\t\n",
    "34244\t94\t03:32:06.45\t-27:47:28.6\t23.43\t21.11\t1.00\t1.02\t1+4\t11.0\t10.82^+0.20 _- 0.29\t0.40\t0.48\t11.04^+0.27 _- 0.11\t\n",
    "40173\t35\t03:33:19.45\t-27:44:50.0\t20.86\t19.67\t0.44\t0.42\t2+3\t10.7\t10.58^+0.13 _- 0.14\t0.59\t1.00\t10.85^+0.09 _- 0.04\t\n",
    "43242\t45\t03:31:55.35\t-27:43:23.5\t21.85\t20.00\t0.66\t0.66\t2+3\t11.1\t11.04^+0.18 _- 0.14\t0.57\t0.60\t11.08^+0.16 _- 0.07\t\n",
    "46446\t47\t03:31:35.94\t-27:41:48.2\t23.60\t21.70\t0.88\t sdotsdotsdot \t2+3\t10.6\t10.37^+0.23 _- 0.21\t0.42*\t1.00\t10.90^+0.23 _- 0.09\t\n",
    "Notes.\n",
    "a ID from the COMBO-17 catalog.\n",
    "b GEMS tile number (1-63 GEMS, 80-95 GOODS region).\n",
    "c Positions of candidates are in J2000 with units of hr:minutes:s and deg:minutes:s.\n",
    "d Apparent V = F606W and z = F814LP HST/ACS magnitudes of the whole system (Caldwell et al. 2008).\n",
    "e Photometric redshift of lensing galaxy from COMBO-17.\n",
    "f Spectroscopic redshift of lensing galaxy (see Section 5.2 for details).\n",
    "g Number of components used in GALFIT composition for lensing galaxy + lensed images.\n",
    "h Total stellar mass of the lens galaxy in units of M_sun from Borch et al. (2006).\n",
    "i Stellar mass of the lens galaxy inside the critical radius in the units of M_sun.\n",
    "j Einstein radius in arcseconds corresponding to SIE model except * corresponds to SIS+shear model.\n",
    "k Axis ratio from the lens mass model.\n",
    "l Mass within the critical curve in units of M_sun. The upper and lower limits correspond to the 16th and 84th percentile of the lens mass PDF.\n",
    "\"\"\""
   ]
  },
  {
   "cell_type": "code",
   "execution_count": null,
   "id": "1db72ac0-d1b0-40d0-b433-3b6dbb808c9f",
   "metadata": {},
   "outputs": [],
   "source": [
    "import matplotlib.pyplot as plt\n",
    "\n",
    "from lsst.daf.butler import Butler\n",
    "import lsst.afw.display as afwDisplay\n",
    "\n",
    "import lsst.geom\n",
    "\n",
    "import lsst.afw.image\n",
    "from lsst.afw.math import Warper, WarperConfig\n",
    "import lsst.afw.table\n",
    "\n",
    "from lsst.ip.diffim import AlardLuptonSubtractConfig, AlardLuptonSubtractTask\n",
    "from lsst.ip.diffim import GetTemplateConfig, GetTemplateTask\n",
    "from lsst.ip.diffim import DetectAndMeasureConfig, DetectAndMeasureTask\n",
    "\n",
    "from astropy.table import Table\n",
    "from astropy.coordinates import SkyCoord\n",
    "import astropy.units as u"
   ]
  },
  {
   "cell_type": "code",
   "execution_count": null,
   "id": "b98105ee-b8a7-4ea0-a38b-b9001d5304e4",
   "metadata": {},
   "outputs": [],
   "source": [
    "afwDisplay.setDefaultBackend(\"firefly\")"
   ]
  },
  {
   "cell_type": "code",
   "execution_count": null,
   "id": "93619b2b-9d03-4eb8-8aea-d110a7264290",
   "metadata": {},
   "outputs": [],
   "source": [
    "data = Table(rows=[\n",
    "    (15422, 44, \"03:32:38.21\", \"-27:56:53.2\"),\n",
    "    (34244, 94, \"03:32:06.45\", \"-27:47:28.6\"),\n",
    "    (40173, 35, \"03:33:19.45\", \"-27:44:50.0\"),\n",
    "    (43242, 45, \"03:31:55.35\", \"-27:43:23.5\"),\n",
    "    (46446, 47, \"03:31:35.94\", \"-27:41:48.2\")],\n",
    "    names=(\"id\", \"tile\", \"ra\", \"dec\"),\n",
    "    dtype=(int, int, str, str),\n",
    ")"
   ]
  },
  {
   "cell_type": "code",
   "execution_count": null,
   "id": "913c1fd1-ebe7-4c5b-8110-f2eac7b608ac",
   "metadata": {},
   "outputs": [],
   "source": [
    "data[\"skycoor\"] = SkyCoord(data[\"ra\"], data[\"dec\"], unit=(u.hourangle, u.degree))"
   ]
  },
  {
   "cell_type": "code",
   "execution_count": null,
   "id": "8434caaf-c658-4caa-96c5-0e21a3642f94",
   "metadata": {},
   "outputs": [],
   "source": [
    "# Load collection\n",
    "repo = \"embargo_new\"\n",
    "# collection = \"LSSTComCam/nightlyValidation\"\n",
    "# As of 2024-11-12 there are observations from 2024-11-08, 2024-11-09, 2024-11-10, 2024-11-11\n",
    "# The idea was to get the nightly coadd from the template and the science night\n",
    "# but the nightly coadd for 2024-11-11 doesn't cover the region of the first lens system\n",
    "# although there are some individual exalepxs that do.\n",
    "collection_template = \"LSSTComCam/runs/nightlyValidation/20241108/d_2024_11_05/DM-47059\"\n",
    "collection_science = \"LSSTComCam/runs/nightlyValidation/20241111/d_2024_11_05/DM-47059\"\n",
    "\n",
    "instrument = \"LSSTComCam\"\n",
    "\n",
    "butler_template = Butler(repo, collections=collection_template)\n",
    "butler_science = Butler(repo, collections=collection_science)\n",
    "\n",
    "name_skymap = \"lsst_cells_v1\"\n",
    "skymap = butler_template.get(\"skyMap\", skymap=name_skymap, collections=\"skymaps\")"
   ]
  },
  {
   "cell_type": "code",
   "execution_count": null,
   "id": "940f8f7d-666d-4294-8415-6252a14f7578",
   "metadata": {},
   "outputs": [],
   "source": [
    "### Find a single image from the night"
   ]
  },
  {
   "cell_type": "code",
   "execution_count": null,
   "id": "ce893ee9-79f3-44c1-8d49-3fbfccdca47b",
   "metadata": {},
   "outputs": [],
   "source": [
    "i = 0\n",
    "ra, dec = data[\"skycoor\"][i].ra.value, data[\"skycoor\"][i].dec.value\n",
    "\n",
    "datasetRefs_science = butler_science.query_datasets(\"calexp\", where=\"visit_detector_region.region OVERLAPS POINT(ra, dec) and band='i'\",\n",
    "                                    bind={\"ra\": ra, \"dec\": dec})"
   ]
  },
  {
   "cell_type": "code",
   "execution_count": null,
   "id": "ef3aa31c-3374-41c7-9bd5-46198926a54e",
   "metadata": {},
   "outputs": [],
   "source": [
    "for dr in datasetRefs_science:\n",
    "    print(dr)"
   ]
  },
  {
   "cell_type": "code",
   "execution_count": null,
   "id": "bceeb161-918b-4a26-a966-6348d7bf1ce9",
   "metadata": {},
   "outputs": [],
   "source": [
    "i = 2\n",
    "calexp = butler_science.get(\"calexp\", dataId=datasetRefs_science[i].dataId)\n",
    "x, y = calexp.getWcs().skyToPixel(lsst.geom.SpherePoint(ra, dec, units=lsst.geom.degrees))"
   ]
  },
  {
   "cell_type": "code",
   "execution_count": null,
   "id": "e49a1ffa-b64d-4fe0-adec-5559ac3d9a80",
   "metadata": {},
   "outputs": [],
   "source": [
    "print(x, y)"
   ]
  },
  {
   "cell_type": "code",
   "execution_count": null,
   "id": "7f3441ff-afc9-44df-a503-07bbd7f98218",
   "metadata": {},
   "outputs": [],
   "source": [
    "datasetRefs_science[0].dataId"
   ]
  },
  {
   "cell_type": "code",
   "execution_count": null,
   "id": "6d37c433-72ec-4740-bc07-62c6ff33df8d",
   "metadata": {},
   "outputs": [],
   "source": []
  },
  {
   "cell_type": "code",
   "execution_count": null,
   "id": "12e89b89-714a-4356-ad1b-d887b6ab6198",
   "metadata": {},
   "outputs": [],
   "source": [
    "afw_display = afwDisplay.Display(frame=1)\n",
    "\n",
    "def cutout(im, x, y, size=100):\n",
    "    return im.getCutout(lsst.geom.Point2D(x, y), lsst.geom.Extent2I(size, size))\n",
    "\n",
    "afw_display.scale(\"asinh\", -2, 5)\n",
    "afw_display.mtv(cutout(calexp, x, y))\n",
    "afw_display.setMaskTransparency(100)"
   ]
  },
  {
   "cell_type": "markdown",
   "id": "39fa96f8-09de-4094-80a6-54a261625316",
   "metadata": {},
   "source": [
    "### Find nightly coadd\n",
    "Get tract, patch from ra, dec"
   ]
  },
  {
   "cell_type": "code",
   "execution_count": null,
   "id": "b35e3a85-eb89-4e85-a3aa-f5d5aab1165b",
   "metadata": {},
   "outputs": [],
   "source": [
    "coord = lsst.geom.SpherePoint(ra, dec, units=lsst.geom.degrees)\n",
    "skymap.findTractPatchList([coord])"
   ]
  },
  {
   "cell_type": "markdown",
   "id": "a1026521-87d3-4298-8d08-46fc97f12661",
   "metadata": {},
   "source": [
    "I wrote down the following tract, patch from the previous output.  There's certainly a programatic way to do this that I forget right now."
   ]
  },
  {
   "cell_type": "code",
   "execution_count": null,
   "id": "105037f5-eaf8-480e-bbc8-7c5e3ed72357",
   "metadata": {},
   "outputs": [],
   "source": [
    "tract, patch = (5063, 24)\n",
    "band = \"i\""
   ]
  },
  {
   "cell_type": "code",
   "execution_count": null,
   "id": "56fa9049-482c-4bac-b41c-a167a5ab8690",
   "metadata": {},
   "outputs": [],
   "source": [
    "template_coadd = butler_science.get(\n",
    "            \"deepCoadd_calexp\",\n",
    "            band=band, patch=patch, tract=tract, skymap=name_skymap\n",
    "        )\n",
    "\n",
    "coadd_x, coadd_y = template_coadd.getWcs().skyToPixel(lsst.geom.SpherePoint(ra, dec, units=lsst.geom.degrees))\n",
    "print(coadd_x, coadd_y)"
   ]
  },
  {
   "cell_type": "code",
   "execution_count": null,
   "id": "dbd41c60-e957-4ee1-a945-5c60b62b0346",
   "metadata": {},
   "outputs": [],
   "source": [
    "afw_display = afwDisplay.Display(frame=2)\n",
    "\n",
    "afw_display.scale(\"asinh\", -1, 3)\n",
    "# afw_display.scale(\"linear\", \"zscale\")\n",
    "afw_display.setMaskTransparency(100)\n",
    "afw_display.mtv(cutout(template_coadd, coadd_x, coadd_y))\n",
    "print(collection_template)"
   ]
  },
  {
   "cell_type": "code",
   "execution_count": null,
   "id": "d74616a7-a1fd-4328-9a6e-6a0b332e6050",
   "metadata": {},
   "outputs": [],
   "source": []
  }
 ],
 "metadata": {
  "kernelspec": {
   "display_name": "LSST",
   "language": "python",
   "name": "lsst"
  },
  "language_info": {
   "codemirror_mode": {
    "name": "ipython",
    "version": 3
   },
   "file_extension": ".py",
   "mimetype": "text/x-python",
   "name": "python",
   "nbconvert_exporter": "python",
   "pygments_lexer": "ipython3",
   "version": "3.11.9"
  }
 },
 "nbformat": 4,
 "nbformat_minor": 5
}
