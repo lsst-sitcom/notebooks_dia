{
 "cells": [
  {
   "cell_type": "markdown",
   "id": "cf66bfdc-79e3-43db-9d53-4c4425d30318",
   "metadata": {},
   "source": [
    "# ComCamSim 2024 DIA Sprint\n",
    "Authors: Michael Wood-Vasey <wmwv@pitt.edu>  \n",
    "Last Verified to Run: 2024-05-14  \n",
    "\n",
    "DIA Sprint.  This Notebook is to explore and figure out how to calculate the Metrics and visualizations we want to look at dipole orientation across an image and check against other things of interest.  Some key new quantities calculated are\n",
    "\n",
    "\"ip_diffim_DipoleFit_separation\"  \n",
    "\"ip_diffim_DipoleFit_orientation\"\n",
    "\n",
    "Let's see what we can learn about the orientation on the sky.\n",
    "\n",
    "1. [x] Count dipoles and plot on image\n",
    "3. [ ] Look at pixel stamps of dipoles\n",
    "4. [ ] Spatially plot dipole orientation\n",
    "5. [ ] Plot w.r.t. Parallactic Angle.\n",
    "\n",
    "Run at RSP on USDF.  Run using `d_2024_05_15` on a Large container (because we need the memory)."
   ]
  },
  {
   "cell_type": "code",
   "execution_count": null,
   "id": "40a2d91e-60af-4cfc-9186-395ea7f5f1c8",
   "metadata": {},
   "outputs": [],
   "source": [
    "import matplotlib.pyplot as plt\n",
    "import numpy as np"
   ]
  },
  {
   "cell_type": "code",
   "execution_count": null,
   "id": "e7056de3-6c89-4222-bd32-b8716def6460",
   "metadata": {},
   "outputs": [],
   "source": [
    "from lsst.daf.butler import Butler\n",
    "import lsst.daf.butler as dafButler\n",
    "from lsst.daf.butler import DatasetNotFoundError\n",
    "from lsst.pipe.base import Instrument\n",
    "from lsst.ap.association.transformDiaSourceCatalog import UnpackApdbFlags\n",
    "import lsst.afw.display as afwDisplay\n",
    "import lsst.display.astrowidgets\n",
    "from astropy.visualization import ZScaleInterval, SqrtStretch, ImageNormalize, MinMaxInterval, LogStretch\n",
    "from astropy.table import Table, join\n",
    "\n",
    "afwDisplay.setDefaultBackend('matplotlib')"
   ]
  },
  {
   "cell_type": "markdown",
   "id": "d29ada35-34ea-4e82-9f97-ed31eadd7cba",
   "metadata": {},
   "source": [
    "Key orientation information: repo, collection, dataset types."
   ]
  },
  {
   "cell_type": "code",
   "execution_count": null,
   "id": "4bf871ba-7dcf-42f4-8aa5-f9c61aa3dead",
   "metadata": {},
   "outputs": [],
   "source": [
    "repo = \"/repo/embargo\"\n",
    "collection = \"u/elhoward/DM-44138/LSSTComCamSim\"\n",
    "collections = [collection, \"LSSTComCamSim/templates\", \"LSSTComCamSim/defaults\"]\n",
    "instrument = \"LSSTComCamSim\""
   ]
  },
  {
   "cell_type": "markdown",
   "id": "6848e9a9-1c84-4d42-9585-fc824c673ac0",
   "metadata": {},
   "source": [
    "Dataset Types we'll be interested in  \n",
    "`postISRCCD`  (I don't think there's a `calexp` in prompt processing)  \n",
    "`goodSeeingDiff_differenceExp`  \n",
    "`goodSeeingDiff_diaSrc`  (or `goodSeeingDiff_diaSrcTable` depending on the schema you want.)"
   ]
  },
  {
   "cell_type": "code",
   "execution_count": null,
   "id": "a975450c-3b2f-4727-9cb7-76c8d4e62044",
   "metadata": {},
   "outputs": [],
   "source": [
    "butler = Butler(repo, collections=collections, instrument=instrument)"
   ]
  },
  {
   "cell_type": "code",
   "execution_count": null,
   "id": "fd7c7c5e-5bd8-46e9-906e-8bf127e2f32e",
   "metadata": {
    "scrolled": true
   },
   "outputs": [],
   "source": [
    "registry = butler.registry\n",
    "for ref in registry.queryDatasets('goodSeeingDiff_differenceExp'):\n",
    "    print(ref.dataId)"
   ]
  },
  {
   "cell_type": "code",
   "execution_count": null,
   "id": "2aea9435-1710-4495-a4cc-979d43b2d78a",
   "metadata": {},
   "outputs": [],
   "source": [
    "data_id = {\"detector\": 0, \"exposure\": 7024040400021}\n",
    "# An alternate data_id to look at\n",
    "# data_id = [\"detector\": 5, \"exposure\": 7024040300440}\n",
    "data_id[\"visit\"] = data_id[\"exposure\"]"
   ]
  },
  {
   "cell_type": "code",
   "execution_count": null,
   "id": "eb4a84be-dbb8-418a-93e2-790954adfe13",
   "metadata": {},
   "outputs": [],
   "source": [
    "science = butler.get(\"initial_pvi\", dataId=data_id)\n",
    "diff = butler.get(\"goodSeeingDiff_differenceExp\", dataId=data_id)\n",
    "template = butler.get(\"goodSeeingDiff_templateExp\", dataId=data_id)"
   ]
  },
  {
   "cell_type": "code",
   "execution_count": null,
   "id": "71f1ee72-23ae-4347-884e-89705cb380d6",
   "metadata": {},
   "outputs": [],
   "source": [
    "# Catalog from raw pipeline output is a `lsst.afw.table.SourceCatalog` and includes 100 blank \"sky\" sources\n",
    "full_cat = butler.get(\"goodSeeingDiff_diaSrc\", dataId=data_id )\n",
    "# The diaSrcTable has things in SDMified form and will be a `DataFrame` and has removed the blank sky sources.\n",
    "filtered_transformed_cat = butler.get(\"goodSeeingDiff_diaSrcTable\", dataId=data_id )"
   ]
  },
  {
   "cell_type": "code",
   "execution_count": null,
   "id": "c04ef2ca-8036-4e80-a20b-da128b2e3a67",
   "metadata": {},
   "outputs": [],
   "source": [
    "dia_sources = full_cat[full_cat[\"sky_source\"] == False]\n",
    "sky_sources = full_cat[full_cat[\"sky_source\"] == True]\n",
    "\n",
    "# Deep copy to get a new contiguous catalog\n",
    "dipoles = dia_sources[dia_sources[\"ip_diffim_DipoleFit_flag_classification\"]].copy(deep=True)"
   ]
  },
  {
   "cell_type": "code",
   "execution_count": null,
   "id": "3b1c1f21-9292-464a-9379-578670b8f026",
   "metadata": {},
   "outputs": [],
   "source": [
    "# filtered_transformed_cat.columns"
   ]
  },
  {
   "cell_type": "code",
   "execution_count": null,
   "id": "402e74dd-e7ab-4067-8378-303559b8789e",
   "metadata": {},
   "outputs": [],
   "source": [
    "print(f\"{len(filtered_transformed_cat)} total detections.\")\n",
    "print(f\"{len(dipoles)} detections classified as dipoles.\")"
   ]
  },
  {
   "cell_type": "code",
   "execution_count": null,
   "id": "3889d482-cb2f-4acc-a2d0-c0728fd688ca",
   "metadata": {},
   "outputs": [],
   "source": [
    "# Plot direction of arrows on sky\n",
    "plt.quiver(dipoles[\"base_SdssCentroid_x\"],\n",
    "           dipoles[\"base_SdssCentroid_y\"],\n",
    "           dipoles[\"ip_diffim_DipoleFit_separation\"],\n",
    "           dipoles[\"ip_diffim_DipoleFit_separation\"],\n",
    "           angles=dipoles[\"ip_diffim_DipoleFit_orientation\"])"
   ]
  },
  {
   "cell_type": "code",
   "execution_count": null,
   "id": "21c35acc-5e5a-4694-9a56-c6446c13f839",
   "metadata": {},
   "outputs": [],
   "source": [
    "plt.hist(dipoles[\"ip_diffim_DipoleFit_separation\"])\n",
    "plt.xlabel(\"Dipole +/- separation [pixels]\")"
   ]
  },
  {
   "cell_type": "markdown",
   "id": "96d6b9e9-6e0e-4987-9211-00806a896024",
   "metadata": {},
   "source": [
    "Anything more than 10 pixels is spurious.  Let's take a look at them."
   ]
  },
  {
   "cell_type": "code",
   "execution_count": null,
   "id": "003183a6-82df-4837-a4b2-38430ccde442",
   "metadata": {},
   "outputs": [],
   "source": [
    "separation_threshold = 10  # pixels\n",
    "unbelievably_wide_dipoles = dipoles[dipoles[\"ip_diffim_DipoleFit_separation\"] > separation_threshold].copy(deep=True)"
   ]
  },
  {
   "cell_type": "code",
   "execution_count": null,
   "id": "2d5e1241-8a5e-433b-a9b5-98600d1b3ea8",
   "metadata": {},
   "outputs": [],
   "source": [
    "unbelievably_wide_dipoles[\"base_PixelFlags_flag\"]"
   ]
  },
  {
   "cell_type": "code",
   "execution_count": null,
   "id": "3dc17b8f-7b81-4cd0-b79e-874074aeecdc",
   "metadata": {},
   "outputs": [],
   "source": [
    "x = unbelievably_wide_dipoles[\"slot_Centroid_x\"]\n",
    "y = unbelievably_wide_dipoles[\"slot_Centroid_y\"]\n",
    "print(x, y)"
   ]
  },
  {
   "cell_type": "code",
   "execution_count": null,
   "id": "c5026868-3e18-4f7c-b952-1dc0fac187ff",
   "metadata": {},
   "outputs": [],
   "source": [
    "i = 0\n",
    "# x, y flipped for imshow\n",
    "y = int(unbelievably_wide_dipoles[\"slot_Centroid_x\"][i])\n",
    "x = int(unbelievably_wide_dipoles[\"slot_Centroid_y\"][i])\n",
    "size = 50  # pixels\n",
    "small_diff = diff.image.array[x-size:x+size,y-size:y+size]\n",
    "small_science = science.image.array[x-size:x+size,y-size:y+size]\n",
    "small_template = template.image.array[x-size:x+size,y-size:y+size]\n",
    "\n",
    "fig, axes = plt.subplots(1, 3, figsize=(16, 6))\n",
    "plt.sca(axes[0])\n",
    "display_diff = afwDisplay.Display(frame=fig)\n",
    "display_diff.scale(\"linear\", \"zscale\")\n",
    "display_diff.mtv(diff)\n",
    "\n",
    "plt.sca(axes[1])\n",
    "display_science = afwDisplay.Display(frame=fig)\n",
    "display_diff.scale(\"linear\", \"zscale\")\n",
    "display_diff.mtv(science)\n",
    "\n",
    "plt.sca(axes[2])\n",
    "display_template = afwDisplay.Display(frame=fig)\n",
    "display_template.scale(\"linear\", \"zscale\")\n",
    "display_template.mtv(template)\n",
    "\n",
    "\n",
    "plt.tight_layout()\n",
    "plt.show()\n"
   ]
  },
  {
   "cell_type": "code",
   "execution_count": null,
   "id": "4b53bb30-851a-496e-8c29-8496e950c8d0",
   "metadata": {
    "scrolled": true
   },
   "outputs": [],
   "source": [
    "SHOW_SCHEMA = False\n",
    "if SHOW_SCHEMA:\n",
    "    print(type(dia_sources))\n",
    "    print(dia_sources.schema)"
   ]
  },
  {
   "cell_type": "code",
   "execution_count": null,
   "id": "a69a848f-3628-4bdd-861e-f0ba10dacf1d",
   "metadata": {},
   "outputs": [],
   "source": [
    "STAMP_SIZE = 100\n",
    "def postage_stamp_from_image(image, x, y, stamp_size=STAMP_SIZE):\n",
    "    \"\"\"\n",
    "    Return postage stamp of stamp_size x stamp_size around given x, y\n",
    "\n",
    "    x, y can be fractional, but the image will be in original pixels.\n",
    "    \"\"\"\n",
    "\n",
    "    import lsst.geom as geom\n",
    "    # Naive version that is wrong because it doesn't account for x, y orientation\n",
    "    center = geom.Point2D(x, y)\n",
    "    size = geom.Extent2I(stamp_size, stamp_size)\n",
    "    foo = image.getCutout(center, size)\n",
    "\n",
    "    return foo"
   ]
  },
  {
   "cell_type": "code",
   "execution_count": null,
   "id": "001f637c-18d0-40e5-b14e-0ea810d17e35",
   "metadata": {},
   "outputs": [],
   "source": [
    "def show_postage_stamps(*args, figsize=(12, 6)):\n",
    "    n = len(args)\n",
    "    fig, axes = plt.subplots(1, n, figsize=figsize)\n",
    "    displays = []\n",
    "    for i, image in enumerate(args):\n",
    "        plt.sca(axes[i])\n",
    "        display = afwDisplay.Display(frame=fig)\n",
    "        display.setMaskTransparency(80)\n",
    "        display.scale(\"linear\", \"zscale\")\n",
    "        display.mtv(image)\n",
    "\n",
    "        displays.append(display)\n",
    "\n",
    "    plt.tight_layout()\n",
    "    return fig"
   ]
  },
  {
   "cell_type": "code",
   "execution_count": null,
   "id": "dca1de05-9f72-4da1-b607-293ca4edf19d",
   "metadata": {},
   "outputs": [],
   "source": [
    "x = unbelievably_wide_dipoles[\"slot_Centroid_x\"]\n",
    "y = unbelievably_wide_dipoles[\"slot_Centroid_y\"]\n",
    "for xi, yi in zip(x, y):\n",
    "    # Show image name?\n",
    "    d = postage_stamp_from_image(diff, xi, yi)\n",
    "    s = postage_stamp_from_image(science, xi, yi)\n",
    "    t = postage_stamp_from_image(template, xi, yi)\n",
    "    show_postage_stamps(d, s, t);\n"
   ]
  },
  {
   "cell_type": "code",
   "execution_count": null,
   "id": "f032756c-9425-4a9e-90a4-265c667e8fd7",
   "metadata": {},
   "outputs": [],
   "source": [
    "display_diff.getMaskPlaneColor()"
   ]
  },
  {
   "cell_type": "code",
   "execution_count": null,
   "id": "7d6aaab1-f42a-41b5-a7a4-7ec35befe58f",
   "metadata": {},
   "outputs": [],
   "source": []
  }
 ],
 "metadata": {
  "kernelspec": {
   "display_name": "LSST",
   "language": "python",
   "name": "lsst"
  },
  "language_info": {
   "codemirror_mode": {
    "name": "ipython",
    "version": 3
   },
   "file_extension": ".py",
   "mimetype": "text/x-python",
   "name": "python",
   "nbconvert_exporter": "python",
   "pygments_lexer": "ipython3",
   "version": "3.11.7"
  }
 },
 "nbformat": 4,
 "nbformat_minor": 5
}
