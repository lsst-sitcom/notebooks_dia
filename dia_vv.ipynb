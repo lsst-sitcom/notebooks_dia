{
 "cells": [
  {
   "cell_type": "markdown",
   "id": "cf66bfdc-79e3-43db-9d53-4c4425d30318",
   "metadata": {},
   "source": [
    "# ComCamSim 2024 DIA Sprint\n",
    "Authors: Michael Wood-Vasey <wmwv@pitt.edu>  \n",
    "Last Verified to Run: 2024-05-31  \n",
    "\n",
    "DIA Sprint.  This Notebook is to explore and figure out how to calculate the Metrics and visualizations we want to look at dipole orientation across an image and check against other things of interest.  Some key new quantities calculated are\n",
    "\n",
    "\"ip_diffim_DipoleFit_separation\"  \n",
    "\"ip_diffim_DipoleFit_orientation\"\n",
    "\n",
    "These are based on the postive and negative lobs of the dipole as fit against the science (pos) and template (neg) images.\n",
    "\n",
    "Let's see what we can learn about the orientation on the sky.\n",
    "\n",
    "1. [x] Count dipoles and plot on image\n",
    "2. [x] Look at pixel stamps of dipoles\n",
    "3. [x] Spatially plot dipole orientation\n",
    "4. [x] Plot w.r.t. Parallactic Angle.\n",
    "5. [x] Plot w.r.t. local astrometric shift from DIA kernel\n",
    "\n",
    "Run at RSP on USDF.  Run using `d_2024_05_15` on a Large container (because we need the memory)."
   ]
  },
  {
   "cell_type": "code",
   "execution_count": null,
   "id": "40a2d91e-60af-4cfc-9186-395ea7f5f1c8",
   "metadata": {},
   "outputs": [],
   "source": [
    "import matplotlib.pyplot as plt\n",
    "import numpy as np"
   ]
  },
  {
   "cell_type": "code",
   "execution_count": null,
   "id": "e7056de3-6c89-4222-bd32-b8716def6460",
   "metadata": {},
   "outputs": [],
   "source": [
    "from lsst.daf.butler import Butler\n",
    "import lsst.daf.butler as dafButler\n",
    "from lsst.daf.butler import DatasetNotFoundError\n",
    "from lsst.pipe.base import Instrument\n",
    "from lsst.ap.association.transformDiaSourceCatalog import UnpackApdbFlags\n",
    "import lsst.afw.display as afwDisplay\n",
    "import lsst.display.astrowidgets\n",
    "from lsst.ip.diffim.dcrModel import calculateImageParallacticAngle\n",
    "import lsst.afw.image as afwImage\n",
    "\n",
    "from astropy.visualization import ZScaleInterval, SqrtStretch, ImageNormalize, MinMaxInterval, LogStretch\n",
    "from astropy.table import Table, join\n",
    "\n",
    "afwDisplay.setDefaultBackend('matplotlib')"
   ]
  },
  {
   "cell_type": "markdown",
   "id": "d29ada35-34ea-4e82-9f97-ed31eadd7cba",
   "metadata": {},
   "source": [
    "Key orientation information: repo, collection, dataset types."
   ]
  },
  {
   "cell_type": "code",
   "execution_count": null,
   "id": "4bf871ba-7dcf-42f4-8aa5-f9c61aa3dead",
   "metadata": {},
   "outputs": [],
   "source": [
    "repo = \"/repo/embargo\"\n",
    "collection = \"u/elhoward/DM-44138/LSSTComCamSim\"\n",
    "collections = [collection, \"LSSTComCamSim/templates\", \"LSSTComCamSim/defaults\"]\n",
    "instrument = \"LSSTComCamSim\""
   ]
  },
  {
   "cell_type": "markdown",
   "id": "6848e9a9-1c84-4d42-9585-fc824c673ac0",
   "metadata": {},
   "source": [
    "Dataset Types we'll be interested in  \n",
    "`postISRCCD`  (I don't think there's a `calexp` in prompt processing)  \n",
    "`goodSeeingDiff_differenceExp`  \n",
    "`goodSeeingDiff_diaSrc`  (or `goodSeeingDiff_diaSrcTable` depending on the schema you want.)"
   ]
  },
  {
   "cell_type": "code",
   "execution_count": null,
   "id": "a975450c-3b2f-4727-9cb7-76c8d4e62044",
   "metadata": {},
   "outputs": [],
   "source": [
    "butler = Butler(repo, collections=collections, instrument=instrument)"
   ]
  },
  {
   "cell_type": "code",
   "execution_count": null,
   "id": "fd7c7c5e-5bd8-46e9-906e-8bf127e2f32e",
   "metadata": {
    "scrolled": true
   },
   "outputs": [],
   "source": [
    "registry = butler.registry\n",
    "for ref in registry.queryDatasets('goodSeeingDiff_differenceExp'):\n",
    "    print(ref.dataId)"
   ]
  },
  {
   "cell_type": "code",
   "execution_count": null,
   "id": "2aea9435-1710-4495-a4cc-979d43b2d78a",
   "metadata": {},
   "outputs": [],
   "source": [
    "data_id = {\"detector\": 0, \"exposure\": 7024040400021}\n",
    "# Some alternate data_ids to look at\n",
    "# data_id = {\"detector\": 5, \"exposure\": 7024040300440}\n",
    "# data_id = {\"detector\": 8, \"exposure\": 7024040200715}\n",
    "# data_id = {\"detector\": 2, \"exposure\": 7024040400358}\n",
    "data_id[\"visit\"] = data_id[\"exposure\"]"
   ]
  },
  {
   "cell_type": "code",
   "execution_count": null,
   "id": "eb4a84be-dbb8-418a-93e2-790954adfe13",
   "metadata": {},
   "outputs": [],
   "source": [
    "science = butler.get(\"initial_pvi\", dataId=data_id)\n",
    "diff = butler.get(\"goodSeeingDiff_differenceExp\", dataId=data_id)\n",
    "template = butler.get(\"goodSeeingDiff_templateExp\", dataId=data_id)"
   ]
  },
  {
   "cell_type": "code",
   "execution_count": null,
   "id": "08608eb5-a952-443f-a51a-05835df471e9",
   "metadata": {},
   "outputs": [],
   "source": [
    "# Catalog from raw pipeline output is a `lsst.afw.table.SourceCatalog` and includes 100 blank \"sky\" sources\n",
    "full_dia_cat = butler.get(\"goodSeeingDiff_diaSrc\", dataId=data_id)\n",
    "full_dia_cat = full_dia_cat.asAstropy()"
   ]
  },
  {
   "cell_type": "code",
   "execution_count": null,
   "id": "cfb0fa4b-8479-4bb1-8a72-25f0a12ff4bb",
   "metadata": {},
   "outputs": [],
   "source": [
    "# Calculate SNR based on Aperture Flux\n",
    "SNR_THRESHOLD = 5.5\n",
    "\n",
    "full_dia_cat[\"snr\"] = full_dia_cat[\"slot_ApFlux_instFlux\"] / full_dia_cat[\"slot_ApFlux_instFluxErr\"]"
   ]
  },
  {
   "cell_type": "code",
   "execution_count": null,
   "id": "86b6fc1a-a655-4d2d-8983-bf87bf487fff",
   "metadata": {},
   "outputs": [],
   "source": [
    "fit_but_not_dipole = full_dia_cat[full_dia_cat[\"ip_diffim_DipoleFit_flag\"] & ~full_dia_cat[\"ip_diffim_DipoleFit_flag_classification\"] & ~full_dia_cat[\"sky_source\"]]"
   ]
  },
  {
   "cell_type": "code",
   "execution_count": null,
   "id": "c04ef2ca-8036-4e80-a20b-da128b2e3a67",
   "metadata": {},
   "outputs": [],
   "source": [
    "dia_sources = full_dia_cat[full_dia_cat[\"sky_source\"] == False]\n",
    "sky_sources = full_dia_cat[full_dia_cat[\"sky_source\"] == True]\n",
    "\n",
    "# Deep copy to get a new contiguous catalog\n",
    "dipoles = dia_sources[dia_sources[\"ip_diffim_DipoleFit_flag_classification\"]]"
   ]
  },
  {
   "cell_type": "code",
   "execution_count": null,
   "id": "7bf750b4-7a77-4152-a6f9-93a152ca8315",
   "metadata": {},
   "outputs": [],
   "source": [
    "PIXEL_FLAG_LIST = [\n",
    "    'base_PixelFlags_flag_offimage', 'base_PixelFlags_flag_edge', 'base_PixelFlags_flag_interpolated',\n",
    "    'base_PixelFlags_flag_saturated', 'base_PixelFlags_flag_cr', 'base_PixelFlags_flag_bad',\n",
    "    'base_PixelFlags_flag_suspect', 'base_PixelFlags_flag_interpolatedCenter', 'base_PixelFlags_flag_saturatedCenter',\n",
    "    'base_PixelFlags_flag_crCenter', 'base_PixelFlags_flag_suspectCenter'\n",
    "]\n",
    "# We are interested in the things that are dipoles because of the shape\n",
    "# but not things that have obviously bad pixels or are next to the edge\n",
    "# (or are monitoring \"sky sources\")\n",
    "# SHAPE_FLAG_LIST = [\"slot_Shape_flag\"]\n",
    "\n",
    "EDGE_FLAG_LIST = [\"base_SdssCentroid_flag_edge\"]\n",
    "SKY_SOURCE = [\"sky_source\"]\n",
    "\n",
    "FLAG_LIST = PIXEL_FLAG_LIST + EDGE_FLAG_LIST + SKY_SOURCE"
   ]
  },
  {
   "cell_type": "code",
   "execution_count": null,
   "id": "3d490bf2-5c4e-4040-89a1-d2c8a9270e86",
   "metadata": {},
   "outputs": [],
   "source": [
    "# Calculate SNR based on Aperture Flux\n",
    "SNR_THRESHOLD = 5.5\n",
    "\n",
    "def get_good_sources_idx(df, flag_list=FLAG_LIST, snr_threshold=SNR_THRESHOLD):\n",
    "    bad = np.array(np.zeros(len(df)), dtype=bool)\n",
    "    for flag in flag_list:\n",
    "        bad |= df[flag]\n",
    "\n",
    "    # snr = df[\"slot_ApFlux_instFlux\"] / df[\"slot_ApFlux_instFluxErr\"]\n",
    "    # Use the already calculated column to avoid calculating a thing in two different places\n",
    "    snr = df[\"snr\"]\n",
    "    # This is a diff so take things both above the positive SNR cut and below the negative SNR cut\n",
    "    good_snr = (snr < -snr_threshold) | (snr > snr_threshold)\n",
    "        \n",
    "    good = ~bad\n",
    "    good &= good_snr\n",
    "    return good"
   ]
  },
  {
   "cell_type": "code",
   "execution_count": null,
   "id": "012e9c8c-ad92-4385-97a1-57f39fe15fde",
   "metadata": {},
   "outputs": [],
   "source": [
    "good_sources_idx = get_good_sources_idx(dia_sources)\n",
    "good_sources = dia_sources[good_sources_idx]\n",
    "good_dipoles = dia_sources[good_sources_idx & dia_sources[\"ip_diffim_DipoleFit_flag_classification\"]]"
   ]
  },
  {
   "cell_type": "code",
   "execution_count": null,
   "id": "63e83c8b-0689-43dc-961c-44bf81a4d840",
   "metadata": {},
   "outputs": [],
   "source": [
    "plt.scatter(good_dipoles[\"ip_diffim_DipoleFit_pos_instFlux\"], good_dipoles[\"ip_diffim_DipoleFit_separation\"])\n",
    "plt.xlabel(\"ip_diffim_DipoleFit_pos_instFlux\")\n",
    "plt.ylabel(\"ip_diffim_DipoleFit_separation\")"
   ]
  },
  {
   "cell_type": "code",
   "execution_count": null,
   "id": "402e74dd-e7ab-4067-8378-303559b8789e",
   "metadata": {},
   "outputs": [],
   "source": [
    "print(f\"{len(dia_sources)} total detections.\")\n",
    "print(f\"{len(dipoles)} detections classified as dipoles.\")\n",
    "print(f\"{len(good_sources)} good detections.\")"
   ]
  },
  {
   "cell_type": "code",
   "execution_count": null,
   "id": "110abfd6-432d-4ef2-9470-f114d5e9ed40",
   "metadata": {},
   "outputs": [],
   "source": [
    "psf = science.getPsf()\n",
    "middle_x, middle_y = 2000, 2000\n",
    "position = lsst.geom.Point2D(middle_x, middle_y)\n",
    "sigma = psf.computeShape(position).getDeterminantRadius()\n",
    "print(2 * sigma)"
   ]
  },
  {
   "cell_type": "markdown",
   "id": "097d49da-5163-4c20-8ea3-7086da77ff6b",
   "metadata": {},
   "source": [
    "The `ip_diffim_Dipolefit_separation` is fit to the science and template and not the DIA image.  So we expect separations to be on the order of hundredths of a pixel, not the 2*sigma that the poles are separated by in the difference image."
   ]
  },
  {
   "cell_type": "code",
   "execution_count": null,
   "id": "003183a6-82df-4837-a4b2-38430ccde442",
   "metadata": {},
   "outputs": [],
   "source": [
    "separation_threshold = {\"all\": 0, \"reasonable\": 0.1, \"large\": 1.0, \"unreasonable\": 10}  # pixel\n",
    "separation_color = {\"all\": \"blue\", \"small\": \"gray\", \"reasonable\": \"green\", \"large\": \"purple\", \"unreasonable\": \"red\"}\n",
    "separation_linestyle = {\"all\": \"-\", \"small\": \"-\", \"reasonable\": \"--\", \"large\": \":\", \"unreasonable\": \"-.\"}\n",
    "large_separation_threshold = 1  # pixel\n",
    "unreasonable_separation_threshold = 10  # pixel\n",
    "small_dipoles = good_dipoles[good_dipoles[\"ip_diffim_DipoleFit_separation\"] < separation_threshold[\"reasonable\"]]\n",
    "reasonable_dipoles = good_dipoles[(good_dipoles[\"ip_diffim_DipoleFit_separation\"] > separation_threshold[\"reasonable\"]) \n",
    "                       & (good_dipoles[\"ip_diffim_DipoleFit_separation\"] <= separation_threshold[\"large\"])]\n",
    "large_dipoles  = good_dipoles[(good_dipoles[\"ip_diffim_DipoleFit_separation\"] > separation_threshold[\"large\"]) \n",
    "                      & (good_dipoles[\"ip_diffim_DipoleFit_separation\"] <= separation_threshold[\"unreasonable\"])]\n",
    "unbelievably_wide_dipoles = good_dipoles[good_dipoles[\"ip_diffim_DipoleFit_separation\"] > separation_threshold[\"unreasonable\"]]"
   ]
  },
  {
   "cell_type": "code",
   "execution_count": null,
   "id": "57bb4956-79d0-42a5-939c-11632ddb819b",
   "metadata": {},
   "outputs": [],
   "source": [
    "# The parallactic angle is in the image metadata\n",
    "# For an object on the meridian this is degrees CCW of South.\n",
    "# Range [-180, +180]\n",
    "# https://github.com/lsst/afw/blob/b3a676b8dc86f8714a928f75276a329461bb25ed/include/lsst/afw/image/VisitInfo.h#L208\n",
    "par_ang = science.getInfo().getVisitInfo().boresightParAngle.asDegrees()\n",
    "# Position angle of focal plane +Y direction with respect to North\n",
    "# https://github.com/lsst/afw/blob/b3a676b8dc86f8714a928f75276a329461bb25ed/include/lsst/afw/image/VisitInfo.h#L170\n",
    "rot_ang = science.getInfo().getVisitInfo().boresightRotAngle.asDegrees()\n",
    "\n",
    "# This function from the ip_diffim DCR Model code to angle the orientation of the WCS\n",
    "# to get the parallactic angle with respect to afwDisplay x, y image\n",
    "par_angle = calculateImageParallacticAngle(science.getInfo().getVisitInfo(), science.getWcs())"
   ]
  },
  {
   "cell_type": "code",
   "execution_count": null,
   "id": "21c35acc-5e5a-4694-9a56-c6446c13f839",
   "metadata": {},
   "outputs": [],
   "source": [
    "bins=np.logspace(-2, 2)\n",
    "plt.hist(good_dipoles[\"ip_diffim_DipoleFit_separation\"], bins=bins, histtype=\"step\", linewidth=2, label=\"all\")\n",
    "plt.xlabel(\"Dipole +/- separation [pixels]\")\n",
    "plt.ylabel(\"#/bin\")\n",
    "plt.xscale(\"log\")\n",
    "for n, s in separation_threshold.items():\n",
    "    c = separation_color[n]\n",
    "    l = separation_linestyle[n]\n",
    "    plt.axvline(s, color=c, linestyle=l, label=n)\n",
    "\n",
    "plt.legend();"
   ]
  },
  {
   "cell_type": "code",
   "execution_count": null,
   "id": "684c58b4-4f72-429e-9ea7-02c94194d6f5",
   "metadata": {},
   "outputs": [],
   "source": [
    "bins = np.linspace(-180, +180, 37)\n",
    "plt.hist(good_dipoles[\"ip_diffim_DipoleFit_orientation\"], bins=bins, label=\"Dipole Orientation Angle\", histtype=\"step\")\n",
    "plt.hist(reasonable_dipoles[\"ip_diffim_DipoleFit_orientation\"], bins=bins, color=separation_color[\"reasonable\"], label=\"Reasonable Dipole\")\n",
    "plt.hist(large_dipoles[\"ip_diffim_DipoleFit_orientation\"], bins=bins, color=separation_color[\"large\"], label=\"Large Dipole\")\n",
    "plt.hist(unbelievably_wide_dipoles[\"ip_diffim_DipoleFit_orientation\"], bins=bins, color=separation_color[\"unreasonable\"], label=\"Unbelievably Large Dipole\")\n",
    "\n",
    "plt.axvline(((par_angle.asDegrees() + 180) % 360) - 180, color=\"orange\", linestyle=\"--\", linewidth=\"4\", label=\"Parallactic Angle\")\n",
    "plt.axvline(((par_angle.asDegrees() + 180) % 360), color=\"orange\", linestyle=\"--\", linewidth=\"2\", label=\"Parallactic Angle + 180\")\n",
    "\n",
    "plt.xlabel(\"ip_diffim_DipoleFit_orientation [deg]\")\n",
    "plt.ylabel(\"#/bin\")\n",
    "\n",
    "plt.xlim(-180, +180)\n",
    "plt.legend()"
   ]
  },
  {
   "cell_type": "code",
   "execution_count": null,
   "id": "1e689e87-b2ae-4df4-9706-7e08b12fcd99",
   "metadata": {},
   "outputs": [],
   "source": [
    "par_angle.asDegrees()"
   ]
  },
  {
   "cell_type": "code",
   "execution_count": null,
   "id": "b07c4f2b-7f2b-4a3d-9d70-59eec37a09db",
   "metadata": {},
   "outputs": [],
   "source": [
    "# Plot direction of arrows on sky\n",
    "Q = plt.quiver(dipoles[\"base_SdssCentroid_x\"],\n",
    "               dipoles[\"base_SdssCentroid_y\"],\n",
    "               dipoles[\"ip_diffim_DipoleFit_separation\"],\n",
    "               dipoles[\"ip_diffim_DipoleFit_separation\"],\n",
    "               angles=dipoles[\"ip_diffim_DipoleFit_orientation\"],\n",
    "               scale=2)\n"
   ]
  },
  {
   "cell_type": "markdown",
   "id": "96d6b9e9-6e0e-4987-9211-00806a896024",
   "metadata": {},
   "source": [
    "Anything more than 10 pixels is spurious.  Let's take a look at them."
   ]
  },
  {
   "cell_type": "code",
   "execution_count": null,
   "id": "7456e0c5-97fb-4bed-9063-1fc8e53338ff",
   "metadata": {},
   "outputs": [],
   "source": [
    "fig, axes = plt.subplots(1, 2, figsize=(18, 8))\n",
    "\n",
    "plt.sca(axes[0])\n",
    "display_template = afwDisplay.Display(frame=fig)\n",
    "display_template.scale(\"linear\", \"zscale\")\n",
    "display_template.image(template)\n",
    "\n",
    "# The following code\n",
    "# https://github.com/lsst/ip_diffim/blob/main/python/lsst/ip/diffim/dipoleFitTask.py#L867\n",
    "# suggests that the ip_diffim_DipoleFit_orientation convention is CCW from +x.\n",
    "# Plot direction of arrows on sky\n",
    "plt.quiver(good_dipoles[\"base_SdssCentroid_x\"],\n",
    "           good_dipoles[\"base_SdssCentroid_y\"],\n",
    "           good_dipoles[\"ip_diffim_DipoleFit_separation\"],\n",
    "           good_dipoles[\"ip_diffim_DipoleFit_separation\"],\n",
    "           angles=good_dipoles[\"ip_diffim_DipoleFit_orientation\"],\n",
    "           scale=2,\n",
    "           color=separation_color[\"all\"])\n",
    "\n",
    "plt.sca(axes[1])\n",
    "display_mask = afwDisplay.Display(frame=fig)\n",
    "display_mask.image(template.mask)\n",
    "# Plot direction of arrows on sky\n",
    "for df, n in zip([good_dipoles, reasonable_dipoles, large_dipoles, unbelievably_wide_dipoles],\n",
    "                 [\"all\", \"reasonable\", \"large\", \"unreasonable\"]):\n",
    "    c = separation_color[n]\n",
    "    if c == \"gray\":\n",
    "        c = \"limegreen\"\n",
    "    plt.quiver(df[\"base_SdssCentroid_x\"],\n",
    "               df[\"base_SdssCentroid_y\"],\n",
    "               df[\"ip_diffim_DipoleFit_separation\"],\n",
    "               df[\"ip_diffim_DipoleFit_separation\"],\n",
    "               angles=df[\"ip_diffim_DipoleFit_orientation\"],\n",
    "               scale=2,\n",
    "               color=c)\n",
    "\n",
    "center_x, center_y = 2000, 2000\n",
    "west_to_south = -90  # quiver plots CCW from West.  Par Angle is in terms of CCW from South\n",
    "plt.quiver(center_x, center_y, 10, 10, angles=par_angle.asDegrees() + west_to_south , color=\"orange\", linestyle=\"--\", linewidth=4);"
   ]
  },
  {
   "cell_type": "code",
   "execution_count": null,
   "id": "c5026868-3e18-4f7c-b952-1dc0fac187ff",
   "metadata": {},
   "outputs": [],
   "source": [
    "fig, axes = plt.subplots(1, 3, figsize=(16, 6))\n",
    "plt.sca(axes[0])\n",
    "display_diff = afwDisplay.Display(frame=fig)\n",
    "display_diff.scale(\"linear\", \"zscale\")\n",
    "display_diff.mtv(diff)\n",
    "\n",
    "plt.sca(axes[1])\n",
    "display_science = afwDisplay.Display(frame=fig)\n",
    "display_diff.scale(\"linear\", \"zscale\")\n",
    "display_diff.mtv(science)\n",
    "\n",
    "plt.sca(axes[2])\n",
    "display_template = afwDisplay.Display(frame=fig)\n",
    "display_template.scale(\"linear\", \"zscale\")\n",
    "display_template.mtv(template)\n",
    "\n",
    "plt.tight_layout()\n",
    "plt.show()"
   ]
  },
  {
   "cell_type": "code",
   "execution_count": null,
   "id": "a69a848f-3628-4bdd-861e-f0ba10dacf1d",
   "metadata": {},
   "outputs": [],
   "source": [
    "STAMP_SIZE = 100\n",
    "def postage_stamp_from_image(image, x, y, stamp_size=STAMP_SIZE):\n",
    "    \"\"\"\n",
    "    Return postage stamp of stamp_size x stamp_size around given x, y\n",
    "\n",
    "    x, y can be fractional, but the image will be in original pixels.\n",
    "    \"\"\"\n",
    "\n",
    "    import lsst.geom as geom\n",
    "    # Naive version that is wrong because it doesn't account for x, y orientation\n",
    "    center = geom.Point2D(x, y)\n",
    "    size = geom.Extent2I(stamp_size, stamp_size)\n",
    "    cutout = image.getCutout(center, size)\n",
    "\n",
    "    return cutout"
   ]
  },
  {
   "cell_type": "code",
   "execution_count": null,
   "id": "001f637c-18d0-40e5-b14e-0ea810d17e35",
   "metadata": {},
   "outputs": [],
   "source": [
    "def show_postage_stamps(*args, arrow=None, figsize=(12, 6)):\n",
    "    n = len(args)\n",
    "    fig, axes = plt.subplots(1, n, figsize=figsize)\n",
    "    displays = []\n",
    "    for i, image in enumerate(args):\n",
    "        plt.sca(axes[i])\n",
    "        display = afwDisplay.Display(frame=fig)\n",
    "        display.setMaskTransparency(80)\n",
    "        display.scale(\"linear\", \"zscale\")\n",
    "        display.mtv(image)\n",
    "\n",
    "        displays.append(display)\n",
    "\n",
    "        if arrow is not None:\n",
    "            plt.quiver(arrow[\"x\"], arrow[\"y\"], arrow[\"sep\"]*np.cos(np.deg2rad(arrow[\"angle\"])), arrow[\"sep\"]*np.sin(np.deg2rad(arrow[\"angle\"])),\n",
    "                       angles=\"xy\", scale_units=\"xy\", scale=1, color=\"red\")\n",
    "\n",
    "    plt.tight_layout()\n",
    "    return display"
   ]
  },
  {
   "cell_type": "code",
   "execution_count": null,
   "id": "dbf03ee1-8b08-4fc9-816d-54cebaa9ebc0",
   "metadata": {},
   "outputs": [],
   "source": [
    "def show_dipole_stamps(dipoles):\n",
    "    \"\"\"\n",
    "    Returns the last display in case you want to look at mask plane colors.\"\n",
    "    \"\"\"\n",
    "    if len(dipoles) < 1:\n",
    "        print(\"No dipoles to plot.\")\n",
    "        return\n",
    "\n",
    "    ids = dipoles[\"id\"]\n",
    "    x = dipoles[\"slot_Centroid_x\"]\n",
    "    y = dipoles[\"slot_Centroid_y\"]\n",
    "    dipole_neg_x = dipoles[\"ip_diffim_DipoleFit_neg_x\"]\n",
    "    dipole_neg_y = dipoles[\"ip_diffim_DipoleFit_neg_y\"]\n",
    "    separation = dipoles[\"ip_diffim_DipoleFit_separation\"]\n",
    "    orientation = dipoles[\"ip_diffim_DipoleFit_orientation\"]\n",
    "    \n",
    "    for i, xi, yi, dip_x, dip_y, sep, theta in zip(ids, x, y, dipole_neg_x, dipole_neg_y, separation, orientation):\n",
    "        # Show image name?\n",
    "        d = postage_stamp_from_image(diff, xi, yi)\n",
    "        s = postage_stamp_from_image(science, xi, yi)\n",
    "        t = postage_stamp_from_image(template, xi, yi)\n",
    "        arrow = {\"x\": dip_x, \"y\": dip_y, \"sep\": sep, \"angle\": theta}\n",
    "        display = show_postage_stamps(d, s, t, arrow=arrow)\n",
    "        plt.title(i)\n",
    "\n",
    "    return display"
   ]
  },
  {
   "cell_type": "code",
   "execution_count": null,
   "id": "e1f9d8c6-3c7f-4566-839a-02b99a1cfc54",
   "metadata": {},
   "outputs": [],
   "source": [
    "show_dipole_stamps(unbelievably_wide_dipoles)"
   ]
  },
  {
   "cell_type": "code",
   "execution_count": null,
   "id": "57771f32-82f7-49cc-9f1f-43b1e8756d29",
   "metadata": {},
   "outputs": [],
   "source": [
    "show_dipole_stamps(large_dipoles)"
   ]
  },
  {
   "cell_type": "code",
   "execution_count": null,
   "id": "e50cfa24-f450-44fd-93a1-a6603d1f0c70",
   "metadata": {},
   "outputs": [],
   "source": [
    "show_dipole_stamps(reasonable_dipoles)"
   ]
  },
  {
   "cell_type": "code",
   "execution_count": null,
   "id": "2b8a5825-c7dd-420f-91d1-828256645ba9",
   "metadata": {},
   "outputs": [],
   "source": [
    "# show_dipole_stamps(small_dipoles)"
   ]
  },
  {
   "cell_type": "code",
   "execution_count": null,
   "id": "75c2f6ae-7ae3-4c27-9d74-44a26a461acd",
   "metadata": {},
   "outputs": [],
   "source": [
    "# good_dipoles.colnames"
   ]
  },
  {
   "cell_type": "code",
   "execution_count": null,
   "id": "4fd4a7db-8417-4778-95c6-369e074a2b42",
   "metadata": {},
   "outputs": [],
   "source": [
    "dipole_columns_of_interest = [\n",
    "    \"id\",\n",
    "    \"slot_ApFlux_instFlux\",\n",
    "    \"ip_diffim_DipoleFit_instFlux\",\n",
    "    \"ip_diffim_DipoleFit_orientation\",\n",
    "    \"ip_diffim_DipoleFit_separation\",\n",
    "    \"ip_diffim_DipoleFit_chi2dof\",\n",
    "    \"ip_diffim_DipoleFit_nData\",\n",
    "    \"ip_diffim_DipoleFit_signalToNoise\"]\n",
    "\n",
    "(good_dipoles[dipole_columns_of_interest]).pprint(max_width=-1, max_lines=-1)"
   ]
  },
  {
   "cell_type": "code",
   "execution_count": null,
   "id": "0607d99e-43ff-4dd7-a7e1-b1ff662a6887",
   "metadata": {},
   "outputs": [],
   "source": [
    "show_dipole_stamps(good_dipoles)"
   ]
  },
  {
   "cell_type": "code",
   "execution_count": null,
   "id": "f115030c-f4e3-4a43-b5bf-8c281072dd44",
   "metadata": {},
   "outputs": [],
   "source": [
    "x = good_sources[\"slot_Centroid_x\"]\n",
    "y = good_sources[\"slot_Centroid_y\"]\n",
    "for xi, yi in zip(x[:10], y[:10]):\n",
    "    # Show image name?\n",
    "    d = postage_stamp_from_image(diff, xi, yi)\n",
    "    s = postage_stamp_from_image(science, xi, yi)\n",
    "    t = postage_stamp_from_image(template, xi, yi)\n",
    "    show_postage_stamps(d, s, t)"
   ]
  },
  {
   "cell_type": "markdown",
   "id": "f1e4ea6e-1fce-4dbf-88ba-4c66f4c64bfb",
   "metadata": {},
   "source": [
    "### Look at the DIA kernel astrometric shift"
   ]
  },
  {
   "cell_type": "code",
   "execution_count": null,
   "id": "1a1ee332-3cca-41cf-965b-8f17dfa02c36",
   "metadata": {},
   "outputs": [],
   "source": [
    "# Code based on snippet from RHL\n",
    "\n",
    "dataId = data_id\n",
    "\n",
    "def get_dia_astrometric_for_xy(butler, data_id, x, y, npt=10):\n",
    "    dx = np.empty_like(x.ravel())\n",
    "    dy = np.empty_like(x.ravel())\n",
    "\n",
    "    kappa = butler.get(\"goodSeeingDiff_psfMatchKernel\", data_id)\n",
    "    \n",
    "    im = afwImage.ImageD(kappa.getDimensions())\n",
    "  \n",
    "    hsize = kappa.getWidth()//2\n",
    "    xy = np.arange(-hsize, hsize+1)\n",
    "\n",
    "    for i, (_x, _y) in enumerate(zip(x.ravel(), y.ravel())):\n",
    "        kappa.computeImage(im, False, _x, _y)\n",
    "        dx[i] = np.average(xy, weights=np.mean(im.array, axis=0))\n",
    "        dy[i] = np.average(xy, weights=np.mean(im.array, axis=1))\n",
    "        \n",
    "    return x, y, dx, dy\n",
    "\n",
    "\n",
    "def get_dia_astrometric_for_grid(butler, data_id, npt=10):\n",
    "    w, h = butler.get(\"goodSeeingDiff_differenceExp\" + \".bbox\", data_id).getDimensions()\n",
    "    x = np.empty((npt, npt))\n",
    "    y = np.empty_like(x)\n",
    "\n",
    "    for i, _x in enumerate(np.linspace(0, w-1, npt)):\n",
    "        for j, _y in enumerate(np.linspace(0, h-1, npt)):\n",
    "            x[i, j] = _x\n",
    "            y[i, j] = _y\n",
    "\n",
    "    _, _, dx, dy = get_dia_astrometric_for_xy(butler, data_id, x, y)\n",
    "\n",
    "    return x, y, dx, dy"
   ]
  },
  {
   "cell_type": "code",
   "execution_count": null,
   "id": "43724d65-078d-4573-9c4d-509c8b4d4fc8",
   "metadata": {},
   "outputs": [],
   "source": [
    "# Grid\n",
    "x, y, dx, dy = get_dia_astrometric_for_grid(butler, data_id)\n",
    "# Evaluated at source points\n",
    "dia_src_x, dia_src_y = good_dipoles[\"base_SdssCentroid_x\"], good_dipoles[\"base_SdssCentroid_y\"]\n",
    "_, _, dia_src_kernel_dx, dia_src_kernel_dy = get_dia_astrometric_for_xy(butler, data_id, dia_src_x, dia_src_y)\n",
    "dia_src_kernel_theta = np.arctan2(dia_src_kernel_dy, dia_src_kernel_dx)\n",
    "dia_src_kernel_separation = np.sqrt(dia_src_kernel_dx**2 + dia_src_kernel_dy**2)\n"
   ]
  },
  {
   "cell_type": "code",
   "execution_count": null,
   "id": "12f5c472-d041-46a2-9b3e-aa80b92a2342",
   "metadata": {},
   "outputs": [],
   "source": [
    "if len(good_dipoles) > 0:\n",
    "    _, axes = plt.subplots(1, 2)\n",
    "    axes[0].hist(np.rad2deg(dia_src_kernel_theta), bins=bins);\n",
    "    axes[1].hist(dia_src_kernel_separation);"
   ]
  },
  {
   "cell_type": "code",
   "execution_count": null,
   "id": "490ccc59-d34c-48cb-872f-86a6ed15a4cc",
   "metadata": {},
   "outputs": [],
   "source": [
    "fig, axes = plt.subplots(1, 1, figsize=(8, 8))\n",
    "SCALE = 0.5\n",
    "\n",
    "# Plot direction of arrows on sky\n",
    "Q_dipole = plt.quiver(good_dipoles[\"base_SdssCentroid_x\"],\n",
    "                      good_dipoles[\"base_SdssCentroid_y\"],\n",
    "                      good_dipoles[\"ip_diffim_DipoleFit_separation\"],\n",
    "                      good_dipoles[\"ip_diffim_DipoleFit_separation\"],\n",
    "                      angles=good_dipoles[\"ip_diffim_DipoleFit_orientation\"],\n",
    "                      color=separation_color[\"all\"],\n",
    "                      scale=SCALE,\n",
    "                      label=\"Dipole Orientation\")\n",
    "\n",
    "Q_kernel_grid = plt.quiver(x, y, dx, dy,\n",
    "                           color=\"gray\", scale=SCALE, label=\"DIA astrometric kernel shift\")\n",
    "Q_kernel_xy = plt.quiver(dia_src_x, dia_src_y, dia_src_kernel_dx, dia_src_kernel_dy,\n",
    "                         color=\"black\", scale=SCALE, label=\"DIA astrometric kernel shift\")\n",
    "Q_parallactic = plt.quiver(center_x, center_y, 1, 1, angles=par_angle.asDegrees() + west_to_south ,\n",
    "                           color=\"orange\", linestyle=\"--\", linewidth=4, label=\"Parallactic Angle\");\n",
    "\n",
    "length = 20\n",
    "plt.quiverkey(Q_dipole, 0.1, 1.04, 1e-3*length, f\"{length} pixels\")\n",
    "plt.quiverkey(Q_kernel_grid, 0.1, 1.04, 1e-3*length, f\"{length} mas\")\n",
    "plt.quiverkey(Q_kernel_xy, 0.1, 1.04, 1e-3*length, f\"{length} mas\")\n",
    "plt.quiverkey(Q_parallactic, 0.1, 1.04, 1e-3*length, f\"{length} mas\")\n",
    "\n",
    "plt.gca().set_aspect(1);\n",
    "plt.title(\"visit: {visit}, detector: {detector}\".format(**dataId));\n",
    "\n",
    "plt.legend()"
   ]
  },
  {
   "cell_type": "code",
   "execution_count": null,
   "id": "0a2fc8ce-9ede-4517-b10e-58ec3ec079ec",
   "metadata": {},
   "outputs": [],
   "source": []
  },
  {
   "cell_type": "code",
   "execution_count": null,
   "id": "52e463e7-1a21-45dd-8bfd-83172c80f097",
   "metadata": {},
   "outputs": [],
   "source": [
    "fig, axes = plt.subplots(1, 2, figsize=(12, 6))\n",
    "\n",
    "for ax in axes:\n",
    "    ax.axis(\"off\")\n",
    "\n",
    "ax = plt.subplot(1, 2, 1, projection=\"polar\")\n",
    "\n",
    "# Make a polar plot of orientation histogram\n",
    "# Make area the proportional quantity\n",
    "# https://www.chiark.greenend.org.uk/~peterb/python/polar/index2\n",
    "# https://matplotlib.org/stable/gallery/pie_and_polar_charts/polar_bar.html#sphx-glr-gallery-pie-and-polar-charts-polar-bar-py\n",
    "\n",
    "# ax = plt.subplot(projection=\"polar\")\n",
    "\n",
    "bins = np.linspace(-180, +180, 37)\n",
    "\n",
    "n, bin_edges = np.histogram(good_dipoles[\"ip_diffim_DipoleFit_orientation\"] - np.rad2deg(dia_src_kernel_theta), bins=bins)\n",
    "\n",
    "width = bins[1] - bins[0]\n",
    "bin_centers = bins[:-1] + width/2\n",
    "bin_centers_rad = np.deg2rad(bin_centers)\n",
    "width_rad = np.deg2rad(width)\n",
    "\n",
    "ax.bar(bin_centers_rad, n, width=width_rad, label=\"ip_diffim_DipoleFit_orientation - dia_kernel_shift\")\n",
    "\n",
    "# Set equal-area plotting\n",
    "ax.set_yscale(\"function\", functions=(lambda value: np.sqrt(value), lambda radius: radius**2))\n",
    "ax.set_yticks(np.arange(0, max(n)+1))\n",
    "\n",
    "plt.legend()\n",
    "\n",
    "# Make a polar plot of orientation histogram\n",
    "# Make area the proportional quantity\n",
    "# https://www.chiark.greenend.org.uk/~peterb/python/polar/index2\n",
    "# https://matplotlib.org/stable/gallery/pie_and_polar_charts/polar_bar.html#sphx-glr-gallery-pie-and-polar-charts-polar-bar-py\n",
    "\n",
    "ax = plt.subplot(1, 2, 2, projection=\"polar\")\n",
    "\n",
    "bins = np.linspace(-180, +180, 37)\n",
    "\n",
    "dipole_orientation_par_angle_diff = good_dipoles[\"ip_diffim_DipoleFit_orientation\"] - par_angle.asDegrees()\n",
    "# Remap to [-180, +180]\n",
    "dipole_orientation_par_angle_diff = (dipole_orientation_par_angle_diff + 180) % 360 - 180\n",
    "\n",
    "n, bin_edges = np.histogram(dipole_orientation_par_angle_diff, bins=bins)\n",
    "\n",
    "width = bins[1] - bins[0]\n",
    "bin_centers = bins[:-1] + width/2\n",
    "bin_centers_rad = np.deg2rad(bin_centers)\n",
    "width_rad = np.deg2rad(width)\n",
    "\n",
    "ax.bar(bin_centers_rad, n, width=width_rad, label=\"ip_diffim_DipoleFit_orientation - science parallactic angle\")\n",
    "\n",
    "# Set equal-area plotting\n",
    "ax.set_yscale(\"function\", functions=(lambda value: np.sqrt(value), lambda radius: radius**2))\n",
    "ax.set_yticks(np.arange(0, max(n)+1))\n",
    "\n",
    "plt.legend();"
   ]
  },
  {
   "cell_type": "markdown",
   "id": "f4f5d25f-cc21-4afc-945b-3596595560fe",
   "metadata": {},
   "source": [
    "Note that it's the difference between the effective DCR direction in the template and the science image that matters here\n",
    "We plot the science image because we can look that up and it's easily defined."
   ]
  },
  {
   "cell_type": "code",
   "execution_count": null,
   "id": "51bedac2-95ad-45bf-b030-7fea0aff67aa",
   "metadata": {},
   "outputs": [],
   "source": [
    "plt.scatter(good_dipoles[\"ip_diffim_DipoleFit_orientation\"], np.rad2deg(dia_src_kernel_theta))\n",
    "plt.xlabel(\"ip_diffim_DipoleFit_orientation\")\n",
    "plt.ylabel(\"DIA kernel astrometric shift\")\n",
    "plt.xlim(-180, +180)\n",
    "plt.ylim(-180, +180)\n",
    "degree_ticks = [-180, -135, -90, -45, 0, +45, +90, +135, +180]\n",
    "plt.xticks(degree_ticks)\n",
    "plt.yticks(degree_ticks)\n",
    "plt.gca().set_aspect(\"equal\");"
   ]
  },
  {
   "cell_type": "code",
   "execution_count": null,
   "id": "98249b88-721a-493b-a0a9-aa51f1231e7f",
   "metadata": {},
   "outputs": [],
   "source": []
  }
 ],
 "metadata": {
  "kernelspec": {
   "display_name": "LSST",
   "language": "python",
   "name": "lsst"
  },
  "language_info": {
   "codemirror_mode": {
    "name": "ipython",
    "version": 3
   },
   "file_extension": ".py",
   "mimetype": "text/x-python",
   "name": "python",
   "nbconvert_exporter": "python",
   "pygments_lexer": "ipython3",
   "version": "3.11.7"
  }
 },
 "nbformat": 4,
 "nbformat_minor": 5
}
