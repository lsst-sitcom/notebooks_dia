{
 "cells": [
  {
   "cell_type": "markdown",
   "metadata": {},
   "source": [
    "# Imports, Helper Functions, and Loading"
   ]
  },
  {
   "cell_type": "code",
   "execution_count": 1,
   "metadata": {
    "execution": {
     "iopub.execute_input": "2024-05-14T15:52:44.714970Z",
     "iopub.status.busy": "2024-05-14T15:52:44.714768Z",
     "iopub.status.idle": "2024-05-14T15:52:47.379695Z",
     "shell.execute_reply": "2024-05-14T15:52:47.379214Z",
     "shell.execute_reply.started": "2024-05-14T15:52:44.714956Z"
    }
   },
   "outputs": [],
   "source": [
    "\n",
    "import numpy as np\n",
    "import matplotlib.pyplot as plt\n",
    "import pandas as pd\n",
    "\n",
    "import healpy as hp\n",
    "\n",
    "import lsst.daf.butler as dafButler\n",
    "\n",
    "# if you are running latest daily, May 13 (setup lsst_distrib -t d_latest) you should have analysis_ap\n",
    "# within lsst_distrib\n",
    "\n",
    "# it was merged as  this ticket \n",
    "# https://rubinobs.atlassian.net/browse/DM-44157 \n",
    "\n",
    "# if you do not have analysis_ap package, you need to github clone and\n",
    "# setup it in your environment, for instance\n",
    "# setup -k -r /sdf/home/n/ncaplar/github/analysis_ap\n",
    "\n",
    "from lsst.analysis.ap import apdb\n",
    "from lsst.daf.butler import DataCoordinate\n",
    "from lsst.obs.lsst import RubinDimensionPacker\n",
    "from lsst.ap.association import AssociationTask, AssociationConfig\n",
    "\n",
    "import warnings\n",
    "warnings.filterwarnings('ignore')\n",
    "warnings.simplefilter('ignore')\n",
    "\n",
    "plt.set_loglevel('WARNING')"
   ]
  },
  {
   "cell_type": "code",
   "execution_count": 2,
   "metadata": {
    "execution": {
     "iopub.execute_input": "2024-05-14T15:52:47.387206Z",
     "iopub.status.busy": "2024-05-14T15:52:47.387080Z",
     "iopub.status.idle": "2024-05-14T15:52:48.147953Z",
     "shell.execute_reply": "2024-05-14T15:52:48.147462Z",
     "shell.execute_reply.started": "2024-05-14T15:52:47.387195Z"
    }
   },
   "outputs": [
    {
     "data": {
      "text/html": [
       "<pre style=\"margin: 0.1em;\n",
       "padding-left: 0.25em;\n",
       "border-left-style: solid;\n",
       "font-family: var(--jp-code-font-family);\n",
       "font-size: var(--jp-code-font-size);\n",
       "line-height: var(--jp-code-line-height);\n",
       "\"><span style=\"color: var(--jp-warn-color2)\">botocore.credentials</span> <span style=\"color: var(--jp-info-color0)\">INFO</span>: Found credentials in shared credentials file: /home/n/ncaplar/.lsst/aws-credentials.ini</pre>"
      ],
      "text/plain": [
       "<IPython.core.display.HTML object>"
      ]
     },
     "metadata": {},
     "output_type": "display_data"
    }
   ],
   "source": [
    "repo = '/repo/embargo'\n",
    "instrument = 'LSSTComCamSim'\n",
    "\n",
    "# previous run:\n",
    "# uses ccdVisitId, not (ccd, visitId)!\n",
    "# collections = 'u/elhoward/DM-43098/LSSTComCamSim'\n",
    "# schema = f'elhoward_dm43098_lsstcomcamsim_appipe'\n",
    "\n",
    "# run done over the weekend May11/May12:\n",
    "# these do not use ccdVisitId!\n",
    "collections = 'u/elhoward/DM-44138/LSSTComCamSim'\n",
    "schema =  f'elhoward_dm44138_LSSTComCamSim'\n",
    "\n",
    "\n",
    "butler = dafButler.Butler(repo, instrument=instrument)\n",
    "registry = butler.registry\n",
    "skymap = butler.get(\"skyMap\", collections=collections, skymap=\"ops_rehersal_prep_2k_v1\")\n",
    "apdbQuery = apdb.ApdbPostgresQuery(instrument=instrument, namespace=schema)"
   ]
  },
  {
   "cell_type": "code",
   "execution_count": 3,
   "metadata": {
    "execution": {
     "iopub.execute_input": "2024-05-14T15:52:48.149081Z",
     "iopub.status.busy": "2024-05-14T15:52:48.148936Z",
     "iopub.status.idle": "2024-05-14T15:52:48.165466Z",
     "shell.execute_reply": "2024-05-14T15:52:48.165074Z",
     "shell.execute_reply.started": "2024-05-14T15:52:48.149069Z"
    }
   },
   "outputs": [
    {
     "name": "stdout",
     "output_type": "stream",
     "text": [
      "Available columns: ['diaSourceId', 'visit', 'detector', 'diaObjectId', 'ssObjectId', 'parentDiaSourceId', 'ssObjectReassocTime', 'midpointMjdTai', 'ra', 'raErr', 'dec', 'decErr', 'ra_dec_Cov', 'x', 'xErr', 'y', 'yErr', 'x_y_Cov', 'centroid_flag', 'apFlux', 'apFluxErr', 'apFlux_flag', 'apFlux_flag_apertureTruncated', 'snr', 'psfFlux', 'psfFluxErr', 'psfRa', 'psfRaErr', 'psfDec', 'psfDecErr', 'psfFlux_psfRa_Cov', 'psfFlux_psfDec_Cov', 'psfRa_psfDec_Cov', 'psfLnL', 'psfChi2', 'psfNdata', 'psfFlux_flag', 'psfFlux_flag_edge', 'psfFlux_flag_noGoodPixels', 'trailFlux', 'trailFluxErr', 'trailRa', 'trailRaErr', 'trailDec', 'trailDecErr', 'trailLength', 'trailLengthErr', 'trailAngle', 'trailAngleErr', 'trailFlux_trailRa_Cov', 'trailFlux_trailDec_Cov', 'trailFlux_trailLength_Cov', 'trailFlux_trailAngle_Cov', 'trailRa_trailDec_Cov', 'trailRa_trailLength_Cov', 'trailRa_trailAngle_Cov', 'trailDec_trailLength_Cov', 'trailDec_trailAngle_Cov', 'trailLength_trailAngle_Cov', 'trailLnL', 'trailChi2', 'trailNdata', 'trail_flag_edge', 'dipoleMeanFlux', 'dipoleMeanFluxErr', 'dipoleFluxDiff', 'dipoleFluxDiffErr', 'dipoleRa', 'dipoleRaErr', 'dipoleDec', 'dipoleDecErr', 'dipoleLength', 'dipoleLengthErr', 'dipoleAngle', 'dipoleAngleErr', 'dipoleMeanFlux_dipoleFluxDiff_Cov', 'dipoleMeanFlux_dipoleRa_Cov', 'dipoleMeanFlux_dipoleDec_Cov', 'dipoleMeanFlux_dipoleLength_Cov', 'dipoleMeanFlux_dipoleAngle_Cov', 'dipoleFluxDiff_dipoleRa_Cov', 'dipoleFluxDiff_dipoleDec_Cov', 'dipoleFluxDiff_dipoleLength_Cov', 'dipoleFluxDiff_dipoleAngle_Cov', 'dipoleRa_dipoleDec_Cov', 'dipoleRa_dipoleLength_Cov', 'dipoleRa_dipoleAngle_Cov', 'dipoleDec_dipoleLength_Cov', 'dipoleDec_dipoleAngle_Cov', 'dipoleLength_dipoleAngle_Cov', 'dipoleLnL', 'dipoleChi2', 'dipoleNdata', 'scienceFlux', 'scienceFluxErr', 'forced_PsfFlux_flag', 'forced_PsfFlux_flag_edge', 'forced_PsfFlux_flag_noGoodPixels', 'snapDiffFlux', 'snapDiffFluxErr', 'fpBkgd', 'fpBkgdErr', 'ixx', 'ixxErr', 'iyy', 'iyyErr', 'ixy', 'ixyErr', 'ixx_iyy_Cov', 'ixx_ixy_Cov', 'iyy_ixy_Cov', 'ixxPSF', 'iyyPSF', 'ixyPSF', 'shape_flag', 'shape_flag_no_pixels', 'shape_flag_not_contained', 'shape_flag_parent_source', 'extendedness', 'reliability', 'band', 'isDipole', 'time_processed', 'time_withdrawn', 'bboxSize', 'pixelFlags', 'pixelFlags_bad', 'pixelFlags_cr', 'pixelFlags_crCenter', 'pixelFlags_edge', 'pixelFlags_interpolated', 'pixelFlags_interpolatedCenter', 'pixelFlags_offimage', 'pixelFlags_saturated', 'pixelFlags_saturatedCenter', 'pixelFlags_suspect', 'pixelFlags_suspectCenter', 'pixelFlags_streak', 'pixelFlags_streakCenter', 'pixelFlags_injected', 'pixelFlags_injectedCenter', 'pixelFlags_injected_template', 'pixelFlags_injected_templateCenter', 'pixelId']\n"
     ]
    }
   ],
   "source": [
    "# This is to see all of the columns avaliable\n",
    "with apdbQuery.connection as connection:\n",
    "    # Query to fetch all column names from the DiaObject table\n",
    "    query_columns = '''\n",
    "    SELECT column_name\n",
    "    FROM information_schema.columns\n",
    "    WHERE table_schema = 'elhoward_dm44138_LSSTComCamSim' AND table_name = 'DiaSource';\n",
    "    '''\n",
    "    df_columns = pd.read_sql_query(query_columns, connection)\n",
    "    print(\"Available columns:\", df_columns['column_name'].tolist())"
   ]
  },
  {
   "cell_type": "code",
   "execution_count": 4,
   "metadata": {
    "execution": {
     "iopub.execute_input": "2024-05-14T15:52:48.166115Z",
     "iopub.status.busy": "2024-05-14T15:52:48.165984Z",
     "iopub.status.idle": "2024-05-14T15:52:54.924033Z",
     "shell.execute_reply": "2024-05-14T15:52:54.923697Z",
     "shell.execute_reply.started": "2024-05-14T15:52:48.166097Z"
    }
   },
   "outputs": [
    {
     "name": "stdout",
     "output_type": "stream",
     "text": [
      "There are 119 visits in tracts [3384, 3385]\n",
      "There are 352 visits in tracts [2261, 2262, 2494, 2495]\n",
      "There are 298 visits in tracts [9880, 9881, 9638]\n",
      "There are 295 visits in tracts [3533, 3534, 3345, 3346]\n",
      "There are 354 visits in tracts [7683, 7684, 7445, 7446]\n",
      "There are 238 visits in tracts [9590, 9591, 9347, 9348]\n",
      "There are 356 visits in tracts [9812, 9813]\n",
      "There are 299 visits in tracts [7149, 6914, 6915]\n"
     ]
    }
   ],
   "source": [
    "# just a small cell showing number of observations in different parts of the sky\n",
    "\n",
    "## Grouping tracts based on location on the sky\n",
    "group1 = [3384, 3385]\n",
    "group2 = [2261, 2262, 2494, 2495]\n",
    "group3 = [9880, 9881, 9638]\n",
    "group4 = [3533, 3534, 3345, 3346]\n",
    "group5 = [7683, 7684, 7445, 7446]\n",
    "group6 = [9590, 9591, 9347, 9348]\n",
    "group7 = [9812, 9813]\n",
    "group8 = [7149, 6914, 6915]\n",
    "\n",
    "groups = [group1, group2, group3, group4, group5, group6, group7, group8]\n",
    "\n",
    "def getUniqueVisits(collections, tracts):\n",
    "    \"\"\"Get the unique visits from a given tract.\"\"\"\n",
    "    visitList = []\n",
    "    tracts = ','.join(str(tract) for tract in tracts)\n",
    "    for d in sorted(registry.queryDatasets(datasetType=\"goodSeeingDiff_diaSrcTable\", collections=collections, \\\n",
    "        where=f\"skymap='ops_rehersal_prep_2k_v1' AND tract IN ({tracts})\")): \n",
    "        visitList.append(d.dataId['visit'])\n",
    "    uniqueVisits = list(set(visitList))\n",
    "    return uniqueVisits\n",
    "\n",
    "visitListByGroup = []\n",
    "\n",
    "for group in groups:\n",
    "    visits = getUniqueVisits(collections, group)\n",
    "    visitListByGroup.append(visits)\n",
    "    print(\"There are \"+str(len(visits))+f\" visits in tracts {group}\")"
   ]
  },
  {
   "cell_type": "code",
   "execution_count": 5,
   "metadata": {
    "execution": {
     "iopub.execute_input": "2024-05-14T15:52:54.924647Z",
     "iopub.status.busy": "2024-05-14T15:52:54.924520Z",
     "iopub.status.idle": "2024-05-14T15:52:54.929807Z",
     "shell.execute_reply": "2024-05-14T15:52:54.929504Z",
     "shell.execute_reply.started": "2024-05-14T15:52:54.924636Z"
    }
   },
   "outputs": [],
   "source": [
    "# let us look at one tract, just randomly 3533\n",
    "tract_id = 3533\n",
    "\n",
    "tractInfo = skymap.generateTract(tract_id)\n",
    "tractInfo_vertices = tractInfo.vertex_list\n",
    "\n",
    "vertices_as_deg = []\n",
    "for i in range(0,4):\n",
    "   vertices_as_deg.append([tractInfo_vertices[i].getRa().asDegrees(), tractInfo_vertices[i].getDec().asDegrees()])\n",
    "vertices_as_deg = np.array(vertices_as_deg)\n",
    "\n",
    "ra_min = np.min(vertices_as_deg[:,0])\n",
    "ra_max = np.max(vertices_as_deg[:,0])\n",
    "dec_min = np.min(vertices_as_deg[:,1])\n",
    "dec_max = np.max(vertices_as_deg[:,1])"
   ]
  },
  {
   "cell_type": "code",
   "execution_count": 6,
   "metadata": {
    "execution": {
     "iopub.execute_input": "2024-05-14T15:52:54.956203Z",
     "iopub.status.busy": "2024-05-14T15:52:54.956082Z",
     "iopub.status.idle": "2024-05-14T15:53:12.803405Z",
     "shell.execute_reply": "2024-05-14T15:53:12.802929Z",
     "shell.execute_reply.started": "2024-05-14T15:52:54.956193Z"
    }
   },
   "outputs": [],
   "source": [
    "# let us say that we want to get all diaSources and diaObjects from this one tract\n",
    "with apdbQuery.connection as connection:\n",
    "    pp_source_table = pd.read_sql_query(f'SELECT \"diaSourceId\", \"diaObjectId\", \"ra\", \"dec\", \"midpointMjdTai\", \\\n",
    "        \"visit\", \"detector\", \\\n",
    "        \"psfFlux\", \"psfFluxErr\", \\\n",
    "        \"scienceFlux\", \"scienceFluxErr\", \"snr\", \\\n",
    "        \"band\", \"time_processed\", \"time_withdrawn\"  \\\n",
    "        FROM \"{schema}\".\"DiaSource\" \\\n",
    "        WHERE \"ra\" BETWEEN {ra_min} AND {ra_max} \\\n",
    "        AND \"dec\" BETWEEN {dec_min} AND {dec_max} \\\n",
    "        LIMIT 3000000; ''', connection)\n",
    "  \n",
    "\n",
    "with apdbQuery.connection as connection:\n",
    "    pp_object_table = pd.read_sql_query(f'''SELECT \"diaObjectId\", \"ra\", \"dec\", \"nDiaSources\", \\\n",
    "        \"validityStart\", \"validityEnd\", \"lastNonForcedSource\"\n",
    "        FROM \"{schema}\".\"DiaObject\"\n",
    "        WHERE \"ra\" BETWEEN {ra_min} AND {ra_max}\n",
    "        AND \"dec\" BETWEEN {dec_min} AND {dec_max}\n",
    "        AND \"validityEnd\" IS NULL\n",
    "        LIMIT 2000000;\n",
    "        ''', connection)\n",
    "    \n",
    "# assert that you got all of them, i.e., that the length of the outpus is lower than the limit requested\n",
    "assert (len(pp_source_table)) < 3000000\n",
    "assert (len(pp_object_table)) < 2000000"
   ]
  },
  {
   "cell_type": "markdown",
   "metadata": {},
   "source": [
    "# Single visit analysis"
   ]
  },
  {
   "cell_type": "code",
   "execution_count": 7,
   "metadata": {
    "execution": {
     "iopub.execute_input": "2024-05-14T15:53:12.804074Z",
     "iopub.status.busy": "2024-05-14T15:53:12.803942Z",
     "iopub.status.idle": "2024-05-14T15:53:12.818599Z",
     "shell.execute_reply": "2024-05-14T15:53:12.818270Z",
     "shell.execute_reply.started": "2024-05-14T15:53:12.804063Z"
    }
   },
   "outputs": [
    {
     "data": {
      "text/html": [
       "<div>\n",
       "<style scoped>\n",
       "    .dataframe tbody tr th:only-of-type {\n",
       "        vertical-align: middle;\n",
       "    }\n",
       "\n",
       "    .dataframe tbody tr th {\n",
       "        vertical-align: top;\n",
       "    }\n",
       "\n",
       "    .dataframe thead th {\n",
       "        text-align: right;\n",
       "    }\n",
       "</style>\n",
       "<table border=\"1\" class=\"dataframe\">\n",
       "  <thead>\n",
       "    <tr style=\"text-align: right;\">\n",
       "      <th></th>\n",
       "      <th>diaSourceId</th>\n",
       "      <th>diaObjectId</th>\n",
       "      <th>ra</th>\n",
       "      <th>dec</th>\n",
       "      <th>midpointMjdTai</th>\n",
       "      <th>visit</th>\n",
       "      <th>detector</th>\n",
       "      <th>psfFlux</th>\n",
       "      <th>psfFluxErr</th>\n",
       "      <th>scienceFlux</th>\n",
       "      <th>scienceFluxErr</th>\n",
       "      <th>snr</th>\n",
       "      <th>band</th>\n",
       "      <th>time_processed</th>\n",
       "      <th>time_withdrawn</th>\n",
       "    </tr>\n",
       "  </thead>\n",
       "  <tbody>\n",
       "    <tr>\n",
       "      <th>223085</th>\n",
       "      <td>3065473877497872385</td>\n",
       "      <td>3065473977347473414</td>\n",
       "      <td>224.494751</td>\n",
       "      <td>-39.732911</td>\n",
       "      <td>60404.126433</td>\n",
       "      <td>7024040300256</td>\n",
       "      <td>2</td>\n",
       "      <td>2835.331431</td>\n",
       "      <td>429.856774</td>\n",
       "      <td>32524.484302</td>\n",
       "      <td>421.798633</td>\n",
       "      <td>6.603817</td>\n",
       "      <td>i</td>\n",
       "      <td>2024-05-09 22:54:25.157088</td>\n",
       "      <td>None</td>\n",
       "    </tr>\n",
       "    <tr>\n",
       "      <th>223086</th>\n",
       "      <td>3065473877497872393</td>\n",
       "      <td>3065509263725035775</td>\n",
       "      <td>224.501755</td>\n",
       "      <td>-39.700166</td>\n",
       "      <td>60404.126433</td>\n",
       "      <td>7024040300256</td>\n",
       "      <td>2</td>\n",
       "      <td>5426.131143</td>\n",
       "      <td>416.085242</td>\n",
       "      <td>11815.830325</td>\n",
       "      <td>406.881599</td>\n",
       "      <td>12.925547</td>\n",
       "      <td>i</td>\n",
       "      <td>2024-05-09 22:54:25.157088</td>\n",
       "      <td>None</td>\n",
       "    </tr>\n",
       "    <tr>\n",
       "      <th>223087</th>\n",
       "      <td>3065473877497872394</td>\n",
       "      <td>3065473885005677179</td>\n",
       "      <td>224.508631</td>\n",
       "      <td>-39.644925</td>\n",
       "      <td>60404.126433</td>\n",
       "      <td>7024040300256</td>\n",
       "      <td>2</td>\n",
       "      <td>32328.547487</td>\n",
       "      <td>544.716646</td>\n",
       "      <td>105129.108768</td>\n",
       "      <td>531.449156</td>\n",
       "      <td>59.235367</td>\n",
       "      <td>i</td>\n",
       "      <td>2024-05-09 22:54:25.157088</td>\n",
       "      <td>None</td>\n",
       "    </tr>\n",
       "    <tr>\n",
       "      <th>223088</th>\n",
       "      <td>3065473877497872395</td>\n",
       "      <td>3065473977347473488</td>\n",
       "      <td>224.498020</td>\n",
       "      <td>-39.743690</td>\n",
       "      <td>60404.126433</td>\n",
       "      <td>7024040300256</td>\n",
       "      <td>2</td>\n",
       "      <td>8737.833088</td>\n",
       "      <td>834.298773</td>\n",
       "      <td>590666.484891</td>\n",
       "      <td>824.507332</td>\n",
       "      <td>10.802836</td>\n",
       "      <td>i</td>\n",
       "      <td>2024-05-09 22:54:25.157088</td>\n",
       "      <td>None</td>\n",
       "    </tr>\n",
       "    <tr>\n",
       "      <th>223089</th>\n",
       "      <td>3065473877497872396</td>\n",
       "      <td>3065473885005677001</td>\n",
       "      <td>224.514291</td>\n",
       "      <td>-39.603981</td>\n",
       "      <td>60404.126433</td>\n",
       "      <td>7024040300256</td>\n",
       "      <td>2</td>\n",
       "      <td>12130.851493</td>\n",
       "      <td>1125.148589</td>\n",
       "      <td>858428.401458</td>\n",
       "      <td>1101.792368</td>\n",
       "      <td>10.309156</td>\n",
       "      <td>i</td>\n",
       "      <td>2024-05-09 22:54:25.157088</td>\n",
       "      <td>None</td>\n",
       "    </tr>\n",
       "    <tr>\n",
       "      <th>...</th>\n",
       "      <td>...</td>\n",
       "      <td>...</td>\n",
       "      <td>...</td>\n",
       "      <td>...</td>\n",
       "      <td>...</td>\n",
       "      <td>...</td>\n",
       "      <td>...</td>\n",
       "      <td>...</td>\n",
       "      <td>...</td>\n",
       "      <td>...</td>\n",
       "      <td>...</td>\n",
       "      <td>...</td>\n",
       "      <td>...</td>\n",
       "      <td>...</td>\n",
       "      <td>...</td>\n",
       "    </tr>\n",
       "    <tr>\n",
       "      <th>226426</th>\n",
       "      <td>3065473877497873208</td>\n",
       "      <td>3065473877497873208</td>\n",
       "      <td>224.780908</td>\n",
       "      <td>-39.723138</td>\n",
       "      <td>60404.126433</td>\n",
       "      <td>7024040300256</td>\n",
       "      <td>2</td>\n",
       "      <td>-2327.128949</td>\n",
       "      <td>404.603038</td>\n",
       "      <td>32.186374</td>\n",
       "      <td>398.843269</td>\n",
       "      <td>5.868065</td>\n",
       "      <td>i</td>\n",
       "      <td>2024-05-09 22:54:25.157088</td>\n",
       "      <td>None</td>\n",
       "    </tr>\n",
       "    <tr>\n",
       "      <th>226427</th>\n",
       "      <td>3065473877497873209</td>\n",
       "      <td>3065473877497873209</td>\n",
       "      <td>224.784618</td>\n",
       "      <td>-39.708849</td>\n",
       "      <td>60404.126433</td>\n",
       "      <td>7024040300256</td>\n",
       "      <td>2</td>\n",
       "      <td>3083.941218</td>\n",
       "      <td>414.610266</td>\n",
       "      <td>30021.205829</td>\n",
       "      <td>408.924440</td>\n",
       "      <td>7.133037</td>\n",
       "      <td>i</td>\n",
       "      <td>2024-05-09 22:54:25.157088</td>\n",
       "      <td>None</td>\n",
       "    </tr>\n",
       "    <tr>\n",
       "      <th>226428</th>\n",
       "      <td>3065473877497873214</td>\n",
       "      <td>3065473877497873214</td>\n",
       "      <td>224.784525</td>\n",
       "      <td>-39.704591</td>\n",
       "      <td>60404.126433</td>\n",
       "      <td>7024040300256</td>\n",
       "      <td>2</td>\n",
       "      <td>2033.548077</td>\n",
       "      <td>406.053691</td>\n",
       "      <td>12636.030202</td>\n",
       "      <td>400.270945</td>\n",
       "      <td>5.263713</td>\n",
       "      <td>i</td>\n",
       "      <td>2024-05-09 22:54:25.157088</td>\n",
       "      <td>None</td>\n",
       "    </tr>\n",
       "    <tr>\n",
       "      <th>226429</th>\n",
       "      <td>3065473877497873215</td>\n",
       "      <td>3065473877497873215</td>\n",
       "      <td>224.787439</td>\n",
       "      <td>-39.684022</td>\n",
       "      <td>60404.126433</td>\n",
       "      <td>7024040300256</td>\n",
       "      <td>2</td>\n",
       "      <td>-2362.344956</td>\n",
       "      <td>400.258752</td>\n",
       "      <td>2046.339082</td>\n",
       "      <td>394.221112</td>\n",
       "      <td>6.532410</td>\n",
       "      <td>i</td>\n",
       "      <td>2024-05-09 22:54:25.157088</td>\n",
       "      <td>None</td>\n",
       "    </tr>\n",
       "    <tr>\n",
       "      <th>226430</th>\n",
       "      <td>3065473877497873216</td>\n",
       "      <td>3065473877497873216</td>\n",
       "      <td>224.787439</td>\n",
       "      <td>-39.684022</td>\n",
       "      <td>60404.126433</td>\n",
       "      <td>7024040300256</td>\n",
       "      <td>2</td>\n",
       "      <td>-2362.344956</td>\n",
       "      <td>400.258752</td>\n",
       "      <td>2046.339082</td>\n",
       "      <td>394.221112</td>\n",
       "      <td>6.532410</td>\n",
       "      <td>i</td>\n",
       "      <td>2024-05-09 22:54:25.157088</td>\n",
       "      <td>None</td>\n",
       "    </tr>\n",
       "  </tbody>\n",
       "</table>\n",
       "<p>676 rows × 15 columns</p>\n",
       "</div>"
      ],
      "text/plain": [
       "                diaSourceId          diaObjectId          ra        dec  \\\n",
       "223085  3065473877497872385  3065473977347473414  224.494751 -39.732911   \n",
       "223086  3065473877497872393  3065509263725035775  224.501755 -39.700166   \n",
       "223087  3065473877497872394  3065473885005677179  224.508631 -39.644925   \n",
       "223088  3065473877497872395  3065473977347473488  224.498020 -39.743690   \n",
       "223089  3065473877497872396  3065473885005677001  224.514291 -39.603981   \n",
       "...                     ...                  ...         ...        ...   \n",
       "226426  3065473877497873208  3065473877497873208  224.780908 -39.723138   \n",
       "226427  3065473877497873209  3065473877497873209  224.784618 -39.708849   \n",
       "226428  3065473877497873214  3065473877497873214  224.784525 -39.704591   \n",
       "226429  3065473877497873215  3065473877497873215  224.787439 -39.684022   \n",
       "226430  3065473877497873216  3065473877497873216  224.787439 -39.684022   \n",
       "\n",
       "        midpointMjdTai          visit  detector       psfFlux   psfFluxErr  \\\n",
       "223085    60404.126433  7024040300256         2   2835.331431   429.856774   \n",
       "223086    60404.126433  7024040300256         2   5426.131143   416.085242   \n",
       "223087    60404.126433  7024040300256         2  32328.547487   544.716646   \n",
       "223088    60404.126433  7024040300256         2   8737.833088   834.298773   \n",
       "223089    60404.126433  7024040300256         2  12130.851493  1125.148589   \n",
       "...                ...            ...       ...           ...          ...   \n",
       "226426    60404.126433  7024040300256         2  -2327.128949   404.603038   \n",
       "226427    60404.126433  7024040300256         2   3083.941218   414.610266   \n",
       "226428    60404.126433  7024040300256         2   2033.548077   406.053691   \n",
       "226429    60404.126433  7024040300256         2  -2362.344956   400.258752   \n",
       "226430    60404.126433  7024040300256         2  -2362.344956   400.258752   \n",
       "\n",
       "          scienceFlux  scienceFluxErr        snr band  \\\n",
       "223085   32524.484302      421.798633   6.603817    i   \n",
       "223086   11815.830325      406.881599  12.925547    i   \n",
       "223087  105129.108768      531.449156  59.235367    i   \n",
       "223088  590666.484891      824.507332  10.802836    i   \n",
       "223089  858428.401458     1101.792368  10.309156    i   \n",
       "...               ...             ...        ...  ...   \n",
       "226426      32.186374      398.843269   5.868065    i   \n",
       "226427   30021.205829      408.924440   7.133037    i   \n",
       "226428   12636.030202      400.270945   5.263713    i   \n",
       "226429    2046.339082      394.221112   6.532410    i   \n",
       "226430    2046.339082      394.221112   6.532410    i   \n",
       "\n",
       "                   time_processed time_withdrawn  \n",
       "223085 2024-05-09 22:54:25.157088           None  \n",
       "223086 2024-05-09 22:54:25.157088           None  \n",
       "223087 2024-05-09 22:54:25.157088           None  \n",
       "223088 2024-05-09 22:54:25.157088           None  \n",
       "223089 2024-05-09 22:54:25.157088           None  \n",
       "...                           ...            ...  \n",
       "226426 2024-05-09 22:54:25.157088           None  \n",
       "226427 2024-05-09 22:54:25.157088           None  \n",
       "226428 2024-05-09 22:54:25.157088           None  \n",
       "226429 2024-05-09 22:54:25.157088           None  \n",
       "226430 2024-05-09 22:54:25.157088           None  \n",
       "\n",
       "[676 rows x 15 columns]"
      ]
     },
     "execution_count": 7,
     "metadata": {},
     "output_type": "execute_result"
    }
   ],
   "source": [
    "visit = 7024040300256\n",
    "detector = 2\n",
    "\n",
    "src_single_visit_det = pp_source_table[(pp_source_table['visit']==visit) & (pp_source_table['detector']==2)]\n",
    "# let us store time of the observation for the future\n",
    "midpointMjdTai = src_single_visit_det['midpointMjdTai'].values[0]\n",
    "# and print out\n",
    "src_single_visit_det"
   ]
  },
  {
   "cell_type": "code",
   "execution_count": 8,
   "metadata": {
    "execution": {
     "iopub.execute_input": "2024-05-14T15:53:12.839620Z",
     "iopub.status.busy": "2024-05-14T15:53:12.839387Z",
     "iopub.status.idle": "2024-05-14T15:53:12.842335Z",
     "shell.execute_reply": "2024-05-14T15:53:12.842003Z",
     "shell.execute_reply.started": "2024-05-14T15:53:12.839609Z"
    }
   },
   "outputs": [],
   "source": [
    "# this is to figure out which healpy corresponds to the observations\n",
    "# figure out the center of the observations\n",
    "ra_cent = np.median(src_single_visit_det['ra'])\n",
    "dec_cent = np.median(src_single_visit_det['dec'])\n",
    "vec = hp.ang2vec(np.deg2rad((np.abs(dec_cent) + 90)), np.deg2rad(ra_cent))\n",
    "# from this you can get closet healpixels\n",
    "ipix_disc = hp.query_disc(nside=32, vec=vec, radius=np.radians(1) )\n",
    "# take the first value if there are more pixels found nearby \n",
    "healpix_id = ipix_disc[0]"
   ]
  },
  {
   "cell_type": "code",
   "execution_count": null,
   "metadata": {
    "execution": {
     "execution_failed": "2024-05-14T15:52:22.133Z",
     "iopub.execute_input": "2024-05-14T15:52:12.137698Z",
     "iopub.status.busy": "2024-05-14T15:52:12.137580Z"
    }
   },
   "outputs": [],
   "source": [
    "# loading truth catalogs here \n",
    "\n",
    "# path to the truth catalogs\n",
    "path_to_tru_cat = '/sdf/data/rubin/shared/ops-rehearsals/ops-rehearsal-3/imSim_catalogs/skyCatalogs/'\n",
    "\n",
    "# loads stars, galaxies, solar system objects\n",
    "df_single_ps = pd.read_parquet(path_to_tru_cat+'pointsource_'+str(healpix_id)+'.parquet')\n",
    "df_single_sso = pd.read_parquet(path_to_tru_cat+'sso_'+str(healpix_id)+'.parquet')\n",
    "df_single_gal = pd.read_parquet(path_to_tru_cat+'galaxy_'+str(healpix_id)+'.parquet')\n",
    "# for galaxies you have to add 360 to ra because it seems to be from -180 to 180\n",
    "# and others are 0 to 360\n",
    "if np.median(df_single_gal['ra']) < 0: \n",
    "    df_single_gal['ra'] = df_single_gal['ra'] + 360\n",
    "\n",
    "# find variable objects (only stars are variable in this rehersal)\n",
    "df_single_ps_var = df_single_ps[df_single_ps['is_variable']==True]\n",
    "df_single_ps_no_var = df_single_ps[df_single_ps['is_variable']==False]\n",
    "\n",
    "# let us find the max and min extent of the visit\n",
    "ra_min = np.min(src_single_visit_det['ra'])\n",
    "ra_max = np.max(src_single_visit_det['ra'])\n",
    "dec_min = np.min(src_single_visit_det['dec'])\n",
    "dec_max = np.max(src_single_visit_det['dec'])\n",
    "\n",
    "\n",
    "# cut the simulated objectd to the area that overlaps\n",
    "df_single_ps_var_zoom = df_single_ps_var[(df_single_ps_var['ra']<ra_max) & (df_single_ps_var['ra']>ra_min) &\\\n",
    "    (df_single_ps_var['dec']<dec_max) & (df_single_ps_var['dec']>dec_min) ]\n",
    "df_single_ps_no_var_zoom = df_single_ps_no_var[(df_single_ps_no_var['ra']<ra_max) & (df_single_ps_no_var['ra']>ra_min) &\\\n",
    "    (df_single_ps_no_var['dec']<dec_max) & (df_single_ps_no_var['dec']>dec_min) ]\n",
    "df_single_gal_zoom = df_single_gal[(df_single_gal['ra']<ra_max) & (df_single_gal['ra']>ra_min) &\\\n",
    "    (df_single_gal['dec']<dec_max) & (df_single_gal['dec']>dec_min) ]\n",
    "\n",
    "# for solar system we need more work, to get their exact positions during the observations\n",
    "# this is very ineficent code\n",
    "sso_ids = np.unique(df_single_sso['id'])\n",
    "list_of_sso_single_exp = []\n",
    "for i in range(len(sso_ids)):\n",
    "    # for object, find all positions, fit as a position of the time and return\n",
    "    df_single_sso_single_id = df_single_sso[df_single_sso['id']==sso_ids[i]]\n",
    "    ra_fit = np.polyfit(df_single_sso_single_id['mjd'],df_single_sso_single_id['ra'], deg = 2)\n",
    "    dec_fit = np.polyfit(df_single_sso_single_id['mjd'],df_single_sso_single_id['dec'], deg = 2)\n",
    "    ra_poly = np.poly1d(ra_fit)\n",
    "    dec_poly = np.poly1d(dec_fit)\n",
    "\n",
    "    # Predicting values\n",
    "    predicted_ra = ra_poly(midpointMjdTai)\n",
    "    predicted_dec = dec_poly(midpointMjdTai)\n",
    "    list_of_sso_single_exp.append([sso_ids[i], predicted_ra, predicted_dec])\n",
    "    \n",
    "array_of_sso_single_exp = np.array(list_of_sso_single_exp)\n",
    "df_single_sso = pd.DataFrame(array_of_sso_single_exp, columns=['id', 'ra', 'dec'])\n",
    "df_single_sso['ra'] = df_single_sso['ra'].astype(float)\n",
    "df_single_sso['dec'] = df_single_sso['dec'].astype(float)    \n",
    "    \n",
    "df_single_sso_zoom = df_single_sso[(df_single_sso['ra']<ra_max) & (df_single_sso['ra']>ra_min) &\\\n",
    "    (df_single_sso['dec']<dec_max) & (df_single_sso['dec']>dec_min) ]"
   ]
  },
  {
   "cell_type": "code",
   "execution_count": null,
   "metadata": {
    "execution": {
     "execution_failed": "2024-05-14T15:52:22.134Z"
    }
   },
   "outputs": [],
   "source": [
    "plt.figure(figsize=(15,10))\n",
    "\n",
    "plt.scatter(df_single_gal_zoom['ra'], df_single_gal_zoom['dec'], s=2, alpha=0.21, label = 'galaxies')\n",
    "plt.scatter(df_single_ps_var_zoom['ra'], df_single_ps_var_zoom['dec'], s=30, alpha=1, label = 'variable stars', color = 'red', marker='o')\n",
    "plt.scatter(df_single_ps_no_var_zoom['ra'], df_single_ps_no_var_zoom['dec'], s=20, alpha=1, label = 'non-variable stars', color = 'orange', marker='x')\n",
    "plt.scatter(df_single_sso_zoom['ra'], df_single_sso_zoom['dec'], s=30, alpha=1, label = 'solar', color ='green')\n",
    "plt.scatter(src_single_visit_det['ra'], src_single_visit_det['dec'], s=12, alpha=1, label = 'diaSources', color ='black')\n",
    "plt.xlabel('RA [deg]')\n",
    "plt.ylabel('Dec [deg]')\n",
    "plt.title('visit '+str(visit)+'; detector '+str(detector))\n",
    "plt.legend()"
   ]
  },
  {
   "cell_type": "code",
   "execution_count": null,
   "metadata": {
    "execution": {
     "execution_failed": "2024-05-14T15:52:22.134Z"
    }
   },
   "outputs": [],
   "source": [
    "plt.figure(figsize=(15,10))\n",
    "\n",
    "plt.scatter(df_single_gal_zoom['ra'], df_single_gal_zoom['dec'], s=2, alpha=0.21, label = 'galaxies')\n",
    "plt.scatter(df_single_ps_var_zoom['ra'], df_single_ps_var_zoom['dec'], s=30, alpha=1, label = 'variable stars', color = 'red', marker='o')\n",
    "plt.scatter(df_single_ps_no_var_zoom['ra'], df_single_ps_no_var_zoom['dec'], s=20, alpha=1, label = 'non-variable stars', color = 'orange', marker='x')\n",
    "plt.scatter(df_single_sso_zoom['ra'], df_single_sso_zoom['dec'], s=30, alpha=1, label = 'solar', color ='green')\n",
    "plt.scatter(src_single_visit_det['ra'], src_single_visit_det['dec'], s=12, alpha=1, label = 'diaSources', color ='black')\n",
    "plt.legend()\n",
    "plt.xlim(224.55, 224.65)\n",
    "plt.ylim(-39.75, -39.65)\n",
    "plt.xlabel('RA [deg]')\n",
    "plt.ylabel('Dec [deg]')\n",
    "plt.title('visit '+str(visit)+'; detector '+str(detector)+' zoomed in')\n",
    "plt.legend()"
   ]
  },
  {
   "cell_type": "code",
   "execution_count": null,
   "metadata": {
    "execution": {
     "execution_failed": "2024-05-14T15:52:22.134Z"
    }
   },
   "outputs": [],
   "source": [
    "# Possible improvments: \n",
    "# cut on magnitude here? example \n",
    "# call butler to show the image?\n",
    "# given diaSource give me everything in the true Table within 1 arcSec? some basic crossmatching - matcher in the stack, association.py, lsst.ap, associations task (see below )"
   ]
  },
  {
   "cell_type": "code",
   "execution_count": 13,
   "metadata": {
    "execution": {
     "iopub.execute_input": "2024-05-14T15:56:25.418131Z",
     "iopub.status.busy": "2024-05-14T15:56:25.417934Z",
     "iopub.status.idle": "2024-05-14T15:56:26.319557Z",
     "shell.execute_reply": "2024-05-14T15:56:26.319014Z",
     "shell.execute_reply.started": "2024-05-14T15:56:25.418120Z"
    }
   },
   "outputs": [],
   "source": [
    "data_id = {\"instrument\": instrument, \"detector\": detector, \"visit\": visit}\n",
    "calexp = butler.get(\"goodSeeingDiff_differenceExp\", dataId=data_id, collections=collections)"
   ]
  },
  {
   "cell_type": "code",
   "execution_count": 14,
   "metadata": {
    "execution": {
     "iopub.execute_input": "2024-05-14T15:56:27.484440Z",
     "iopub.status.busy": "2024-05-14T15:56:27.484291Z",
     "iopub.status.idle": "2024-05-14T15:56:27.667123Z",
     "shell.execute_reply": "2024-05-14T15:56:27.666734Z",
     "shell.execute_reply.started": "2024-05-14T15:56:27.484429Z"
    }
   },
   "outputs": [],
   "source": [
    "import lsst.afw.display as afwDisplay\n",
    "afwDisplay.setDefaultBackend('firefly')\n",
    "display1 = afwDisplay.Display(frame=1)"
   ]
  },
  {
   "cell_type": "code",
   "execution_count": 15,
   "metadata": {
    "execution": {
     "iopub.execute_input": "2024-05-14T15:56:27.813540Z",
     "iopub.status.busy": "2024-05-14T15:56:27.813391Z",
     "iopub.status.idle": "2024-05-14T15:56:28.925654Z",
     "shell.execute_reply": "2024-05-14T15:56:28.925315Z",
     "shell.execute_reply.started": "2024-05-14T15:56:27.813528Z"
    }
   },
   "outputs": [],
   "source": [
    "display1.scale(\"asinh\", \"zscale\")\n",
    "display1.setMaskTransparency(90)\n",
    "display1.mtv(calexp)\n"
   ]
  },
  {
   "cell_type": "markdown",
   "metadata": {},
   "source": [
    "# Matching - not finished!"
   ]
  },
  {
   "cell_type": "code",
   "execution_count": null,
   "metadata": {
    "execution": {
     "execution_failed": "2024-05-14T15:52:22.134Z"
    }
   },
   "outputs": [],
   "source": [
    "import smatch\n",
    "\n",
    "nside=4096 # healpix nside\n",
    "maxmatch=1 # return closest match\n",
    "\n",
    "ra1 = src_single_visit_det['ra'].values\n",
    "dec1 = src_single_visit_det['dec'].values\n",
    "\n",
    "ra2 = df_single_gal_zoom['ra'].values\n",
    "dec2 = df_single_gal_zoom['dec'].values\n",
    "\n",
    "radius = 1\n",
    "\n",
    "# ra,dec,radius in degrees\n",
    "matches = smatch.match(ra1, dec1, radius, ra2, dec2,\n",
    "                       nside=nside, maxmatch=maxmatch)\n",
    "\n",
    "matches\n"
   ]
  },
  {
   "cell_type": "code",
   "execution_count": null,
   "metadata": {
    "execution": {
     "execution_failed": "2024-05-14T15:52:22.134Z"
    }
   },
   "outputs": [],
   "source": [
    "# let us try to match the diaSource with possible truth object using the association task in lsst.ap"
   ]
  },
  {
   "cell_type": "code",
   "execution_count": null,
   "metadata": {
    "execution": {
     "execution_failed": "2024-05-14T15:52:22.134Z"
    }
   },
   "outputs": [],
   "source": [
    "# load a truth table - if you use galaxies\n",
    "like_diaObj = df_single_gal_zoom[['galaxy_id','ra','dec']].copy()\n",
    "# you have to have first column to be named diaObjectId\n",
    "like_diaObj.rename(columns={'galaxy_id': 'diaObjectId'}, inplace=True)\n",
    "\n",
    "# load a truth table, if you are using variable stars\n",
    "like_diaObj = df_single_ps_var_zoom[['id','ra','dec']].copy()\n",
    "# you have to have first column to be named diaObjectId\n",
    "like_diaObj.rename(columns={'id': 'diaObjectId'}, inplace=True)\n",
    "\n",
    "\n",
    "diaSrc = src_single_visit_det[['diaSourceId','ra','dec']][:-1]\n",
    "# have to explicitly change to Int64, so that adding Nan values does not \n",
    "# destroy integer values by converting to float\n",
    "diaSrc['diaSourceId'] = diaSrc['diaSourceId'].astype('Int64')\n",
    "like_diaObj['diaObjectId'] = like_diaObj['diaObjectId'].astype('Int64')\n",
    "\n",
    "print(diaSrc)"
   ]
  },
  {
   "cell_type": "code",
   "execution_count": null,
   "metadata": {
    "execution": {
     "execution_failed": "2024-05-14T15:52:22.134Z"
    }
   },
   "outputs": [],
   "source": [
    "AssociationTask_instance = AssociationTask(AssociationConfig(maxDistArcSeconds=0.11))\n",
    "result = AssociationTask_instance.run(diaSrc, like_diaObj)\n",
    "result"
   ]
  },
  {
   "cell_type": "code",
   "execution_count": null,
   "metadata": {
    "execution": {
     "execution_failed": "2024-05-14T15:52:22.134Z"
    }
   },
   "outputs": [],
   "source": [
    "# diaObjectId still changed to float!!!!\n",
    "matchedDiaSources = result.matchedDiaSources\n",
    "# matchedDiaSources['diaObjectId'] = matchedDiaSources['diaObjectId'].astype('Int64')\n",
    "matchedDiaSources\n"
   ]
  },
  {
   "cell_type": "code",
   "execution_count": null,
   "metadata": {
    "execution": {
     "execution_failed": "2024-05-14T15:52:22.134Z"
    }
   },
   "outputs": [],
   "source": [
    "unmatchedDiaSources = result.unAssocDiaSources\n",
    "unmatchedDiaSources['diaObjectId'] = unmatchedDiaSources['diaObjectId'].astype('Int64')\n",
    "unmatchedDiaSources"
   ]
  },
  {
   "cell_type": "code",
   "execution_count": null,
   "metadata": {
    "execution": {
     "execution_failed": "2024-05-14T15:52:22.134Z"
    }
   },
   "outputs": [],
   "source": [
    "# found nothing!\n",
    "matchedDiaSources[(matchedDiaSources['diaSourceId'] != '<NA>') & (matchedDiaSources['diaObjectId'] != '<NA>')]"
   ]
  },
  {
   "cell_type": "code",
   "execution_count": null,
   "metadata": {
    "execution": {
     "execution_failed": "2024-05-14T15:52:22.134Z"
    }
   },
   "outputs": [],
   "source": [
    "# I am testing this with actual inputs from diaSource and diaObject tables\n",
    "# and it still is not performing how I expect it...\n",
    "AssociationTask_instance = AssociationTask(AssociationConfig(maxDistArcSeconds=0.11))\n",
    "\n",
    "test_src = src_single_visit_det[['diaSourceId', 'ra', 'dec']].copy()\n",
    "test_obj = pp_object_table[['diaObjectId', 'ra', 'dec']].copy()\n",
    "\n",
    "result = AssociationTask_instance.run(test_src, test_obj)\n",
    "result"
   ]
  }
 ],
 "metadata": {
  "kernelspec": {
   "display_name": "LSST",
   "language": "python",
   "name": "lsst"
  },
  "language_info": {
   "codemirror_mode": {
    "name": "ipython",
    "version": 3
   },
   "file_extension": ".py",
   "mimetype": "text/x-python",
   "name": "python",
   "nbconvert_exporter": "python",
   "pygments_lexer": "ipython3",
   "version": "3.11.7"
  }
 },
 "nbformat": 4,
 "nbformat_minor": 4
}
