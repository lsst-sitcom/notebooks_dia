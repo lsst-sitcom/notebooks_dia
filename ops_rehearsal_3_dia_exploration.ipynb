{
 "cells": [
  {
   "cell_type": "markdown",
   "id": "cf66bfdc-79e3-43db-9d53-4c4425d30318",
   "metadata": {},
   "source": [
    "# ComCamSim 2024 April Ops Rehearsal 3 - DIA\n",
    "Author: Michael Wood-Vasey <wmwv@pitt.edu>\n",
    "Last Verified to Run: 2024-04-15\n",
    "\n",
    "Let's look at how the DIA did for the April Ops Rehearsal 3.\n",
    "For some context details, see\n",
    "\n",
    "https://confluence.lsstcorp.org/display/DM/Prompt+Processing+with+LSSTComCamSim+ops-rehearsal-3\n",
    "\n",
    "And read Meredith Rawl's notebook at  \n",
    "https://nbviewer.org/github/lsst-dm/vv-team-notebooks/blob/fab304924fd036c479fc4f61269a2041c287d146/notebooks/PREOPS-5029-DiaReasonable.ipynb\n",
    "\n",
    "Here, I'm mostly trying to get started\n",
    "\n",
    "1. [ ] Look at basic statistics of processing\n",
    "2. [ ] Identify one calexp DIA to explore\n",
    "3. [ ] Read catalog and get DiaSrc\n",
    "4. [ ] Look at postage stamps, including mask plane, for 1, 10, 100 candidates\n",
    "\n",
    "Maybe later:  \n",
    "* [ ] Understand what we get from DRP vs. APDB\n",
    "\n",
    "Run at RSP on USDF.  Run using `w_2024_15`.  I don't know what the minimum number needs to be.  In particular, the current \"Recommend Weekly\" is `w_2024_4`; I don't know if this is sufficient.\n",
    "\n",
    "\n",
    "was helpful in getting started."
   ]
  },
  {
   "cell_type": "code",
   "execution_count": null,
   "id": "40a2d91e-60af-4cfc-9186-395ea7f5f1c8",
   "metadata": {},
   "outputs": [],
   "source": [
    "import matplotlib.pyplot as plt\n",
    "import numpy as np"
   ]
  },
  {
   "cell_type": "code",
   "execution_count": null,
   "id": "5374abe5-c480-46c1-a09d-b1b09262da0b",
   "metadata": {},
   "outputs": [],
   "source": [
    "from lsst.daf.butler import Butler"
   ]
  },
  {
   "cell_type": "code",
   "execution_count": null,
   "id": "9584fd95-c6ae-4251-a87f-7abee38626e8",
   "metadata": {},
   "outputs": [],
   "source": [
    "from astropy.visualization import ZScaleInterval, SqrtStretch, ImageNormalize, MinMaxInterval, LogStretch\n",
    "from astropy.table import Table, join\n",
    "import lsst.daf.butler as dafButler\n",
    "from lsst.daf.butler import DatasetNotFoundError\n",
    "from lsst.pipe.base import Instrument\n",
    "from lsst.ap.association.transformDiaSourceCatalog import UnpackApdbFlags\n",
    "import lsst.afw.display as afwDisplay\n",
    "import lsst.display.astrowidgets\n",
    "afwDisplay.setDefaultBackend('astrowidgets')"
   ]
  },
  {
   "cell_type": "markdown",
   "id": "d29ada35-34ea-4e82-9f97-ed31eadd7cba",
   "metadata": {},
   "source": [
    "Key orientation information: repo, collection, dataset types."
   ]
  },
  {
   "cell_type": "code",
   "execution_count": null,
   "id": "4bf871ba-7dcf-42f4-8aa5-f9c61aa3dead",
   "metadata": {},
   "outputs": [],
   "source": [
    "repo = \"/repo/embargo\"\n",
    "# There were three nights for the Ops Rehearsal.\n",
    "# Prompt Procesing for 2024-04-02 and 2024-04-03 did not yield good results so\n",
    "# we focus on 2024-04-04.\n",
    "collection = \"LSSTComCamSim/prompt/output-2024-04-04\"\n",
    "instrument = \"LSSTComCamSim\"\n",
    "\n",
    "collections = [collection, \"LSSTComCamSim/templates\", \"LSSTComCamSim/defaults\"]"
   ]
  },
  {
   "cell_type": "markdown",
   "id": "6848e9a9-1c84-4d42-9585-fc824c673ac0",
   "metadata": {},
   "source": [
    "Dataset Types we'll be interested in  \n",
    "`postISRCCD`  (I don't think there's a \"calexp\" in prompt processing)  \n",
    "`goodSeeingDiff_differenceExp`  \n",
    "`goodSeeingDiff_diaSrc`  (or goodSeeingDiff_diaSrcTable depending on the schema you want.)"
   ]
  },
  {
   "cell_type": "code",
   "execution_count": null,
   "id": "a975450c-3b2f-4727-9cb7-76c8d4e62044",
   "metadata": {},
   "outputs": [],
   "source": [
    "butler = Butler(repo, collections=collections, instrument=instrument)"
   ]
  },
  {
   "cell_type": "code",
   "execution_count": null,
   "id": "f0268378-8d32-42bf-a520-bc2a5edd6c87",
   "metadata": {
    "scrolled": true
   },
   "outputs": [],
   "source": [
    "registry = butler.registry\n",
    "for ref in registry.queryDatasets('raw'):\n",
    "    print(ref.dataId.full)"
   ]
  },
  {
   "cell_type": "code",
   "execution_count": null,
   "id": "409fbf62-c27b-4b10-b1a0-436fc09bae4d",
   "metadata": {
    "scrolled": true
   },
   "outputs": [],
   "source": [
    "registry = butler.registry\n",
    "for ref in registry.queryDatasets('postISRCCD'):\n",
    "    print(ref.dataId.full)"
   ]
  },
  {
   "cell_type": "code",
   "execution_count": null,
   "id": "fd7c7c5e-5bd8-46e9-906e-8bf127e2f32e",
   "metadata": {
    "scrolled": true
   },
   "outputs": [],
   "source": [
    "registry = butler.registry\n",
    "for ref in registry.queryDatasets('goodSeeingDiff_differenceExp'):\n",
    "    print(ref.dataId.full)"
   ]
  },
  {
   "cell_type": "code",
   "execution_count": null,
   "id": "b4a89411-71dc-4270-8797-ac90393e978b",
   "metadata": {},
   "outputs": [],
   "source": [
    "data_id = {\"detector\": 0, \"exposure\": 7024040400318}\n",
    "\n",
    "raw = butler.get(\"raw\", dataId=data_id)\n",
    "post_isr_ccd = butler.get(\"postISRCCD\", dataId=data_id)"
   ]
  },
  {
   "cell_type": "code",
   "execution_count": null,
   "id": "2866a82c-9827-4308-b808-8d34473a7b05",
   "metadata": {},
   "outputs": [],
   "source": [
    "norm = ImageNormalize(raw.image.array, interval=ZScaleInterval(), stretch=SqrtStretch())\n",
    "plt.imshow(raw.image.array, norm=norm)\n",
    "plt.show()"
   ]
  },
  {
   "cell_type": "code",
   "execution_count": null,
   "id": "1fbab1e4-d2b8-45c4-be98-e3d05527efcc",
   "metadata": {},
   "outputs": [],
   "source": [
    "norm = ImageNormalize(post_isr_ccd.image.array, interval=ZScaleInterval(), stretch=SqrtStretch())\n",
    "plt.imshow(post_isr_ccd.image.array, norm=norm)\n",
    "plt.show()"
   ]
  },
  {
   "cell_type": "code",
   "execution_count": null,
   "id": "d158203a-2975-4366-b24c-fff10d55cd4a",
   "metadata": {},
   "outputs": [],
   "source": [
    "# Now we have to rename \"exposure\" -> \"visit\"?  Why?  This is confusing\n",
    "data_id[\"visit\"] = data_id[\"exposure\"]\n",
    "\n",
    "diff_exp = butler.get(\"goodSeeingDiff_differenceExp\", dataId=data_id)\n",
    "# dia_src = butler.get(\"goodSeeingDiff_diaSrc\", dataId=data_id)"
   ]
  },
  {
   "cell_type": "markdown",
   "id": "e95295c0-53d6-4c34-961c-ac7474a1218e",
   "metadata": {},
   "source": [
    "Hmmm... how do we figure out which data IDs did get processed through to DIA?"
   ]
  },
  {
   "cell_type": "code",
   "execution_count": null,
   "id": "5437983f-7db2-42fd-a4aa-a3a0e54517bd",
   "metadata": {},
   "outputs": [],
   "source": [
    "# These are the runs that this chained collection is derived from\n",
    "butler.registry.queryCollections(collection, flattenChains=True)"
   ]
  },
  {
   "cell_type": "code",
   "execution_count": null,
   "id": "578defde-b19f-4985-8d4d-63ec23594bde",
   "metadata": {},
   "outputs": [],
   "source": []
  }
 ],
 "metadata": {
  "kernelspec": {
   "display_name": "LSST",
   "language": "python",
   "name": "lsst"
  },
  "language_info": {
   "codemirror_mode": {
    "name": "ipython",
    "version": 3
   },
   "file_extension": ".py",
   "mimetype": "text/x-python",
   "name": "python",
   "nbconvert_exporter": "python",
   "pygments_lexer": "ipython3",
   "version": "3.11.7"
  }
 },
 "nbformat": 4,
 "nbformat_minor": 5
}
