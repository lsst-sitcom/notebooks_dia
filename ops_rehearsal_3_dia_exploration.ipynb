{
 "cells": [
  {
   "cell_type": "markdown",
   "id": "cf66bfdc-79e3-43db-9d53-4c4425d30318",
   "metadata": {},
   "source": [
    "# ComCamSim 2024 April Ops Rehearsal 3 - DIA\n",
    "Author: Michael Wood-Vasey <wmwv@pitt.edu>\n",
    "Last Verified to Run: 2024-04-15\n",
    "\n",
    "Let's look at how the DIA did for the April Ops Rehearsal 3.\n",
    "For some context details, see\n",
    "\n",
    "https://confluence.lsstcorp.org/display/DM/Prompt+Processing+with+LSSTComCamSim+ops-rehearsal-3\n",
    "\n",
    "1. [ ] Look at basic statistics of processing\n",
    "2. [ ] Identify one calexp DIA to explore\n",
    "3. [ ] Read catalog and get DiaSrc\n",
    "4. [ ] Look at postage stamps, including mask plane, for 1, 10, 100 candidates\n",
    "\n",
    "Maybe later:  \n",
    "* [ ] Understand what we get from DRP vs. APDB\n",
    "\n",
    "Run at RSP on USDF.  Run using `w_2024_15`.  I don't know what the minimum number needs to be.  In particular, the current \"Recommend Weekly\" is `w_2024_4`; I don't know if this is sufficient.\n",
    "\n",
    "Meredith Rawl's notebook at\n",
    "https://nbviewer.org/github/lsst-dm/vv-team-notebooks/blob/fab304924fd036c479fc4f61269a2041c287d146/notebooks/PREOPS-5029-DiaReasonable.ipynb\n",
    "\n",
    "was helpful in getting started."
   ]
  },
  {
   "cell_type": "code",
   "execution_count": null,
   "id": "40a2d91e-60af-4cfc-9186-395ea7f5f1c8",
   "metadata": {},
   "outputs": [],
   "source": [
    "import matplotlib.pyplot as plt\n",
    "import numpy as np"
   ]
  },
  {
   "cell_type": "code",
   "execution_count": null,
   "id": "5374abe5-c480-46c1-a09d-b1b09262da0b",
   "metadata": {},
   "outputs": [],
   "source": [
    "from lsst.daf.butler import Butler"
   ]
  },
  {
   "cell_type": "code",
   "execution_count": null,
   "id": "9584fd95-c6ae-4251-a87f-7abee38626e8",
   "metadata": {},
   "outputs": [],
   "source": [
    "from astropy.visualization import ZScaleInterval, SqrtStretch, ImageNormalize, MinMaxInterval, LogStretch\n",
    "from astropy.table import Table, join\n",
    "import lsst.daf.butler as dafButler\n",
    "from lsst.daf.butler import DatasetNotFoundError\n",
    "from lsst.pipe.base import Instrument\n",
    "from lsst.ap.association.transformDiaSourceCatalog import UnpackApdbFlags\n",
    "import lsst.afw.display as afwDisplay\n",
    "import lsst.display.astrowidgets\n",
    "afwDisplay.setDefaultBackend('astrowidgets')"
   ]
  },
  {
   "cell_type": "code",
   "execution_count": null,
   "id": "4bf871ba-7dcf-42f4-8aa5-f9c61aa3dead",
   "metadata": {},
   "outputs": [],
   "source": [
    "repo = \"/repo/embargo\"\n",
    "# There were three nights for the Ops Rehearsal.\n",
    "# Prompt Procesing for 2024-04-02 and 2024-04-03 did not yield good results so\n",
    "# we focus on 2024-04-04.\n",
    "collection = \"LSSTComCamSim/prompt/output-2024-04-04\"\n",
    "instrument = \"LSSTComCamSim\"\n",
    "\n",
    "collections = [collection, \"LSSTComCamSim/templates\", \"LSSTComCamSim/defaults\"]"
   ]
  },
  {
   "cell_type": "code",
   "execution_count": null,
   "id": "a975450c-3b2f-4727-9cb7-76c8d4e62044",
   "metadata": {},
   "outputs": [],
   "source": [
    "butler = Butler(repo, collections=collections, instrument=instrument)"
   ]
  },
  {
   "cell_type": "code",
   "execution_count": null,
   "id": "f0268378-8d32-42bf-a520-bc2a5edd6c87",
   "metadata": {
    "scrolled": true
   },
   "outputs": [],
   "source": [
    "registry = butler.registry\n",
    "for ref in registry.queryDatasets('raw'):\n",
    "    print(ref.dataId.full)"
   ]
  },
  {
   "cell_type": "code",
   "execution_count": null,
   "id": "409fbf62-c27b-4b10-b1a0-436fc09bae4d",
   "metadata": {
    "scrolled": true
   },
   "outputs": [],
   "source": [
    "registry = butler.registry\n",
    "for ref in registry.queryDatasets('postISRCCD', collections=[\"LSSTComCamSim/prompt/output-2024-04-04/Isr/prompt-proto-service-lsstcomcamsim-00025\"]):\n",
    "    print(ref.dataId.full)"
   ]
  },
  {
   "cell_type": "code",
   "execution_count": null,
   "id": "b4a89411-71dc-4270-8797-ac90393e978b",
   "metadata": {},
   "outputs": [],
   "source": [
    "data_id = {\"detector\": 0, \"exposure\": 7024040400318}\n",
    "\n",
    "foo = butler.get(\"raw\", dataId=data_id)  #, collections=[\"LSSTComCamSim/prompt/output-2024-04-04/Isr/prompt-proto-service-lsstcomcamsim-00025\"])"
   ]
  },
  {
   "cell_type": "code",
   "execution_count": null,
   "id": "2c71067a-19dc-414a-b018-f697a420f106",
   "metadata": {},
   "outputs": [],
   "source": [
    "data_id = {\"detector\": 0, \"exposure\": 7024040400318}\n",
    "\n",
    "bar = butler.get(\"postISRCCD\", dataId=data_id)  #, collections=[\"LSSTComCamSim/prompt/output-2024-04-04/Isr/prompt-proto-service-lsstcomcamsim-00025\"])"
   ]
  },
  {
   "cell_type": "code",
   "execution_count": null,
   "id": "7a97cae8-7f55-489d-8609-d51abdbfcb20",
   "metadata": {},
   "outputs": [],
   "source": [
    "print(foo)"
   ]
  },
  {
   "cell_type": "code",
   "execution_count": null,
   "id": "90dbdc00-d684-4814-bb3e-fb0945475f8c",
   "metadata": {},
   "outputs": [],
   "source": [
    "print(bar)"
   ]
  },
  {
   "cell_type": "code",
   "execution_count": null,
   "id": "2866a82c-9827-4308-b808-8d34473a7b05",
   "metadata": {},
   "outputs": [],
   "source": [
    "norm = ImageNormalize(bar.image.array, interval=ZScaleInterval(), stretch=SqrtStretch())\n",
    "plt.imshow(bar.image.array, norm=norm)\n",
    "plt.show()"
   ]
  },
  {
   "cell_type": "code",
   "execution_count": null,
   "id": "5437983f-7db2-42fd-a4aa-a3a0e54517bd",
   "metadata": {},
   "outputs": [],
   "source": [
    "# These are the runs that this chained collection is derived from\n",
    "butler.registry.queryCollections(collection, flattenChains=True)"
   ]
  },
  {
   "cell_type": "code",
   "execution_count": null,
   "id": "52253640-3763-4359-9dd6-3f475d03b119",
   "metadata": {},
   "outputs": [],
   "source": [
    "calexp = butler.get(\"calexp\", dataId=data_id, collections=ap_collection)"
   ]
  }
 ],
 "metadata": {
  "kernelspec": {
   "display_name": "LSST",
   "language": "python",
   "name": "lsst"
  },
  "language_info": {
   "codemirror_mode": {
    "name": "ipython",
    "version": 3
   },
   "file_extension": ".py",
   "mimetype": "text/x-python",
   "name": "python",
   "nbconvert_exporter": "python",
   "pygments_lexer": "ipython3",
   "version": "3.11.7"
  }
 },
 "nbformat": 4,
 "nbformat_minor": 5
}
