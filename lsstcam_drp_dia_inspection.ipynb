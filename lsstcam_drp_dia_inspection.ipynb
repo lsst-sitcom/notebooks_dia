{
 "cells": [
  {
   "cell_type": "markdown",
   "id": "da680a3a-c1cb-4904-a963-57db015466d2",
   "metadata": {},
   "source": [
    "## Looking at Some LSSTCam DRP subtractions\n",
    "\n",
    "Notebook by Michael Wood-Vasey: <wmwv@pitt.edu>  \n",
    "Started 2025-05-16 based on similar notebook for ComCam  \n",
    "\n",
    "The first part of this notebook demonstrates how to look at sources from one image subtraction.  the first-round DIA results using the interactive firefly backend. It also provides guidance on obtaining clean DIA sources through flag selection and applying a signal-to-noise ratio cut. It serves as a starting point for those interested in evaluating the subtraction quality of the LSSTCam data.\n",
    "\n",
    "The second part of this notebook looks at the DIAObject catalog more broadly (for the same region of sky) and displays the image stamps (either from the visit images or the difference images) for a selected DIAObject."
   ]
  },
  {
   "cell_type": "code",
   "execution_count": null,
   "id": "11f4c489-c1ec-4dea-9dd8-08a221f8ac5d",
   "metadata": {},
   "outputs": [],
   "source": [
    "import matplotlib.pyplot as plt\n",
    "\n",
    "from lsst.daf.butler import Butler\n",
    "import lsst.afw.display as afwDisplay\n",
    "\n",
    "import lsst.geom\n",
    "\n",
    "import lsst.afw.image\n",
    "from lsst.afw.math import Warper, WarperConfig\n",
    "import lsst.afw.table\n",
    "\n",
    "from lsst.ip.diffim import AlardLuptonSubtractConfig, AlardLuptonSubtractTask\n",
    "from lsst.ip.diffim import GetTemplateConfig, GetTemplateTask\n",
    "from lsst.ip.diffim import DetectAndMeasureConfig, DetectAndMeasureTask"
   ]
  },
  {
   "cell_type": "code",
   "execution_count": null,
   "id": "758b830b-2fde-42e4-9b79-4a8b900461a3",
   "metadata": {},
   "outputs": [],
   "source": [
    "# Choose backend\n",
    "afwDisplay.setDefaultBackend(\"firefly\")\n",
    "# afwDisplay.setDefaultBackend(\"matplotlib\")"
   ]
  },
  {
   "cell_type": "code",
   "execution_count": null,
   "id": "5e275ec9-a02e-4279-a01a-81b6e0c5f1c9",
   "metadata": {},
   "outputs": [],
   "source": [
    "# Load collection\n",
    "repo = \"embargo_new\"\n",
    "# https://ls.st/campaigns\n",
    "# Follow to Intermittent Processing Campaigns for Cumulative DRP.\n",
    "collection = \"LSSTCam/runs/DRP/FL/w_2025_19/DM-50795\"\n",
    "\n",
    "instrument = \"LSSTCam\"\n",
    "\n",
    "butler = Butler(repo, collections=collection)\n",
    "\n",
    "name_skymap = \"lsst_cells_v1\"\n",
    "skymap = butler.get(\"skyMap\", skymap=name_skymap, collections=\"skymaps\")"
   ]
  },
  {
   "cell_type": "code",
   "execution_count": null,
   "id": "39c2299d-26c9-4bd5-915c-a28319607ec0",
   "metadata": {},
   "outputs": [],
   "source": [
    "butler.query_datasets(\"dia_source\")"
   ]
  },
  {
   "cell_type": "markdown",
   "id": "ccf9b7e6-b910-42dd-8c60-44320ea629e3",
   "metadata": {
    "execution": {
     "iopub.execute_input": "2024-11-12T22:04:53.697218Z",
     "iopub.status.busy": "2024-11-12T22:04:53.697073Z",
     "iopub.status.idle": "2024-11-12T22:04:53.699402Z",
     "shell.execute_reply": "2024-11-12T22:04:53.699052Z",
     "shell.execute_reply.started": "2024-11-12T22:04:53.697203Z"
    }
   },
   "source": [
    "### Identify data_ids from campaign"
   ]
  },
  {
   "cell_type": "markdown",
   "id": "38589c4d-5438-49b6-9518-836fe18c17c8",
   "metadata": {},
   "source": [
    "Translations\n",
    "\n",
    "New | Old\n",
    "--- | ---\n",
    "source | src\n",
    "visit_image | calexp\n",
    "template_detector | goodSeeingDiff_templateExp  \n",
    "source_detector\t | \n",
    "source\t  | \n",
    "difference_image_predetection | goodSeeingDiff_differenceTempExp  \n",
    "difference_kernel | goodSeeingDiff_psfMatchKernel  \n",
    "difference_kernel_sources | goodSeeingDiff_psfMatchSources  \n",
    "template_matched | goodSeeingDiff_matchedExp  \n",
    "dia_source_unstandardized | goodSeeingDiff_diaSrc  \n",
    "difference_image | goodSeeingDiff_differenceExp  \n",
    "dia_source_reliability | goodSeeingRealBogusSources  \n",
    "dia_source_detector | goodSeeingDiff_diaSrcTable  \n",
    "dia_source_visit | diaSourceTable  "
   ]
  },
  {
   "cell_type": "code",
   "execution_count": null,
   "id": "517ee39c-2d4b-4da6-9733-b8310281283a",
   "metadata": {},
   "outputs": [],
   "source": [
    "band = \"i\"\n",
    "\n",
    "datasetRefs_dia = butler.query_datasets(\"difference_image\", where=f\"band='{band}'\")"
   ]
  },
  {
   "cell_type": "code",
   "execution_count": null,
   "id": "2ad3fb84-bf1a-4d1c-9ef9-5d872b2f7f6f",
   "metadata": {},
   "outputs": [],
   "source": [
    "verbose = False\n",
    "if verbose:\n",
    "    for dr in datasetRefs_dia:\n",
    "        print(dr)\n",
    "\n",
    "print(f\"\\nFound {len(datasetRefs_dia)} differenceExps\")"
   ]
  },
  {
   "cell_type": "code",
   "execution_count": null,
   "id": "2df50d72-55b6-4961-8249-009ea19b824e",
   "metadata": {},
   "outputs": [],
   "source": [
    "i = 40\n",
    "data_id = datasetRefs_dia[i].dataId\n",
    "print(data_id)"
   ]
  },
  {
   "cell_type": "code",
   "execution_count": null,
   "id": "9f533d36-1879-40ea-8a5f-d76670162c90",
   "metadata": {},
   "outputs": [],
   "source": [
    "data_id = {\"instrument\": \"LSSTCam\", \"visit\": 2025042400229, \"detector\": 4}"
   ]
  },
  {
   "cell_type": "code",
   "execution_count": null,
   "id": "b91def5b-a543-4751-b677-7b4bab482566",
   "metadata": {},
   "outputs": [],
   "source": [
    "diff = butler.get(\"difference_image\", dataId=data_id)\n",
    "template = butler.get(\"template_detector\", dataId=data_id)\n",
    "image = butler.get(\"visit_image\", dataId=data_id)\n",
    "image_background = butler.get(\"visit_image_background\", dataId=data_id)"
   ]
  },
  {
   "cell_type": "code",
   "execution_count": null,
   "id": "8a876ba4-4dd4-4efd-b308-569d2af8d7c1",
   "metadata": {},
   "outputs": [],
   "source": [
    "source = butler.get(\"single_visit_star_footprints\", dataId=data_id)\n",
    "dia_source = butler.get(\"dia_source_unstandardized\", dataId=data_id)\n",
    "dia_source_detector = butler.get(\"dia_source_detector\", dataId=data_id)  # SDM-ified table.  Does not containg sky sources"
   ]
  },
  {
   "cell_type": "code",
   "execution_count": null,
   "id": "00e38a62-aa5d-4313-addc-f4caaf23e2aa",
   "metadata": {},
   "outputs": [],
   "source": [
    "afw_display = afwDisplay.Display(frame=1)\n",
    "\n",
    "afw_display.setMaskTransparency(80)\n",
    "# afw_display.scale(\"asinh\", -20, 50)\n",
    "afw_display.scale(\"linear\", \"zscale\")\n",
    "\n",
    "afw_display.mtv(template)"
   ]
  },
  {
   "cell_type": "code",
   "execution_count": null,
   "id": "48c75189-c16c-45cc-b15d-96e7f28e3374",
   "metadata": {},
   "outputs": [],
   "source": [
    "afw_display = afwDisplay.Display(frame=2)\n",
    "\n",
    "afw_display.setMaskTransparency(80)\n",
    "# afw_display.scale(\"asinh\", -2, 5)\n",
    "afw_display.scale(\"linear\", \"zscale\")\n",
    "\n",
    "afw_display.mtv(image)"
   ]
  },
  {
   "cell_type": "code",
   "execution_count": null,
   "id": "e6e869be-2b2c-4c93-9997-5fdb270482fb",
   "metadata": {},
   "outputs": [],
   "source": [
    "afw_display = afwDisplay.Display(frame=3)\n",
    "\n",
    "afw_display.setMaskTransparency(100)\n",
    "afw_display.scale(\"linear\", \"zscale\")\n",
    "afw_display.mtv(diff)"
   ]
  },
  {
   "cell_type": "markdown",
   "id": "468e4842-bde1-46d9-b20d-d90eef0f66d3",
   "metadata": {},
   "source": [
    "Then go to the Firefly window and click the \"link\" button in the toolbar (between the book of mask plans and the full-screen diagonal arrow).  Select \"Align and Lock Options\" -> \"by Pixel at Image Centers\" and then things will move together when you pan around and zoom in and out.  I don't know how to do this programatically as a set in the Notebook."
   ]
  },
  {
   "cell_type": "code",
   "execution_count": null,
   "id": "40cf8363-3960-4c99-8cbe-cd84cb9cbe43",
   "metadata": {},
   "outputs": [],
   "source": [
    "# We're mixing columsn from dia_src and dia_src_table\n",
    "# This is dangerous.  I don't think there is a guarantee that the ordering is the same.\n",
    "# But I want the flags from dia_src and the science flux from dia_src_table\n",
    "\n",
    "\"\"\"\n",
    "good = ~dia_src[\"slot_Shape_flag\"] & \\\n",
    "    (dia_src[\"base_PsfFlux_instFlux\"] / dia_src[\"base_PsfFlux_instFluxErr\"] > snr_threshold) & \\\n",
    "    ~dia_src[\"base_PixelFlags_flag_edge\"] & \\\n",
    "    ((dia_src_table[\"scienceFlux\"] / dia_src_table[\"scienceFluxErr\"]) < max_science_snr) & \\\n",
    "    ~dia_src_table[\"pixelFlags_streak\"]\n",
    "\"\"\"\n",
    "\n",
    "def good_cat(cat, snr_threshold=7.5, max_science_snr=200):\n",
    "    # If I were doing just dia_src_table, I'd do something like this:\n",
    "    good = (cat[\"snr\"] > snr_threshold) & \\\n",
    "        ~cat[\"shape_flag\"] & \\\n",
    "        ~cat[\"pixelFlags_bad\"] & \\\n",
    "        ~cat[\"pixelFlags_cr\"] & \\\n",
    "        ((cat[\"scienceFlux\"] / cat[\"scienceFluxErr\"]) < max_science_snr)\n",
    "\n",
    "    good_cat = cat[good].copy(deep=True)\n",
    "\n",
    "    return good_cat\n",
    "\n",
    "good_dia_source_detector = good_cat(dia_source_detector)\n",
    "\n",
    "print(f\"{len(good_dia_source_detector)} good DIA sources found out of {len(good_dia_source_detector)} detections.\")"
   ]
  },
  {
   "cell_type": "code",
   "execution_count": null,
   "id": "1c3b4cd4-80ed-4390-b76c-3c27763230bf",
   "metadata": {},
   "outputs": [],
   "source": [
    "good_dia_source_detector"
   ]
  },
  {
   "cell_type": "code",
   "execution_count": null,
   "id": "70c905a5-1503-4211-91af-2b66d11fd61a",
   "metadata": {},
   "outputs": [],
   "source": [
    "for (x, y) in zip(good_dia_source_detector[\"x\"], good_dia_source_detector[\"y\"]):\n",
    "    afw_display.dot(\"o\", x, y, size=20, ctype=\"green\")"
   ]
  },
  {
   "cell_type": "code",
   "execution_count": null,
   "id": "a8d55cf7-4c8e-4410-8658-a5e6888485a9",
   "metadata": {},
   "outputs": [],
   "source": [
    "good_dia_source_detector[\"scienceSnr\"] = good_dia_source_detector[\"scienceFlux\"] / good_dia_source_detector[\"scienceFluxErr\"]"
   ]
  },
  {
   "cell_type": "code",
   "execution_count": null,
   "id": "e57446ad-716f-4cc1-8d2a-ea58d12b918c",
   "metadata": {},
   "outputs": [],
   "source": [
    "# Candidates near the following x, y are real\n",
    "# 839.87, 164.02  # likely nearby galaxy\n",
    "# 1501, 3105  # likely nearby galaxy\n",
    "# 3940, 1263  # likely nearby galaxy\n",
    "#  157,  465  # no obvious galaxy nearby\n",
    "# 1155, 3230  # likely nearby galaxy"
   ]
  },
  {
   "cell_type": "code",
   "execution_count": null,
   "id": "bb28cca0-9902-4302-a07d-1e45cafe1317",
   "metadata": {},
   "outputs": [],
   "source": [
    "good_dia_source_detector[[\"ra\", \"dec\", \"x\", \"y\", \"snr\", \"scienceSnr\"]]"
   ]
  },
  {
   "cell_type": "code",
   "execution_count": null,
   "id": "dbbd6307-4554-418d-bdfd-bfa3689a0ffd",
   "metadata": {},
   "outputs": [],
   "source": [
    "cand_idx = 16\n",
    "src = good_dia_source_detector.loc[cand_idx] \n",
    "print(src[\"ra\"], src[\"dec\"])"
   ]
  },
  {
   "cell_type": "code",
   "execution_count": null,
   "id": "aa7fbf1a-2d59-4af9-b2fa-5c48d5995c36",
   "metadata": {},
   "outputs": [],
   "source": [
    "coord = lsst.geom.SpherePoint(src[\"ra\"], src[\"dec\"], units=lsst.geom.degrees)\n",
    "tract = skymap.findTract(coord)\n",
    "patch = tract.findPatch(coord)"
   ]
  },
  {
   "cell_type": "code",
   "execution_count": null,
   "id": "3fb98859-d7d9-474a-8318-c89cb1083f0c",
   "metadata": {},
   "outputs": [],
   "source": [
    "tract_data_id = {\"tract\": tract.tract_id, \"patch\": patch.getSequentialIndex(), \"skymap\": name_skymap}\n",
    "dia_object = butler.get(\"dia_object\", dataId=tract_data_id)\n",
    "dia_object_patch = butler.get(\"dia_object_patch\", dataId=tract_data_id)\n",
    "dia_object_forced_source_patch = butler.get(\"dia_object_forced_source\", dataId=tract_data_id)"
   ]
  },
  {
   "cell_type": "code",
   "execution_count": null,
   "id": "b2db2991-3fdf-447c-ae4e-b17e4175641f",
   "metadata": {},
   "outputs": [],
   "source": [
    "from astropy.coordinates import SkyCoord\n",
    "import astropy.units as u\n",
    "skycoord = SkyCoord(src[\"ra\"], src[\"dec\"], unit=u.deg)"
   ]
  },
  {
   "cell_type": "code",
   "execution_count": null,
   "id": "04ebf1a0-8661-479a-a284-bbffa7e7491e",
   "metadata": {},
   "outputs": [],
   "source": [
    "dia_coord = SkyCoord(dia_object_patch[\"ra\"], dia_object_patch[\"dec\"], unit=u.deg)\n",
    "idx, sep, _ = skycoord.match_to_catalog_sky(dia_coord)"
   ]
  },
  {
   "cell_type": "code",
   "execution_count": null,
   "id": "bdf1e741-1acc-4fcf-aa61-a40959d8a4fe",
   "metadata": {},
   "outputs": [],
   "source": [
    "dia_object_patch.iloc[idx]"
   ]
  },
  {
   "cell_type": "code",
   "execution_count": null,
   "id": "e05c8473-78ae-461f-a971-cad875fac7ea",
   "metadata": {},
   "outputs": [],
   "source": [
    "dia_object_forced_source_patch[idx]"
   ]
  },
  {
   "cell_type": "code",
   "execution_count": null,
   "id": "29c5eee2-1f5d-43e6-8fef-30390f403236",
   "metadata": {},
   "outputs": [],
   "source": [
    "print(len(dia_object_forced_source_patch))\n",
    "print(len(dia_object_patch))\n",
    "print(len(dia_object))"
   ]
  },
  {
   "cell_type": "code",
   "execution_count": null,
   "id": "c41fd0d9-bb03-4053-80ca-1be0c40bf863",
   "metadata": {},
   "outputs": [],
   "source": [
    "dia_object_patch.nDiaSources[(5 < dia_object_patch.nDiaSources) & (dia_object_patch.nDiaSources < 13)]"
   ]
  },
  {
   "cell_type": "code",
   "execution_count": null,
   "id": "c98aa4b6-c075-4fc0-94b9-0a3597523903",
   "metadata": {},
   "outputs": [],
   "source": [
    "# dia_object_id = 69259886701051909  # Variable star\n",
    "# dia_object_id = 69259886701051913  # Likely asteroid\n",
    "# dia_object_id = 69259886701051905  # Likely asteroid\n",
    "# dia_object_id = 69259886701051906  # Variable star\n",
    "# dia_object_id = 69259886701051907  # Variable star\n",
    "# dia_object_id = 69259886701051915  # Variable star\n",
    "# dia_object_id = 69259886701052373  # Variable star\n",
    "dia_object_id = 69259886701051927  # Variable star\n",
    "\n",
    "dia_object_patch.loc[dia_object_id]"
   ]
  },
  {
   "cell_type": "code",
   "execution_count": null,
   "id": "b2838911-bd73-4675-a1db-ef98831b5567",
   "metadata": {},
   "outputs": [],
   "source": [
    "foo = dia_object_forced_source_patch[(dia_object_forced_source_patch[\"diaObjectId\"] == dia_object_id) & (dia_object_forced_source_patch[\"band\"] == \"i\")]"
   ]
  },
  {
   "cell_type": "code",
   "execution_count": null,
   "id": "38ea93b1-9b8c-4f71-a7fd-68a09ce74ada",
   "metadata": {},
   "outputs": [],
   "source": [
    "# plt.errorbar(foo[\"visit\"], foo[\"psfFlux\"], foo[\"psfFluxErr\"], marker=\".\", linestyle=\"none\", color=\"blue\")\n",
    "plt.errorbar(foo[\"visit\"], foo[\"psfDiffFlux\"], foo[\"psfDiffFluxErr\"], marker=\".\", linestyle=\"none\", color=\"orange\")"
   ]
  },
  {
   "cell_type": "code",
   "execution_count": null,
   "id": "ed05dbd4-8977-4ea6-a1d8-6d8a69246cce",
   "metadata": {},
   "outputs": [],
   "source": [
    "foo"
   ]
  },
  {
   "cell_type": "markdown",
   "id": "31cac770-068e-4612-886f-f7056286404a",
   "metadata": {},
   "source": [
    "Let's go through and look at the cutout stamps"
   ]
  },
  {
   "cell_type": "code",
   "execution_count": null,
   "id": "3d337843-d8c6-4269-aaf3-8a5f2743b224",
   "metadata": {},
   "outputs": [],
   "source": [
    "def cutout_image(butler, ra, dec, visit, detector, cutoutSideLength=51, dataset_type=\"visit_image\", **kwargs):\n",
    "    \n",
    "    \"\"\"\n",
    "    Produce a cutout from an image at the given ra, dec position.\n",
    "\n",
    "    If the cutout extends beyond the data array then an error will be triggered.\n",
    "\n",
    "    Parameters\n",
    "    ----------\n",
    "    butler: lsst.daf.persistence.Butler\n",
    "        Helper object providing access to a data repository\n",
    "    ra: float\n",
    "        Right ascension of the center of the cutout, in degrees\n",
    "    dec: float\n",
    "        Declination of the center of the cutout, in degrees\n",
    "    visit: int\n",
    "        Visit id of the image's visit\n",
    "    detector: int\n",
    "        Detector for the image\n",
    "    cutoutSideLength: float [optional]\n",
    "        Size of the cutout region in pixels.\n",
    "    dataset_type: str\n",
    "        dataset_type\n",
    "        \"visit_image\", \"template_matched\", \"difference_image\", ...\n",
    "\n",
    "    Returns\n",
    "    -------\n",
    "    MaskedImage\n",
    "    \"\"\"\n",
    "    \n",
    "    data_id = {\"visit\": visit, \"detector\": detector}    \n",
    "    radec = lsst.geom.SpherePoint(ra, dec, lsst.geom.degrees)\n",
    "    cutoutSize = lsst.geom.ExtentI(cutoutSideLength, cutoutSideLength)    \n",
    "    wcs = butler.get(dataset_type+\".wcs\", **data_id)\n",
    "    xy = lsst.geom.PointI(wcs.skyToPixel(radec))\n",
    "    bbox = lsst.geom.BoxI(xy - cutoutSize // 2, cutoutSize)\n",
    "    parameters = {'bbox': bbox}\n",
    "    cutout_image = butler.get(dataset_type, parameters=parameters, **data_id)\n",
    "\n",
    "    return cutout_image"
   ]
  },
  {
   "cell_type": "code",
   "execution_count": null,
   "id": "adc4d3c1-2755-467c-8611-614792eb570e",
   "metadata": {},
   "outputs": [],
   "source": [
    "afwDisplay.setDefaultBackend(\"matplotlib\")"
   ]
  },
  {
   "cell_type": "code",
   "execution_count": null,
   "id": "11d76c2a-4e33-4671-a9da-d38606150c33",
   "metadata": {},
   "outputs": [],
   "source": [
    "i = 0\n",
    "cutout = cutout_image(butler, ra=foo[\"coord_ra\"][i], dec=foo[\"coord_dec\"][i], visit=foo[\"visit\"][i], detector=foo[\"detector\"][i])"
   ]
  },
  {
   "cell_type": "code",
   "execution_count": null,
   "id": "2e1ee586-4d4f-48d9-a6ce-5d83009e289a",
   "metadata": {},
   "outputs": [],
   "source": [
    "dataset_type = \"difference_image\"\n",
    "# dataset_type = \"visit_image\"\n",
    "for i, row in enumerate(foo):\n",
    "    print(row[\"visit\"])\n",
    "    try:\n",
    "        cutout = cutout_image(butler, ra=row[\"coord_ra\"], dec=row[\"coord_dec\"], visit=row[\"visit\"], detector=row[\"detector\"], dataset_type=dataset_type)\n",
    "    except FileNotFoundError as e:\n",
    "        print(e)\n",
    "        continue\n",
    "    except ValueError as e:\n",
    "        print(e)\n",
    "        continue\n",
    "    except FitsError as e:\n",
    "        print(e)\n",
    "        continue\n",
    "\n",
    "    afw_display = afwDisplay.Display(frame=i)\n",
    "    afw_display.scale(\"linear\", \"zscale\")\n",
    "    afw_display.mtv(cutout)\n"
   ]
  },
  {
   "cell_type": "code",
   "execution_count": null,
   "id": "4f351f63-28c3-4011-bd54-14c7532db6c5",
   "metadata": {},
   "outputs": [],
   "source": []
  },
  {
   "cell_type": "code",
   "execution_count": null,
   "id": "b19b792e-c508-428b-8c47-50a4fbaad62d",
   "metadata": {},
   "outputs": [],
   "source": [
    "dia_object_patch.columns"
   ]
  },
  {
   "cell_type": "code",
   "execution_count": null,
   "id": "665d51e6-d5d6-4a2b-87cb-84228f2cf313",
   "metadata": {},
   "outputs": [],
   "source": []
  }
 ],
 "metadata": {
  "kernelspec": {
   "display_name": "LSST",
   "language": "python",
   "name": "lsst"
  },
  "language_info": {
   "codemirror_mode": {
    "name": "ipython",
    "version": 3
   },
   "file_extension": ".py",
   "mimetype": "text/x-python",
   "name": "python",
   "nbconvert_exporter": "python",
   "pygments_lexer": "ipython3",
   "version": "3.12.10"
  }
 },
 "nbformat": 4,
 "nbformat_minor": 5
}
