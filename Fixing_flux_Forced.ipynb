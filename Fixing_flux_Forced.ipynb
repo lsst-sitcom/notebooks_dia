{
 "cells": [
  {
   "cell_type": "code",
   "execution_count": null,
   "metadata": {},
   "outputs": [],
   "source": [
    "# %pip install scipy\n",
    "\n",
    "import numpy as np\n",
    "import matplotlib.pyplot as plt\n",
    "import matplotlib\n",
    "import pandas as pd\n",
    "from tqdm import tqdm\n",
    "\n",
    "from scipy.spatial import ConvexHull\n",
    "\n",
    "import lsst.daf.butler as dafButler\n",
    "import  lsst.geom as geom\n",
    "from lsst.geom import Point2I, Point2D\n",
    "\n",
    "from mpl_toolkits.axes_grid1 import make_axes_locatable\n",
    "from astropy.visualization import ZScaleInterval, SqrtStretch, ImageNormalize, ManualInterval, AsinhStretch, MinMaxInterval, LogStretch\n",
    "\n",
    "\n",
    "import warnings\n",
    "warnings.filterwarnings('ignore')\n",
    "warnings.simplefilter('ignore')\n",
    "\n",
    "from typing import TYPE_CHECKING, cast\n",
    "\n",
    "import astropy.units as u\n",
    "from astropy.coordinates import SkyCoord\n",
    "\n",
    "plt.set_loglevel('WARNING')"
   ]
  },
  {
   "cell_type": "code",
   "execution_count": null,
   "metadata": {},
   "outputs": [],
   "source": [
    "def get_lsst_cutout(butler, visit_id, detector_id, ra, dec, size=100, instrument=\"LSSTComCam\"):\n",
    "    \"\"\"\n",
    "    Extracts and visualizes an image cutout from LSST data using a Butler.\n",
    "\n",
    "    Parameters:\n",
    "    -----------\n",
    "    butler : lsst.daf.butler.Butler\n",
    "        The data butler instance.\n",
    "    visit_id : int\n",
    "        The LSST visit ID.\n",
    "    detector_id : int\n",
    "        The detector ID.\n",
    "    ra : float\n",
    "        Right Ascension (RA) in degrees.\n",
    "    dec : float\n",
    "        Declination (Dec) in degrees.\n",
    "    size : int, optional\n",
    "        The size of the cutout (default: 100 pixels).\n",
    "    instrument : str, optional\n",
    "        The LSST instrument name (default: \"LSSTComCam\").\n",
    "\n",
    "    Returns:\n",
    "    --------\n",
    "    None\n",
    "        Displays a plot of the extracted image cutout.\n",
    "    \"\"\"\n",
    "\n",
    "    # Load the full image\n",
    "    full_image = butler.get(\n",
    "        'calexp',\n",
    "        visit=visit_id,\n",
    "        detector=detector_id,\n",
    "        instrument=instrument,\n",
    "    )\n",
    "\n",
    "    # Get WCS and convert sky coordinates to pixel coordinates\n",
    "    wcs = full_image.getWcs()\n",
    "    xy = geom.Point2D(wcs.skyToPixel(geom.SpherePoint(ra, dec, geom.degrees)))\n",
    "\n",
    "    # Get detector bounding box\n",
    "    detector_box = full_image.getDetector().getBBox()\n",
    "\n",
    "    # Define cutout size and create a bounding box\n",
    "    cutout_size = geom.Extent2I(size, size)\n",
    "    cutout_box = geom.Box2I(geom.Point2I(xy) - cutout_size // 2, cutout_size)\n",
    "    cutout_box = cutout_box.clippedTo(detector_box)\n",
    "\n",
    "    # Extract the cutout\n",
    "    cutout = butler.get(\n",
    "        'calexp',\n",
    "        visit=visit_id,\n",
    "        detector=detector_id,\n",
    "        instrument=instrument,\n",
    "        parameters={'bbox': cutout_box},\n",
    "    )\n",
    "\n",
    "    # Convert to NumPy array\n",
    "    image_array = cutout.getImage().getArray()\n",
    "\n",
    "    # Apply ZScale normalization\n",
    "    interval = ZScaleInterval()\n",
    "    vmin, vmax = interval.get_limits(image_array)\n",
    "\n",
    "    # Compute relative pixel position inside cutout\n",
    "    cutout_origin = cutout_box.getMin()  # Bottom-left corner of cutout in full image\n",
    "    xy_cutout = (xy.getX() - cutout_origin.getX(), xy.getY() - cutout_origin.getY())\n",
    "\n",
    "    # Plot the image\n",
    "    fig, ax = plt.subplots(figsize=(6, 6))\n",
    "    \n",
    "    # Create an axis divider for the colorbar\n",
    "    divider = make_axes_locatable(ax)\n",
    "    cax = divider.append_axes(\"right\", size=\"5%\", pad=0.05)  # Reduce colorbar width\n",
    "\n",
    "    im = ax.imshow(image_array, cmap='gray', vmin=vmin, vmax=vmax, origin='lower')\n",
    "\n",
    "    # Add red dot at (RA, Dec) transformed to cutout coordinates\n",
    "    ax.scatter(xy_cutout[0], xy_cutout[1], color='red', s=50, marker='o', edgecolors='black', label=\"Target Position\")\n",
    "\n",
    "    # Add tighter colorbar\n",
    "    cbar = fig.colorbar(im, cax=cax)\n",
    "    cbar.set_label(\"Pixel Value\")\n",
    "\n",
    "    # Titles and labels\n",
    "    ax.set_title(f\"Visit {visit_id}, Detector {detector_id}, RA: {ra:.6f}, Dec: {dec:.6f}\")\n",
    "    ax.set_xlabel(\"X Pixels\")\n",
    "    ax.set_ylabel(\"Y Pixels\")\n",
    "\n",
    "    plt.show()"
   ]
  },
  {
   "cell_type": "code",
   "execution_count": null,
   "metadata": {},
   "outputs": [],
   "source": [
    "# Load collection\n",
    "repo = '/repo/main'\n",
    "instrument = \"LSSTComCam\"\n",
    "collection = 'LSSTComCam/runs/DRP/DP1/w_2025_04/DM-48556'\n",
    "butler= dafButler.Butler(repo, collections=collection, instrument=instrument)\n",
    "\n",
    "# older collections\n",
    "repo_old = \"embargo_new\"\n",
    "\n",
    "butler_50 = dafButler.Butler(repo_old, collections=\"LSSTComCam/runs/DRP/20241101_20241211/w_2024_50/DM-48128\", instrument=instrument)\n",
    "butler_49 = dafButler.Butler(repo_old, collections=\"LSSTComCam/runs/DRP/20241101_20241204/w_2024_49/DM-47988\", instrument=instrument)\n",
    "butler_48 = dafButler.Butler(repo_old, collections=\"LSSTComCam/runs/DRP/20241101_20241127/w_2024_48/DM-47841\", instrument=instrument)\n"
   ]
  },
  {
   "cell_type": "code",
   "execution_count": null,
   "metadata": {},
   "outputs": [],
   "source": [
    "visit_id = 2024110900195\n",
    "detector_id = 3"
   ]
  },
  {
   "cell_type": "code",
   "execution_count": null,
   "metadata": {},
   "outputs": [],
   "source": [
    "# Retrieve exposure\n",
    "exp = butler.get(\"calexp\", visit=visit_id, detector=detector_id)\n",
    "\n",
    "# Get WCS and compute sky footprint\n",
    "wcs = exp.getWcs()\n",
    "bbox = exp.getBBox()\n",
    "\n",
    "# Convert pixel corners to celestial coordinates\n",
    "corners = [wcs.pixelToSky(Point2D(p.getX(), p.getY())) for p in bbox.getCorners()]\n",
    "\n",
    "# Load skymap\n",
    "name_skymap = \"lsst_cells_v1\"\n",
    "skymap = butler.get(\"skyMap\", skymap=name_skymap, collections=\"skymaps\")\n",
    "\n",
    "# Find tract and patch\n",
    "for tract_info in skymap:\n",
    "    # Check if ANY corner is inside the tract\n",
    "    corners_in_tract = [corner for corner in corners if tract_info.contains(corner)]\n",
    "    \n",
    "    if corners_in_tract:  # Only process if at least one corner is inside the tract\n",
    "        print(f\"Tract: {tract_info.tract_id}\")\n",
    "\n",
    "        try:\n",
    "            # Find patch using a corner that is confirmed to be inside the tract\n",
    "            patch_info = tract_info.findPatch(corners_in_tract[0])\n",
    "            print(patch_info)\n",
    "        except LookupError:\n",
    "            print(f\"Warning: Coordinate {corners_in_tract[0]} is not in tract {tract_info.tract_id}\")\n",
    "            break  # Break out of the loop if there's an issue"
   ]
  },
  {
   "cell_type": "code",
   "execution_count": null,
   "metadata": {},
   "outputs": [],
   "source": [
    "corners"
   ]
  },
  {
   "cell_type": "code",
   "execution_count": null,
   "metadata": {},
   "outputs": [],
   "source": [
    "radec = geom.SpherePoint(53.21167, -28.20111, geom.degrees)\n",
    "tractInfo = skymap.findTract(radec)\n",
    "patchInfo = tractInfo.findPatch(radec)\n",
    "print(tractInfo, patchInfo)"
   ]
  },
  {
   "cell_type": "code",
   "execution_count": null,
   "metadata": {},
   "outputs": [],
   "source": [
    "forcedSourceTable1 = butler.get('forcedSourceTable', dataId={'skymap': 'lsst_cells_v1','tract': 5063, 'patch': 4})\n"
   ]
  },
  {
   "cell_type": "code",
   "execution_count": null,
   "metadata": {},
   "outputs": [],
   "source": [
    "src_1 = forcedSourceTable1.loc[190910612346244393]\n",
    "src_2 = forcedSourceTable1.loc[191684656742008265]"
   ]
  },
  {
   "cell_type": "code",
   "execution_count": null,
   "metadata": {},
   "outputs": [],
   "source": [
    "obj_1 = forcedSourceTable1[forcedSourceTable1['objectId'] == 2226748540758003742]"
   ]
  },
  {
   "cell_type": "code",
   "execution_count": null,
   "metadata": {},
   "outputs": [],
   "source": [
    "obj_1_u = obj_1[obj_1['band'] == 'u']"
   ]
  },
  {
   "cell_type": "code",
   "execution_count": null,
   "metadata": {},
   "outputs": [],
   "source": [
    "plt.scatter(obj_1_u['visit'], obj_1_u['psfFlux'].values)"
   ]
  },
  {
   "cell_type": "code",
   "execution_count": null,
   "metadata": {},
   "outputs": [],
   "source": [
    "obj_1_u"
   ]
  },
  {
   "cell_type": "code",
   "execution_count": null,
   "metadata": {},
   "outputs": [],
   "source": [
    "obj_id = 2226748540758003742"
   ]
  },
  {
   "cell_type": "code",
   "execution_count": null,
   "metadata": {},
   "outputs": [],
   "source": [
    "src_1.visit"
   ]
  },
  {
   "cell_type": "code",
   "execution_count": null,
   "metadata": {},
   "outputs": [],
   "source": [
    "mergedForcedSourceTable1 = butler.get('mergedForcedSource', dataId={'skymap': 'lsst_cells_v1','tract': 5063, 'detector': src_1.detector, \"visit\": src_1.visit})\n",
    "mergedForcedSourceTable2 = butler.get('mergedForcedSource', dataId={'skymap': 'lsst_cells_v1','tract': 5063, 'detector': src_2.detector, \"visit\": src_2.visit})"
   ]
  },
  {
   "cell_type": "code",
   "execution_count": null,
   "metadata": {},
   "outputs": [],
   "source": [
    "pd.set_option('display.max_rows', None)\n",
    "mergedForcedSourceTable1.loc[obj_id]"
   ]
  },
  {
   "cell_type": "code",
   "execution_count": null,
   "metadata": {},
   "outputs": [],
   "source": [
    "pd.set_option('display.max_rows', None)\n",
    "mergedForcedSourceTable2.loc[obj_id]"
   ]
  },
  {
   "cell_type": "code",
   "execution_count": null,
   "metadata": {},
   "outputs": [],
   "source": [
    "get_lsst_cutout(butler, src_1.visit, src_1.detector, src_1.coord_ra, src_1.coord_dec, size=60)"
   ]
  },
  {
   "cell_type": "code",
   "execution_count": null,
   "metadata": {},
   "outputs": [],
   "source": [
    "get_lsst_cutout(butler, src_2.visit, src_2.detector, src_2.coord_ra, src_2.coord_dec, size=60)"
   ]
  },
  {
   "cell_type": "code",
   "execution_count": null,
   "metadata": {},
   "outputs": [],
   "source": [
    "list_of_ap_flux = []\n",
    "list_of_visits = []\n",
    "list_of_psf_flux_area = []\n",
    "list_of_psf_flux = []\n",
    "for i in range(0, len(obj_1_u)):\n",
    "    src_single = obj_1_u.iloc[i]\n",
    "    mergedForcedSourceTable_single = butler.get('mergedForcedSource', dataId={'skymap': 'lsst_cells_v1','tract': 5063, 'detector': src_single.detector, \"visit\": src_single.visit})\n",
    "    mergedForcedSourceTable_single_single_obj = mergedForcedSourceTable_single.loc[obj_id]\n",
    "    list_of_visits.append(src_single.visit)\n",
    "    list_of_ap_flux.append(mergedForcedSourceTable_single_single_obj['calexp']['base_CircularApertureFlux_12_0_instFlux'])\n",
    "    list_of_psf_flux_area.append(mergedForcedSourceTable_single_single_obj['calexp']['slot_PsfFlux_area'])\n",
    "    list_of_psf_flux.append(mergedForcedSourceTable_single_single_obj['calexp']['slot_PsfFlux_instFlux'])"
   ]
  },
  {
   "cell_type": "code",
   "execution_count": null,
   "metadata": {},
   "outputs": [],
   "source": [
    "plt.figure(figsize=(10, 5))\n",
    "\n",
    "plt.subplot(2, 1, 1)\n",
    "plt.scatter(np.arange(len(list_of_ap_flux)), list_of_ap_flux, label= 'base_CircularApertureFlux_12_0_instFlux')\n",
    "plt.scatter(np.arange(len(list_of_ap_flux)), list_of_psf_flux, label = 'slot_PsfFlux_instFlux')\n",
    "plt.legend()\n",
    "plt.subplot(2, 1, 2)\n",
    "plt.scatter(np.arange(len(list_of_ap_flux)), list_of_psf_flux_area, label = 'slot_PsfFlux_area')\n",
    "plt.legend()\n"
   ]
  },
  {
   "cell_type": "code",
   "execution_count": null,
   "metadata": {},
   "outputs": [],
   "source": [
    "# Colin Slater suggests to check if psfArea is wrong for the whole visit when is it wrong for one object\n",
    "\n",
    "# let us look at only one visit\n",
    "\n"
   ]
  },
  {
   "cell_type": "code",
   "execution_count": null,
   "metadata": {},
   "outputs": [],
   "source": [
    "mergedForcedSourceTable_single_single_obj\n",
    "\n",
    "print(mergedForcedSourceTable_single_single_obj['calexp']['base_CircularApertureFlux_12_0_instFlux'])\n",
    "print(mergedForcedSourceTable_single_single_obj['calexp']['slot_PsfFlux_area'])\n",
    "print(mergedForcedSourceTable_single_single_obj['calexp']['slot_PsfFlux_instFlux'])"
   ]
  },
  {
   "cell_type": "code",
   "execution_count": 89,
   "metadata": {},
   "outputs": [
    {
     "name": "stdout",
     "output_type": "stream",
     "text": [
      "3 2024110900206\n",
      "3 2024110900195\n"
     ]
    }
   ],
   "source": [
    "i = 5\n",
    "src_single = obj_1_u.iloc[i]\n",
    "mergedForcedSourceTable_single = butler.get('mergedForcedSource', dataId={'skymap': 'lsst_cells_v1','tract': 5063, 'detector': src_single.detector, \"visit\": src_single.visit})\n",
    "mergedForcedSourceTable_single_single_obj = mergedForcedSourceTable_single.loc[obj_id]\n",
    "print(src_single.detector, src_single.visit)\n",
    "\n",
    "list_of_ap_flux_many_src=[]\n",
    "list_of_psf_flux_area_many_src=[]\n",
    "list_of_psf_flux_many_src=[]\n",
    "for i in range(0, len(mergedForcedSourceTable_single)):\n",
    "    mergedForcedSourceTable_single_single_obj = mergedForcedSourceTable_single.iloc[i]\n",
    "\n",
    "    list_of_ap_flux_many_src.append(mergedForcedSourceTable_single_single_obj['calexp']['base_CircularApertureFlux_12_0_instFlux'])\n",
    "    list_of_psf_flux_area_many_src.append(mergedForcedSourceTable_single_single_obj['calexp']['slot_PsfFlux_area'])\n",
    "    list_of_psf_flux_many_src.append(mergedForcedSourceTable_single_single_obj['calexp']['slot_PsfFlux_instFlux'])\n",
    "\n",
    "array_of_ap_flux_many_src_good_visit = np.array(list_of_ap_flux_many_src)\n",
    "array_of_psf_flux_area_many_src_good_visit = np.array(list_of_psf_flux_area_many_src)\n",
    "array_of_psf_flux_many_src_good_visit=np.array(list_of_psf_flux_many_src)\n",
    "\n",
    "##############################################################################################################\n",
    "\n",
    "i = 4\n",
    "src_single = obj_1_u.iloc[i]\n",
    "mergedForcedSourceTable_single = butler.get('mergedForcedSource', dataId={'skymap': 'lsst_cells_v1','tract': 5063, 'detector': src_single.detector, \"visit\": src_single.visit})\n",
    "mergedForcedSourceTable_single_single_obj = mergedForcedSourceTable_single.loc[obj_id]\n",
    "print(src_single.detector, src_single.visit)\n",
    "\n",
    "list_of_ap_flux_many_src=[]\n",
    "list_of_psf_flux_area_many_src=[]\n",
    "list_of_psf_flux_many_src=[]\n",
    "for i in range(0, len(mergedForcedSourceTable_single)):\n",
    "    mergedForcedSourceTable_single_single_obj = mergedForcedSourceTable_single.iloc[i]\n",
    "\n",
    "    list_of_ap_flux_many_src.append(mergedForcedSourceTable_single_single_obj['calexp']['base_CircularApertureFlux_12_0_instFlux'])\n",
    "    list_of_psf_flux_area_many_src.append(mergedForcedSourceTable_single_single_obj['calexp']['slot_PsfFlux_area'])\n",
    "    list_of_psf_flux_many_src.append(mergedForcedSourceTable_single_single_obj['calexp']['slot_PsfFlux_instFlux'])\n",
    " \n",
    "array_of_ap_flux_many_src_bad_visit = np.array(list_of_ap_flux_many_src)\n",
    "array_of_psf_flux_area_many_src_bad_visit = np.array(list_of_psf_flux_area_many_src)\n",
    "array_of_psf_flux_many_src_bad_visit=np.array(list_of_psf_flux_many_src)"
   ]
  },
  {
   "cell_type": "code",
   "execution_count": 94,
   "metadata": {},
   "outputs": [
    {
     "data": {
      "image/png": "[encoded data removed]",
      "text/plain": [
       "<Figure size 1000x500 with 2 Axes>"
      ]
     },
     "metadata": {},
     "output_type": "display_data"
    }
   ],
   "source": [
    "plt.figure(figsize=(10, 5))\n",
    "\n",
    "# First subplot\n",
    "plt.subplot(1, 2, 1)\n",
    "plt.scatter(np.log10(array_of_ap_flux_many_src_good_visit), np.log10(array_of_psf_flux_many_src_good_visit))\n",
    "plt.plot(np.arange(0, 8, 1), np.arange(0, 8, 1), color='red')\n",
    "plt.xlabel('log10(ap_Flux)')\n",
    "plt.ylabel('log10(psf_Flux)')\n",
    "plt.title('vis=2024110900206, det=3')  # Title for first subplot\n",
    "plt.xlim(0, 8)\n",
    "plt.ylim(0, 8)\n",
    "\n",
    "# Second subplot\n",
    "plt.subplot(1, 2, 2)\n",
    "plt.scatter(np.log10(array_of_ap_flux_many_src_bad_visit), np.log10(array_of_psf_flux_many_src_bad_visit))\n",
    "plt.plot(np.arange(0, 8, 1), np.arange(0, 8, 1), color='red')\n",
    "plt.xlabel('log10(ap_Flux)')\n",
    "plt.ylabel('log10(psf_Flux)')\n",
    "plt.title('vis=2024110900195, det=3')  # Title for second subplot\n",
    "plt.xlim(0, 8)\n",
    "plt.ylim(0, 8)\n",
    "\n",
    "plt.suptitle('Comparison of Fluxes for Different Visits, same field')  # Figure-wide title\n",
    "plt.tight_layout()  # Adjust layout to prevent overlap\n",
    "plt.show()"
   ]
  },
  {
   "cell_type": "code",
   "execution_count": null,
   "metadata": {},
   "outputs": [],
   "source": []
  }
 ],
 "metadata": {
  "kernelspec": {
   "display_name": "Python 3 (ipykernel)",
   "language": "python",
   "name": "python3"
  },
  "language_info": {
   "codemirror_mode": {
    "name": "ipython",
    "version": 3
   },
   "file_extension": ".py",
   "mimetype": "text/x-python",
   "name": "python",
   "nbconvert_exporter": "python",
   "pygments_lexer": "ipython3",
   "version": "3.11.9"
  }
 },
 "nbformat": 4,
 "nbformat_minor": 2
}
