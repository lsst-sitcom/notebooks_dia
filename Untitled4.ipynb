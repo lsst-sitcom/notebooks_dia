{
 "cells": [
  {
   "cell_type": "code",
   "execution_count": 2,
   "id": "24265667-5437-44d5-a708-3fee857496c0",
   "metadata": {
    "execution": {
     "iopub.execute_input": "2023-10-26T15:51:09.600869Z",
     "iopub.status.busy": "2023-10-26T15:51:09.600441Z",
     "iopub.status.idle": "2023-10-26T15:51:13.263591Z",
     "shell.execute_reply": "2023-10-26T15:51:13.263101Z",
     "shell.execute_reply.started": "2023-10-26T15:51:09.600853Z"
    },
    "tags": []
   },
   "outputs": [],
   "source": [
    "# AP LSST import\n",
    "from lsst.analysis.ap import apdb\n",
    "import lsst.daf.butler as dafButler"
   ]
  },
  {
   "cell_type": "code",
   "execution_count": 6,
   "id": "1a8b764e-7280-499a-a382-8be79659a2cb",
   "metadata": {
    "execution": {
     "iopub.execute_input": "2023-10-26T17:14:53.293055Z",
     "iopub.status.busy": "2023-10-26T17:14:53.292811Z",
     "iopub.status.idle": "2023-10-26T17:14:55.759221Z",
     "shell.execute_reply": "2023-10-26T17:14:55.758782Z",
     "shell.execute_reply.started": "2023-10-26T17:14:53.293043Z"
    },
    "tags": []
   },
   "outputs": [],
   "source": [
    "repo = \"/sdf/group/rubin/repo/embargo/\"\n",
    "butler = dafButler.Butler(repo)\n",
    "instrument = 'LATISS'\n",
    "apdbQuery = apdb.ApdbSqliteQuery(filename = '/home/n/ncaplar/WORK/apdb.db',\\\n",
    "                                   butler=butler, instrument=instrument)\n"
   ]
  },
  {
   "cell_type": "code",
   "execution_count": 7,
   "id": "fafd329d-d3c5-4ebb-949f-330dedb380f9",
   "metadata": {
    "execution": {
     "iopub.execute_input": "2023-10-26T17:15:06.935682Z",
     "iopub.status.busy": "2023-10-26T17:15:06.935343Z",
     "iopub.status.idle": "2023-10-26T17:15:06.938766Z",
     "shell.execute_reply": "2023-10-26T17:15:06.938398Z",
     "shell.execute_reply.started": "2023-10-26T17:15:06.935666Z"
    },
    "tags": []
   },
   "outputs": [
    {
     "data": {
      "text/plain": [
       "<lsst.analysis.ap.apdb.ApdbSqliteQuery at 0x7f30ff692c50>"
      ]
     },
     "execution_count": 7,
     "metadata": {},
     "output_type": "execute_result"
    }
   ],
   "source": [
    "apdbQuery"
   ]
  },
  {
   "cell_type": "code",
   "execution_count": 5,
   "id": "e00815ad-4bb5-49a5-a4b0-39618f97c09d",
   "metadata": {
    "execution": {
     "iopub.execute_input": "2023-10-26T17:14:41.578259Z",
     "iopub.status.busy": "2023-10-26T17:14:41.577986Z",
     "iopub.status.idle": "2023-10-26T17:14:41.581375Z",
     "shell.execute_reply": "2023-10-26T17:14:41.581000Z",
     "shell.execute_reply.started": "2023-10-26T17:14:41.578245Z"
    },
    "tags": []
   },
   "outputs": [
    {
     "data": {
      "text/plain": [
       "'/home/n/ncaplar/github/notebooks_dia'"
      ]
     },
     "execution_count": 5,
     "metadata": {},
     "output_type": "execute_result"
    }
   ],
   "source": [
    "import os\n",
    "current_path = os.getcwd()\n",
    "current_path"
   ]
  },
  {
   "cell_type": "code",
   "execution_count": null,
   "id": "5cfd1f9f-b8c9-4567-b5f1-47e27954d2c4",
   "metadata": {},
   "outputs": [],
   "source": []
  }
 ],
 "metadata": {
  "kernelspec": {
   "display_name": "LSST",
   "language": "python",
   "name": "lsst"
  },
  "language_info": {
   "codemirror_mode": {
    "name": "ipython",
    "version": 3
   },
   "file_extension": ".py",
   "mimetype": "text/x-python",
   "name": "python",
   "nbconvert_exporter": "python",
   "pygments_lexer": "ipython3",
   "version": "3.11.4"
  }
 },
 "nbformat": 4,
 "nbformat_minor": 5
}
